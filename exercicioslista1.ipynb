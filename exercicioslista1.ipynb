{
  "nbformat": 4,
  "nbformat_minor": 0,
  "metadata": {
    "colab": {
      "name": "exercicios.ipynb",
      "provenance": [],
      "include_colab_link": true
    },
    "kernelspec": {
      "name": "python3",
      "display_name": "Python 3"
    },
    "language_info": {
      "name": "python"
    }
  },
  "cells": [
    {
      "cell_type": "markdown",
      "metadata": {
        "id": "view-in-github",
        "colab_type": "text"
      },
      "source": [
        "<a href=\"https://colab.research.google.com/github/HumbertoFF/PYTHON/blob/main/exercicios.ipynb\" target=\"_parent\"><img src=\"https://colab.research.google.com/assets/colab-badge.svg\" alt=\"Open In Colab\"/></a>"
      ]
    },
    {
      "cell_type": "markdown",
      "metadata": {
        "id": "schpZkvm45c6"
      },
      "source": [
        ""
      ]
    },
    {
      "cell_type": "markdown",
      "metadata": {
        "id": "hdBVFgBt5WGZ"
      },
      "source": [
        "**EXERCÍCIOS DE APRENDIZADO**\n",
        "\n",
        "1.Construa um algoritmo que, tendo como dados de entrada dois pontos quaisquer no plano, P(x1,y1) e P(x2,y2), escreva a distância entre eles. \n",
        "A fórmula que efetua tal cálculo é:\n",
        "$\n",
        "\\sqrt{(x2 - X1)^2 + (Y2 - Y1)^2}\n",
        "$"
      ]
    },
    {
      "cell_type": "code",
      "metadata": {
        "id": "EbsnjVzY3BQN",
        "outputId": "c97cc2e3-dcd3-4517-f550-e15923d529f5",
        "colab": {
          "base_uri": "https://localhost:8080/"
        }
      },
      "source": [
        "#IMPORTAR A BIBILIOTECA MATEMÁTICA\n",
        "import math\n",
        "#DECLARAÇÃO DAS VARIÁVEIS DE ENTRADA \n",
        "x1 = float(input(\"Entre com a coordenada x1 do primeiro ponto: \"))\n",
        "y1 = float(input(\"Entre com a coordenada y1 do primeiro ponto: \"))\n",
        "x2 = float(input(\"Entre com a coordenada x2 do primeiro ponto: \"))\n",
        "y2 = float(input(\"Entre com a coordenada y2 do primeiro ponto: \"))\n",
        "\n",
        "#FÓRMULA DO CÁLCULO DA DISTÂNCIA DE DOIS PONTOS \n",
        "d = math.sqrt((x2 - x1)**2 + (y2 - y1)**2)\n",
        "#SAÍDA DOS DADOS\n",
        "print(\"A DISTÂNICA ENTRE OS DOIS PONTOS É: \",d)\n"
      ],
      "execution_count": null,
      "outputs": [
        {
          "output_type": "stream",
          "name": "stdout",
          "text": [
            "Entre com a coordenada x1 do primeiro ponto: 2\n",
            "Entre com a coordenada y1 do primeiro ponto: 2\n",
            "Entre com a coordenada x2 do primeiro ponto: 4\n",
            "Entre com a coordenada y2 do primeiro ponto: 5\n",
            "A DISTÂNICA ENTRE OS DOIS PONTOS É:  3.605551275463989\n"
          ]
        }
      ]
    },
    {
      "cell_type": "markdown",
      "metadata": {
        "id": "228bEMvO_Yl1"
      },
      "source": [
        "2.Faça um algoritmo que leia as 3 notas de um aluno e calcule a média final deste aluno. Considerar que a média é ponderada e que o peso das notas é: 2,3 e 5, respectivamente."
      ]
    },
    {
      "cell_type": "code",
      "metadata": {
        "id": "ZN0IsTHh_kGo",
        "outputId": "d01ef6f7-b332-4173-a6cb-267c5cf4b47e",
        "colab": {
          "base_uri": "https://localhost:8080/"
        }
      },
      "source": [
        "#DECLARAÇÃO DAS VARIÁVEIS DE ENTRADA \n",
        "nota1 = float(input(\"Insira o valor da primeira nota \"))\n",
        "nota2 = float(input(\"Insira o valor da segunda nota \"))\n",
        "nota3 = float(input(\"Insira o valor da terceira nota \"))\n",
        "\n",
        "#Fórmula da média ponderada.\n",
        "media = ((nota1*2)+(nota2*3)+(nota3*5))/10\n",
        "\n",
        "#SAÍDA DOS DADOS\n",
        "print(\"A MÉDIA PONDERADA DO ALUNO É: \",media)"
      ],
      "execution_count": null,
      "outputs": [
        {
          "output_type": "stream",
          "name": "stdout",
          "text": [
            "Insira o valor da primeira nota 5\n",
            "Insira o valor da segunda nota 3\n",
            "Insira o valor da terceira nota 5\n",
            "A MÉDIA PONDERADA DO ALUNO É:  4.4\n"
          ]
        }
      ]
    },
    {
      "cell_type": "markdown",
      "metadata": {
        "id": "5OTNr7Jh_k52"
      },
      "source": [
        "\n",
        "3.O custo ao consumidor de um carro novo é a soma do custo de fábrica com a percentagem do distribuidor e dos impostos (aplicados ao custo de fábrica). Supondo que a percentagem do distribuidor seja de 28% e os impostos de 45%, escrever um algoritmo que leia o custo de fábrica de um carro e escreva o custo ao consumidor."
      ]
    },
    {
      "cell_type": "code",
      "metadata": {
        "id": "MZqpLOjo_uCn",
        "outputId": "8b4a30d8-0c6e-452f-ffe6-9b17e94498a2",
        "colab": {
          "base_uri": "https://localhost:8080/"
        }
      },
      "source": [
        "#ENTRADA DO VALOR DO VEÍCULO PARA A FÁBRICA\n",
        "valordefabrica = float(input(\"INSIRA O VALOR DE CUSTO DA FÁBRICA R$ \"))\n",
        "#DECLARAÇÃO DAS VARIÁVEIS\n",
        "perdistribuidor = 0.28\n",
        "impostos = 0.45\n",
        "\n",
        "#CÁLCULO DO VALOR AO CONSUMIDOR\n",
        "custoaoconsumidor = valordefabrica*(1 + perdistribuidor + impostos)\n",
        "\n",
        "#SAÍDAS DOS DADOS\n",
        "print(\"VALOR DO VEÍCULO AO CONSUMIDOR É R$\",custoaoconsumidor)"
      ],
      "execution_count": null,
      "outputs": [
        {
          "output_type": "stream",
          "name": "stdout",
          "text": [
            "INSIRA O VALOR DE CUSTO DA FÁBRICA R$ 50000\n",
            "VALOR DO VEÍCULO AO CONSUMIDOR É R$ 86500.0\n"
          ]
        }
      ]
    },
    {
      "cell_type": "markdown",
      "metadata": {
        "id": "yfJJ6VRs_uwT"
      },
      "source": [
        "4.Um sistema de equações lineares do tipo:\n",
        "\n",
        "$ax + by = c$\n",
        "\n",
        "$dx + ey = f$\n",
        "\n",
        " Escreva um algoritmo que lê os coeficientes a,b,c,d,e e f e calcula e mostra os valores de x e y. Solução do sistema:\n",
        "\n",
        " $x = \\frac{ce-bf}{ae - bd}$\n",
        "\n",
        "  $y = \\frac{af-cd}{ae - bd}$"
      ]
    },
    {
      "cell_type": "code",
      "metadata": {
        "id": "bOrA7G1zEDNs",
        "outputId": "06230663-15b1-4726-9b2a-fc5c8fe441a8",
        "colab": {
          "base_uri": "https://localhost:8080/"
        }
      },
      "source": [
        "#ENTRADA DOS VALORES DAS VARIÁVEIS\n",
        "a = float(input(\"INSIRA O VALOR DE a NA EQUAÇÃO ax+by=c \"))\n",
        "b = float(input(\"INSIRA O VALOR DE b NA EQUAÇÃO ax+by=c \"))\n",
        "c = float(input(\"INSIRA O VALOR DE c NA EQUAÇÃO ax+by=c \"))\n",
        "d = float(input(\"INSIRA O VALOR DE d NA EQUAÇÃO dx+ey=f \"))\n",
        "e = float(input(\"INSIRA O VALOR DE e NA EQUAÇÃO dx+ey=f \"))\n",
        "f = float(input(\"INSIRA O VALOR DE f NA EQUAÇÃO dx+ey=f \"))\n",
        "#CÁLCULO DO SISTEMA LINEAR\n",
        "x = ((c*e)-(b*f))/((a*e)-(b*d))\n",
        "y = ((a*f)-(c*d))/((a*e)-(b*d))\n",
        "#SAÍDA DOS DADOS\n",
        "print(\"O VALOR DE X É: \",x,\" E O VALOR DE Y É: \",y)\n"
      ],
      "execution_count": null,
      "outputs": [
        {
          "output_type": "stream",
          "name": "stdout",
          "text": [
            "INSIRA O VALOR DE a NA EQUAÇÃO ax+by=c 1\n",
            "INSIRA O VALOR DE b NA EQUAÇÃO ax+by=c 1\n",
            "INSIRA O VALOR DE c NA EQUAÇÃO ax+by=c 19\n",
            "INSIRA O VALOR DE d NA EQUAÇÃO dx+ey=f 2\n",
            "INSIRA O VALOR DE e NA EQUAÇÃO dx+ey=f 1\n",
            "INSIRA O VALOR DE f NA EQUAÇÃO dx+ey=f 31\n",
            "O VALOR DE X É:  12.0  E O VALOR DE Y É:  7.0\n"
          ]
        }
      ]
    },
    {
      "cell_type": "markdown",
      "metadata": {
        "id": "7ASew0UjEDsc"
      },
      "source": [
        "5.Escrever um algoritmo que lê:\n",
        "\n",
        "- a percentagem do IPI a ser acrescido no valor das peças\n",
        "- o código da peça 1, valor unitário da peça 1, quantidade de peças 1\n",
        "- o código da peça 2, valor unitário da peça 2, quantidade de peças 2\n",
        "\n",
        "O algoritmo deve calcular o valor total a ser pago e apresentar o resultado.\n",
        "\n",
        "Fórmula : $(valor1*quant1 + valor2*quant2)*(IPI/100 + 1)$"
      ]
    },
    {
      "cell_type": "code",
      "metadata": {
        "id": "JOBiMabUEV9E",
        "colab": {
          "base_uri": "https://localhost:8080/"
        },
        "outputId": "2d5abef4-e903-49f8-9946-df3abc8aebe5"
      },
      "source": [
        "#ENTRADA DAS VARIÁVEIS\n",
        "IPI = float(input(\"INSIRA O VALOR DA PERCENTAGEM DO IPI \"))\n",
        "COD1 = int(input(\"INSIRA O CÓD DA PEÇA 1 \"))\n",
        "VALOR1 = float(input(\"INSIRA O VALOR UNITÁRIO DA PEÇA 1 \"))\n",
        "QUANT1 = float(input(\"INSIRA A QUANTIDADE DA PEÇA 1 \"))\n",
        "COD2 = int(input(\"INSIRA O CÓD DA PEÇA 2 \"))\n",
        "VALOR2 = float(input(\"INSIRA O VALOR UNITÁRIO DA PEÇA 2 \"))\n",
        "QUANT2 = float(input(\"INSIRA A QUANTIDADE DA PEÇA 2 \"))\n",
        "\n",
        "#ARRAY COM OS DADOS DAS PEÇAS\n",
        "PECA1 = [COD1,VALOR1,QUANT1]\n",
        "PECA2 = [COD2,VALOR2,QUANT2]\n",
        "#FÓRMULA PARA CÁLCULO DA NOTA\n",
        "VALORPAGO = (VALOR1*QUANT1+VALOR2+QUANT2)*((IPI/100)+1)\n",
        "\n",
        "print(\"O VALOR TOTAL A SER PAGO É R$\",VALORPAGO)\n",
        "print(\"INFORMAÇÕES PEÇA COD: \",PECA1[0], \"VALOR: R$\",PECA1[1], \"QUANTIDADE: \",PECA1[2])\n",
        "print(\"INFORMAÇÕES PEÇA COD: \",PECA2[0], \"VALOR: R$\",PECA2[1], \"QUANTIDADE: \",PECA2[2])"
      ],
      "execution_count": null,
      "outputs": [
        {
          "output_type": "stream",
          "name": "stdout",
          "text": [
            "INSIRA O VALOR DA PERCENTAGEM DO IPI 15\n",
            "INSIRA O CÓD DA PEÇA 1 001\n",
            "INSIRA O VALOR UNITÁRIO DA PEÇA 1 150\n",
            "INSIRA A QUANTIDADE DA PEÇA 1 15\n",
            "INSIRA O CÓD DA PEÇA 2 300\n",
            "INSIRA O VALOR UNITÁRIO DA PEÇA 2 30\n",
            "INSIRA A QUANTIDADE DA PEÇA 2 10\n",
            "O VALOR TOTAL A SER PAGO É R$ 2633.5\n",
            "INFORMAÇÕES PEÇA COD:  1 VALOR: R$ 150.0 QUANTIDADE:  15.0\n",
            "INFORMAÇÕES PEÇA COD:  300 VALOR: R$ 30.0 QUANTIDADE:  10.0\n"
          ]
        }
      ]
    },
    {
      "cell_type": "markdown",
      "metadata": {
        "id": "EYP96mo_EWvJ"
      },
      "source": [
        "6- Construa um algoritmo que calcule seu peso ideal, utilizando as seguintes fórmulas:\n",
        "\n",
        "- para homens: (72.7*h)-58\n",
        "\n",
        "- para mulheres: (62.1*h)-44.7"
      ]
    },
    {
      "cell_type": "code",
      "metadata": {
        "id": "dDjnOtvyEkzN",
        "colab": {
          "base_uri": "https://localhost:8080/"
        },
        "outputId": "b7103c5e-8e6f-43c0-85ce-119767c4fd9c"
      },
      "source": [
        "#ENTRADA DAS VARIÁVEIS\n",
        "ALTURA = float(input(\"DIGITE A SUA ALTURA E METROS  \"))\n",
        "SEXO = input(\"DIGITE M PARA SEXO MASCULINO E F PARA SEXO FEMININO \")\n",
        "#CONDIÇÃO PARA ENTRADA DE DADOS\n",
        "if SEXO == \"M\" or SEXO == \"m\" :\n",
        "  PESO = (72.7*ALTURA)-58 #FÓRMULA DO PESO IDEAL\n",
        "  print(f'SEU PESO IDEAL DEVE SER KG {PESO:.2f}')\n",
        "elif SEXO == \"F\" or SEXO == \"f\":\n",
        "  PESO = (62.1*ALTURA)-44.7 #FÓRMULA DO PESO IDEAL\n",
        "  print(f'SEU PESO IDEAL DEVE SER KG {PESO:.2f}') #IMPRESSÃO DOS DADOS COM 2 CASAS DECIMAIS\n",
        "else: print(\"INFORMAÇÃO ERRADA INSERIDA\")\n"
      ],
      "execution_count": null,
      "outputs": [
        {
          "output_type": "stream",
          "name": "stdout",
          "text": [
            "DIGITE A SUA ALTURA E METROS  1.60\n",
            "DIGITE M PARA SEXO MASCULINO E F PARA SEXO FEMININO F\n",
            "SEU PESO IDEAL DEVE SER KG 54.66\n"
          ]
        }
      ]
    },
    {
      "cell_type": "markdown",
      "metadata": {
        "id": "pSHUsX9wEmC7"
      },
      "source": [
        "7.Construa um algoritmo que calcule o fatoria de um número fornecido."
      ]
    },
    {
      "cell_type": "code",
      "metadata": {
        "id": "zI_SMK8DEtIv",
        "colab": {
          "base_uri": "https://localhost:8080/"
        },
        "outputId": "c9ceac8c-5341-4a8e-be52-a7c935c52e8e"
      },
      "source": [
        "#IMPORTAÇÃO DA BIBLIOTECA\n",
        "import math\n",
        "#ENTRADA DO NÚMERO\n",
        "NUMERO =  int(input(\"INSIRA O NUMERO PARA CALCULAR O FATORIAL \"))\n",
        " #SAÍDA DO FATORIAL ATRAVÉS DA FUNÇÃO A BIBLIOTECA\n",
        "print(\"O VALOR DO FATORIAL É \",math.factorial(NUMERO))"
      ],
      "execution_count": null,
      "outputs": [
        {
          "output_type": "stream",
          "name": "stdout",
          "text": [
            "INSIRA O NUMERO PARA CALCULAR O FATORIAL 5\n",
            "O VALOR DO FATORIAL É  120\n"
          ]
        }
      ]
    },
    {
      "cell_type": "markdown",
      "metadata": {
        "id": "_wvIhB4sEt1D"
      },
      "source": [
        "8 - Construa um algoritmo que receba dois números inteiros e informe qual é o maior entre os números digitados.\n"
      ]
    },
    {
      "cell_type": "code",
      "source": [
        "a = int(input(\"Digite o valor de a \"))\n",
        "\n",
        "b = int(input(\"Digite o valor de b \"))\n",
        "\n",
        "if a > b: \n",
        " print(\"a é maior que b \")\n",
        "else:\n",
        "  if b > a:\n",
        "   print(\"b é maior que a \")\n",
        "  else:\n",
        "    if a == b:\n",
        "     print(\"a é igual a b, tente novamente \")"
      ],
      "metadata": {
        "id": "E1ZvCKueI-7d"
      },
      "execution_count": null,
      "outputs": []
    },
    {
      "cell_type": "markdown",
      "source": [
        "9- Ler um valor numerico inteiro e informar se o mesmo é impar ou par\n"
      ],
      "metadata": {
        "id": "QXmTEpgVJDtL"
      }
    },
    {
      "cell_type": "code",
      "source": [
        "num = int(input(\"Digite o número e veja se é par ou impar: \"))\n",
        "\n",
        "if num % 2 != 0: \n",
        "  print(\"O número é ímpar. \")\n",
        "else:\n",
        "  if num % 2 == 0:\n",
        "   print(\"O número é par. \")\n",
        "\n"
      ],
      "metadata": {
        "id": "htMwRqKmJGgE"
      },
      "execution_count": null,
      "outputs": []
    },
    {
      "cell_type": "markdown",
      "source": [
        "10- Ler três valores numéricos diferentes de zero e representados pelas variáveis a,b e c. Efetuar o cálculo da equação de segundo grau ( utilizando a fórmula de Baskara ). Considerar todas as possiveis condições para delta < 0, delta > 0 e delta = 0."
      ],
      "metadata": {
        "id": "pTjPstoeJMFv"
      }
    },
    {
      "cell_type": "code",
      "source": [
        "a = float(input(\"Entre com o valor de a: \"))\n",
        "b = float(input(\"Entre com o valor de b: \"))\n",
        "c = float(input(\"Entre com o valor de c: \"))\n",
        "\n",
        "delta = (b ** 2) - 4 * a * c\n",
        "\n",
        "if a == 0 or b == 0 or c == 0:\n",
        "  print(\"Os valores devem ser diferentes de 0\")\n",
        "else:\n",
        "  print(\"O valor de delta é: \",delta)\n",
        "  if delta < 0:\n",
        "   print(\"Como delta é menor que zero, a equação não terá raízes reais, pois não existe raiz quadrada de número negativo.\")\n",
        "  else: \n",
        "   if delta == 0:\n",
        "     print(\"Como delta é igual a zero, a equação terá somente um valor real ou dois resultados iguais\")\n",
        "   elif delta > 0:\n",
        "     print(\"Como delta é maior que zero, a equação apresentará duas raízes reais e diferentes. \")\n",
        "   x1 = (-b + delta ** (1 / 2)) / (2 * a)\n",
        "   x2 = (-b - delta ** (1 / 2)) / (2 * a)\n",
        "\n",
        "   print(\"x1:\",x1, \"x2:\",x2)\n",
        "#REFERÊNCIA https://brasilescola.uol.com.br/matematica/raiz-uma-equacao-2-grau.htm"
      ],
      "metadata": {
        "id": "DWL8NIT6JWaq"
      },
      "execution_count": null,
      "outputs": []
    },
    {
      "cell_type": "markdown",
      "source": [
        "11- Ler um valor numerico inteiro e apresentar a mensagem se ele é divisível por 2 e por 3\n"
      ],
      "metadata": {
        "id": "amWT936xJoRK"
      }
    },
    {
      "cell_type": "code",
      "source": [
        "#Verificar se o número é divisível por 4 e por 5;\n",
        "valor = int(input(\"digite o valor inteiro que seja divisível por 2 e por 3 \"))\n",
        "if valor % 2 == 0 and valor % 3 == 0:\n",
        "  print(\"O número é divisível por 2 e 3 \")\n",
        "else:\n",
        "  print(\"Não é divisível por 2 e 3 \")\n"
      ],
      "metadata": {
        "id": "wFShEEZCJrae"
      },
      "execution_count": null,
      "outputs": []
    },
    {
      "cell_type": "markdown",
      "source": [
        "12- Ler três valores para os lados de um triângulo, considerando lados como: A,B e C. Verificar se os lados fornecidos realmente formam um triângulo. Caso verdade voce deverá indicar se o triângulo formado é: is´sceles, escaleno ou equilátero."
      ],
      "metadata": {
        "id": "KKtQ6JESJwwU"
      }
    },
    {
      "cell_type": "code",
      "source": [
        "A = float(input(\"INSIRA O VALOR DO LADO A \")) \n",
        "B = float(input(\"INSIRA O VALOR DO LADO B \"))\n",
        "C = float(input(\"INSIRA O VALOR DO LADO C \"))\n",
        "\n",
        "if (A - B) < C and C < (A + B):\n",
        "  if A != B and B != C:\n",
        "    print(\"Esse é um triângulo ESCALENO, pois todos os lados apresentarem medidas diferentes.\")\n",
        "  elif (A == B and B != C) or (B == C and C != A) :\n",
        "    print(\"Esse é um triângulo ISÓSCELES, pois dois de seus lados são congruentes, ou seja, apresentam a mesma medida, e o terceiro lado é diferente.\")\n",
        "  elif (A == B and B == C):\n",
        "    print(\"Esse é um triângulo EQUILÁTERO, pois todos os seus lados são iguais, isto é, todos os lados têm a mesma medida.\")\n",
        "else:\n",
        "  print(\"NÃO É POSSÍVEL FORMAR UM TRIÂNGULO COM ESSES VALORES\")"
      ],
      "metadata": {
        "id": "pVdrM4dMJz_H"
      },
      "execution_count": null,
      "outputs": []
    },
    {
      "cell_type": "markdown",
      "source": [
        "13 - Construa um algoritmo que calcule seu peso ideal, utilizando as seguintes fórmulas, e indique se há sobrepeso, conforme a tabela abaixo\n",
        "\n",
        "   * para homens: (72.7*h)-58\n",
        "\n",
        "    [ sobrepeso = 100 kg ]\n",
        "\n",
        "   * para mulheres: (62.1*h)-44.7\n",
        "  \n",
        "    [ sobrepeso = 80 kg ]\n"
      ],
      "metadata": {
        "id": "0s0GrnISJ2wI"
      }
    },
    {
      "cell_type": "code",
      "source": [
        "\n",
        "\n",
        "#ENTRADA DAS VARIÁVEIS\n",
        "ALTURA = float(input(\"DIGITE A SUA ALTURA EM METROS  \"))\n",
        "SEXO = input(\"DIGITE M PARA SEXO MASCULINO E F PARA SEXO FEMININO \")\n",
        "PESOATUAL = float(input(\"DIGITE SEU PESO ATUAL EM KG \"))\n",
        "#CONDIÇÃO PARA ENTRADA DE DADOS\n",
        "\n",
        "if SEXO == \"M\" or SEXO == \"m\" :\n",
        "  PESO = (72.7*ALTURA)-58 #FÓRMULA DO PESO IDEAL\n",
        "  if PESOATUAL >= 100:\n",
        "    print(\"VOCÊ ESTÁ COM SOBREPESO \")\n",
        "  \n",
        "  print(f'SEU PESO IDEAL DEVE SER KG {PESO:.2f}')\n",
        "elif SEXO == \"F\" or SEXO == \"f\":\n",
        "  PESO = (62.1*ALTURA)-44.7 #FÓRMULA DO PESO IDEAL\n",
        "  if PESOATUAL >= 80:\n",
        "    print(\"VOCÊ ESTÁ COM SOBREPESO \")\n",
        "  print(f'SEU PESO IDEAL DEVE SER KG {PESO:.2f}') #IMPRESSÃO DOS DADOS COM 2 CASAS DECIMAIS\n",
        "else: print(\"INFORMAÇÃO ERRADA INSERIDA\")\n",
        "\n"
      ],
      "metadata": {
        "id": "1-Hf_keGKH6J"
      },
      "execution_count": null,
      "outputs": []
    },
    {
      "cell_type": "markdown",
      "source": [
        "14 - Ler um valor númerico inteiro qualquer e apresentar o valor caso o mesmo não seja maior que 3. Utilizar o operador lógico not"
      ],
      "metadata": {
        "id": "PI_xuh1PKMJw"
      }
    },
    {
      "cell_type": "code",
      "source": [
        "num = int(input(\"Digite um número inteiro maior que 3 \"))\n",
        "\n",
        "if not num > 3:\n",
        "  print(\"Número não é maior que 3 \")\n",
        "else:\n",
        "  print(\"Número =\", num)"
      ],
      "metadata": {
        "id": "oxX23rCoKVLI"
      },
      "execution_count": null,
      "outputs": []
    },
    {
      "cell_type": "markdown",
      "source": [
        "15 - Considere que 5 times participam de um campeonato. Um deles é o seu preferido, para o time que você escolher como seu preferido escreva uma mensagem que justifique a sua torcida."
      ],
      "metadata": {
        "id": "Bw8843mVKWS5"
      }
    },
    {
      "cell_type": "code",
      "source": [
        "\n",
        "\n",
        "#entrada do time\n",
        "print(\" Escolha seu time: \")\n",
        "print(\" 1. América\")\n",
        "print(\" 2. ABC\")\n",
        "print(\" 3. Alecrim\")\n",
        "print(\" 4. Potiguar\")\n",
        "print(\" 5. Globo\")\n",
        "\n",
        "time = int(input(\" insira o número correspondente \"))\n",
        "if time == 1: \n",
        " print(\"Você americano\")\n",
        "elif time == 2: \n",
        " print(\"você é Abcdista\")\n",
        "elif time == 3:\n",
        " print(\"você é Alecrinense\")\n",
        "elif time == 4: \n",
        " print(\"você é potiguanhese\")\n",
        "elif time == 5: \n",
        " print(\"você é globoense\")\n",
        "else: \n",
        " print(\"número errado,escolha uma das opções\")\n",
        "\n"
      ],
      "metadata": {
        "id": "_7_SAU89KZqQ"
      },
      "execution_count": null,
      "outputs": []
    },
    {
      "cell_type": "markdown",
      "source": [
        "16 - Calcule o reajuste de salário de um funcionário, se o valor do salário atual for menor que 500 reais deve ter o aumento de 15%, porém se o valor do salário for de 500 até 1000 reais, deve ser reajustado em 10% e para salários acima de 1000 reais, deverá ajustar apenas 5%."
      ],
      "metadata": {
        "id": "3cpGwJ8EKZN2"
      }
    },
    {
      "cell_type": "code",
      "source": [
        "\n",
        "\n",
        "#cálculo do reajuste de salário de um funcionário. \n",
        "salario =  float(input(\"Digite o salário \"))\n",
        "novo_salario = 0\n",
        "if salario < 500:\n",
        "  novo_salario = salario * 1.15\n",
        "  print(\"salário aumentou 15% e foi para R$\"+str(novo_salario))\n",
        "elif salario <= 1000 :\n",
        "  novo_salario = salario * 1.10\n",
        "  print(\"salário aumentou 10% e foi para R$\"+str(novo_salario))\n",
        "else:\n",
        "  novo_salario = salario * 1.05\n",
        "  print(\"salário aumentou 5% e foi para R$\"+str(novo_salario))\n",
        "\n"
      ],
      "metadata": {
        "id": "s60Y1_rLLXPr"
      },
      "execution_count": null,
      "outputs": []
    },
    {
      "cell_type": "markdown",
      "source": [
        "17 - Insira um valor inteiro e verifique se o número é divisível por 4 e por 5."
      ],
      "metadata": {
        "id": "uO4DPFbiLeaP"
      }
    },
    {
      "cell_type": "code",
      "source": [
        "valor = int(input(\"Digite um valor inteiro para verificar se é divisível por 4 e por 5 \"))\n",
        "if valor % 4 == 0 and valor % 5 == 0:\n",
        "  print(\"O número é divisível por 4 e 5 \")\n",
        "else:\n",
        "  print(\"Não é divisível por 4 e 5 \")\n"
      ],
      "metadata": {
        "colab": {
          "base_uri": "https://localhost:8080/"
        },
        "id": "9s9SgWcmLlgj",
        "outputId": "03bcef1f-8415-4ada-c4ec-9a2b5ebe0c81"
      },
      "execution_count": 2,
      "outputs": [
        {
          "output_type": "stream",
          "name": "stdout",
          "text": [
            "digite o valor inteiro para verificar se é divisível por 4 e por 5 100\n",
            "O número é divisível por 4 e 5 \n"
          ]
        }
      ]
    }
  ]
}
