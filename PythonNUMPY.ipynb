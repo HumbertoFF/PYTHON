{
  "cells": [
    {
      "cell_type": "code",
      "execution_count": 2,
      "id": "c76b86cb",
      "metadata": {
        "_cell_guid": "b1076dfc-b9ad-4769-8c92-a6c4dae69d19",
        "_uuid": "8f2839f25d086af736a60e9eeb907d3b93b6e0e5",
        "execution": {
          "iopub.execute_input": "2022-06-28T21:23:57.474471Z",
          "iopub.status.busy": "2022-06-28T21:23:57.474052Z",
          "iopub.status.idle": "2022-06-28T21:23:57.494422Z",
          "shell.execute_reply": "2022-06-28T21:23:57.492830Z"
        },
        "papermill": {
          "duration": 0.034721,
          "end_time": "2022-06-28T21:23:57.497044",
          "exception": false,
          "start_time": "2022-06-28T21:23:57.462323",
          "status": "completed"
        },
        "tags": [],
        "id": "c76b86cb",
        "outputId": "7d5b2d0e-acf1-4811-d8c7-b048df64ee0a",
        "colab": {
          "base_uri": "https://localhost:8080/"
        }
      },
      "outputs": [
        {
          "output_type": "stream",
          "name": "stdout",
          "text": [
            "a: [1 3 5]\n",
            "b: [1 2 3]\n",
            "c: [[9. 8. 7.]\n",
            " [6. 5. 4.]]\n",
            "d: [[[ 1  2  3]\n",
            "  [ 4  5  6]]\n",
            "\n",
            " [[ 9  8  7]\n",
            "  [ 6  5  4]]\n",
            "\n",
            " [[ 3  5  7]\n",
            "  [ 6  8 10]]]\n"
          ]
        }
      ],
      "source": [
        "#Numpy Library\n",
        "\n",
        "import numpy as np\n",
        "\n",
        "a = np.array([1,3,5], dtype='int16')\n",
        "b = np.array([1,2,3])\n",
        "c = np.array([[9.0,8.0,7.0], [6.0,5.0,4.0]])\n",
        "d = np.array([[[1,2,3], [4,5,6]], [[9,8,7], [6,5,4]], [[3,5,7], [6,8,10]]])\n",
        "\n",
        "#Basics\n",
        "\n",
        "print(\"a:\",a)\n",
        "print(\"b:\",b)\n",
        "print(\"c:\",c)\n",
        "print(\"d:\",d)\n"
      ]
    },
    {
      "cell_type": "code",
      "execution_count": null,
      "id": "89800a39",
      "metadata": {
        "execution": {
          "iopub.execute_input": "2022-06-28T21:23:57.516650Z",
          "iopub.status.busy": "2022-06-28T21:23:57.516254Z",
          "iopub.status.idle": "2022-06-28T21:23:57.521876Z",
          "shell.execute_reply": "2022-06-28T21:23:57.520694Z"
        },
        "papermill": {
          "duration": 0.018423,
          "end_time": "2022-06-28T21:23:57.524419",
          "exception": false,
          "start_time": "2022-06-28T21:23:57.505996",
          "status": "completed"
        },
        "tags": [],
        "id": "89800a39",
        "outputId": "2b04cc24-27fe-4d7e-9869-cbb03195bb26"
      },
      "outputs": [
        {
          "name": "stdout",
          "output_type": "stream",
          "text": [
            "a * b = [ 1  6 15]\n"
          ]
        }
      ],
      "source": [
        "#Multiplication\n",
        "print(\"a * b =\", a*b)"
      ]
    },
    {
      "cell_type": "code",
      "execution_count": null,
      "id": "99e62141",
      "metadata": {
        "execution": {
          "iopub.execute_input": "2022-06-28T21:23:57.544141Z",
          "iopub.status.busy": "2022-06-28T21:23:57.543773Z",
          "iopub.status.idle": "2022-06-28T21:23:57.549810Z",
          "shell.execute_reply": "2022-06-28T21:23:57.548591Z"
        },
        "papermill": {
          "duration": 0.019675,
          "end_time": "2022-06-28T21:23:57.553111",
          "exception": false,
          "start_time": "2022-06-28T21:23:57.533436",
          "status": "completed"
        },
        "tags": [],
        "id": "99e62141",
        "outputId": "5f94cca4-5310-4129-cdde-c421de0aedf7"
      },
      "outputs": [
        {
          "name": "stdout",
          "output_type": "stream",
          "text": [
            "Dimensão de a: 1\n",
            "Dimensão de b: 1\n",
            "Dimensão de c: 2\n",
            "Dimensão de d: 3\n"
          ]
        }
      ],
      "source": [
        "#Get Dimension\n",
        "print(\"Dimensão de a:\", a.ndim)\n",
        "print(\"Dimensão de b:\", b.ndim)\n",
        "print(\"Dimensão de c:\", c.ndim)\n",
        "print(\"Dimensão de d:\", d.ndim)"
      ]
    },
    {
      "cell_type": "code",
      "execution_count": null,
      "id": "0c5901c0",
      "metadata": {
        "execution": {
          "iopub.execute_input": "2022-06-28T21:23:57.574020Z",
          "iopub.status.busy": "2022-06-28T21:23:57.573618Z",
          "iopub.status.idle": "2022-06-28T21:23:57.579686Z",
          "shell.execute_reply": "2022-06-28T21:23:57.578440Z"
        },
        "papermill": {
          "duration": 0.019442,
          "end_time": "2022-06-28T21:23:57.582595",
          "exception": false,
          "start_time": "2022-06-28T21:23:57.563153",
          "status": "completed"
        },
        "tags": [],
        "id": "0c5901c0",
        "outputId": "422eb495-ec98-4fc9-cc17-6e7d1cf714a5"
      },
      "outputs": [
        {
          "name": "stdout",
          "output_type": "stream",
          "text": [
            "Shape de a: (3,)\n",
            "Shape de c: (2, 3)\n",
            "Shape de d: (3, 2, 3)\n"
          ]
        }
      ],
      "source": [
        "#Get Shape\n",
        "print(\"Shape de a:\", a.shape)\n",
        "print(\"Shape de c:\", c.shape)\n",
        "print(\"Shape de d:\", d.shape)"
      ]
    },
    {
      "cell_type": "code",
      "execution_count": null,
      "id": "52cb11ec",
      "metadata": {
        "execution": {
          "iopub.execute_input": "2022-06-28T21:23:57.604012Z",
          "iopub.status.busy": "2022-06-28T21:23:57.603602Z",
          "iopub.status.idle": "2022-06-28T21:23:57.609625Z",
          "shell.execute_reply": "2022-06-28T21:23:57.608515Z"
        },
        "papermill": {
          "duration": 0.01988,
          "end_time": "2022-06-28T21:23:57.612680",
          "exception": false,
          "start_time": "2022-06-28T21:23:57.592800",
          "status": "completed"
        },
        "tags": [],
        "id": "52cb11ec",
        "outputId": "abbd469f-2207-4aa1-92fe-334b0c117702"
      },
      "outputs": [
        {
          "name": "stdout",
          "output_type": "stream",
          "text": [
            "Tipo de a: int16\n",
            "Tipo de b: int64\n",
            "Tipo de c: float64\n",
            "Tipo de d: int64\n"
          ]
        }
      ],
      "source": [
        "#Get Type\n",
        "print(\"Tipo de a:\", a.dtype)\n",
        "print(\"Tipo de b:\", b.dtype)\n",
        "print(\"Tipo de c:\", c.dtype)\n",
        "print(\"Tipo de d:\", d.dtype)"
      ]
    },
    {
      "cell_type": "code",
      "execution_count": null,
      "id": "f43c35ad",
      "metadata": {
        "execution": {
          "iopub.execute_input": "2022-06-28T21:23:57.633810Z",
          "iopub.status.busy": "2022-06-28T21:23:57.633376Z",
          "iopub.status.idle": "2022-06-28T21:23:57.640161Z",
          "shell.execute_reply": "2022-06-28T21:23:57.638900Z"
        },
        "papermill": {
          "duration": 0.019567,
          "end_time": "2022-06-28T21:23:57.642283",
          "exception": false,
          "start_time": "2022-06-28T21:23:57.622716",
          "status": "completed"
        },
        "tags": [],
        "id": "f43c35ad",
        "outputId": "6130a2a0-d446-484c-8359-4b33555d7685"
      },
      "outputs": [
        {
          "name": "stdout",
          "output_type": "stream",
          "text": [
            "Tamanho de a: 2\n",
            "Tamanho de b: 8\n",
            "Tamanho de c: 8\n",
            "Tamanho de d: 8\n"
          ]
        }
      ],
      "source": [
        "#Get Size\n",
        "print(\"Tamanho de a:\", a.itemsize)\n",
        "print(\"Tamanho de b:\", b.itemsize)\n",
        "print(\"Tamanho de c:\", c.itemsize)\n",
        "print(\"Tamanho de d:\", d.itemsize)"
      ]
    },
    {
      "cell_type": "code",
      "execution_count": null,
      "id": "91a13d5c",
      "metadata": {
        "execution": {
          "iopub.execute_input": "2022-06-28T21:23:57.663782Z",
          "iopub.status.busy": "2022-06-28T21:23:57.663405Z",
          "iopub.status.idle": "2022-06-28T21:23:57.669461Z",
          "shell.execute_reply": "2022-06-28T21:23:57.668427Z"
        },
        "papermill": {
          "duration": 0.019655,
          "end_time": "2022-06-28T21:23:57.671773",
          "exception": false,
          "start_time": "2022-06-28T21:23:57.652118",
          "status": "completed"
        },
        "tags": [],
        "id": "91a13d5c",
        "outputId": "9287d670-3907-4844-f74e-d887101b138e"
      },
      "outputs": [
        {
          "name": "stdout",
          "output_type": "stream",
          "text": [
            "Tamanho total de a:  6\n",
            "Número de bytes a: 6\n",
            "Número de bytes b: 24\n",
            "Número de bytes c: 48\n"
          ]
        }
      ],
      "source": [
        "#Get Total Size\n",
        "print(\"Tamanho total de a: \", a.size * a.itemsize)\n",
        "#or\n",
        "print(\"Número de bytes a:\", a.nbytes)\n",
        "print(\"Número de bytes b:\", b.nbytes)\n",
        "print(\"Número de bytes c:\", c.nbytes)"
      ]
    },
    {
      "cell_type": "markdown",
      "id": "998c349c",
      "metadata": {
        "papermill": {
          "duration": 0.00906,
          "end_time": "2022-06-28T21:23:57.690167",
          "exception": false,
          "start_time": "2022-06-28T21:23:57.681107",
          "status": "completed"
        },
        "tags": [],
        "id": "998c349c"
      },
      "source": [
        "Acessando e modificando elementos específicos"
      ]
    },
    {
      "cell_type": "code",
      "execution_count": null,
      "id": "b304f029",
      "metadata": {
        "execution": {
          "iopub.execute_input": "2022-06-28T21:23:57.710498Z",
          "iopub.status.busy": "2022-06-28T21:23:57.710099Z",
          "iopub.status.idle": "2022-06-28T21:23:57.717830Z",
          "shell.execute_reply": "2022-06-28T21:23:57.715987Z"
        },
        "papermill": {
          "duration": 0.020854,
          "end_time": "2022-06-28T21:23:57.720316",
          "exception": false,
          "start_time": "2022-06-28T21:23:57.699462",
          "status": "completed"
        },
        "tags": [],
        "id": "b304f029",
        "outputId": "740ebb98-60d1-4805-bc44-456802b67077"
      },
      "outputs": [
        {
          "name": "stdout",
          "output_type": "stream",
          "text": [
            "a: [[ 1  2  3  4  5  6  7]\n",
            " [ 8  9 10 11 12 13 14]]\n",
            "Shape de a: (2, 7)\n"
          ]
        }
      ],
      "source": [
        "#Accessing/Changing specific elements, rows, columns, etc\n",
        "\n",
        "a = np.array([[1,2,3,4,5,6,7], [8,9,10,11,12,13,14]])\n",
        "print(\"a:\", a)\n",
        "print(\"Shape de a:\", a.shape)"
      ]
    },
    {
      "cell_type": "code",
      "execution_count": null,
      "id": "f0a72d1a",
      "metadata": {
        "execution": {
          "iopub.execute_input": "2022-06-28T21:23:57.741503Z",
          "iopub.status.busy": "2022-06-28T21:23:57.741098Z",
          "iopub.status.idle": "2022-06-28T21:23:57.747130Z",
          "shell.execute_reply": "2022-06-28T21:23:57.745966Z"
        },
        "papermill": {
          "duration": 0.019293,
          "end_time": "2022-06-28T21:23:57.749277",
          "exception": false,
          "start_time": "2022-06-28T21:23:57.729984",
          "status": "completed"
        },
        "tags": [],
        "id": "f0a72d1a",
        "outputId": "b1da713e-0057-4b80-af1f-e74c60d1fb0a"
      },
      "outputs": [
        {
          "name": "stdout",
          "output_type": "stream",
          "text": [
            "6\n",
            "13\n"
          ]
        }
      ],
      "source": [
        "#Get a specific element [r,c]\n",
        "print(a[0,5])\n",
        "#Other notation\n",
        "print(a[1,-2])"
      ]
    },
    {
      "cell_type": "code",
      "execution_count": null,
      "id": "478bf2c4",
      "metadata": {
        "execution": {
          "iopub.execute_input": "2022-06-28T21:23:57.770828Z",
          "iopub.status.busy": "2022-06-28T21:23:57.770412Z",
          "iopub.status.idle": "2022-06-28T21:23:57.775699Z",
          "shell.execute_reply": "2022-06-28T21:23:57.774664Z"
        },
        "papermill": {
          "duration": 0.018773,
          "end_time": "2022-06-28T21:23:57.778233",
          "exception": false,
          "start_time": "2022-06-28T21:23:57.759460",
          "status": "completed"
        },
        "tags": [],
        "id": "478bf2c4",
        "outputId": "e222b159-8aad-4a8c-f2f0-ecdf5522f12a"
      },
      "outputs": [
        {
          "name": "stdout",
          "output_type": "stream",
          "text": [
            "[1 2 3 4 5 6 7]\n"
          ]
        }
      ],
      "source": [
        "#Get a specific row\n",
        "print(a[0,:])"
      ]
    },
    {
      "cell_type": "code",
      "execution_count": null,
      "id": "1bc1d268",
      "metadata": {
        "execution": {
          "iopub.execute_input": "2022-06-28T21:23:57.799292Z",
          "iopub.status.busy": "2022-06-28T21:23:57.798909Z",
          "iopub.status.idle": "2022-06-28T21:23:57.803512Z",
          "shell.execute_reply": "2022-06-28T21:23:57.802710Z"
        },
        "papermill": {
          "duration": 0.018258,
          "end_time": "2022-06-28T21:23:57.806120",
          "exception": false,
          "start_time": "2022-06-28T21:23:57.787862",
          "status": "completed"
        },
        "tags": [],
        "id": "1bc1d268",
        "outputId": "d33325d9-b810-4baf-9669-5a3c0ce6fbe0"
      },
      "outputs": [
        {
          "name": "stdout",
          "output_type": "stream",
          "text": [
            "[ 4 11]\n"
          ]
        }
      ],
      "source": [
        "#Get a specific column\n",
        "print(a[:,3])"
      ]
    },
    {
      "cell_type": "code",
      "execution_count": null,
      "id": "f24a9b66",
      "metadata": {
        "execution": {
          "iopub.execute_input": "2022-06-28T21:23:57.827159Z",
          "iopub.status.busy": "2022-06-28T21:23:57.826807Z",
          "iopub.status.idle": "2022-06-28T21:23:57.833049Z",
          "shell.execute_reply": "2022-06-28T21:23:57.831445Z"
        },
        "papermill": {
          "duration": 0.019729,
          "end_time": "2022-06-28T21:23:57.835539",
          "exception": false,
          "start_time": "2022-06-28T21:23:57.815810",
          "status": "completed"
        },
        "tags": [],
        "id": "f24a9b66",
        "outputId": "c25c3169-6a2a-4503-99b9-b4d1a29e0ed6"
      },
      "outputs": [
        {
          "name": "stdout",
          "output_type": "stream",
          "text": [
            "[2 4 6]\n"
          ]
        }
      ],
      "source": [
        "#Other way [startindex:endindex:stepsize]\n",
        "print(a[0, 1:6:2])"
      ]
    },
    {
      "cell_type": "code",
      "execution_count": null,
      "id": "c39d6da5",
      "metadata": {
        "execution": {
          "iopub.execute_input": "2022-06-28T21:23:57.857513Z",
          "iopub.status.busy": "2022-06-28T21:23:57.857106Z",
          "iopub.status.idle": "2022-06-28T21:23:57.863601Z",
          "shell.execute_reply": "2022-06-28T21:23:57.862431Z"
        },
        "papermill": {
          "duration": 0.020666,
          "end_time": "2022-06-28T21:23:57.866667",
          "exception": false,
          "start_time": "2022-06-28T21:23:57.846001",
          "status": "completed"
        },
        "tags": [],
        "id": "c39d6da5",
        "outputId": "789aef3b-143d-46cc-806f-5cd26a95ce42"
      },
      "outputs": [
        {
          "name": "stdout",
          "output_type": "stream",
          "text": [
            "[[ 1  2  3  4  5  6  7]\n",
            " [ 8  9 10 11 12 20 14]]\n"
          ]
        }
      ],
      "source": [
        "#Changing numbers\n",
        "a[1,5] =20\n",
        "print(a)"
      ]
    },
    {
      "cell_type": "code",
      "execution_count": null,
      "id": "9c58a498",
      "metadata": {
        "execution": {
          "iopub.execute_input": "2022-06-28T21:23:57.889097Z",
          "iopub.status.busy": "2022-06-28T21:23:57.888722Z",
          "iopub.status.idle": "2022-06-28T21:23:57.894015Z",
          "shell.execute_reply": "2022-06-28T21:23:57.893061Z"
        },
        "papermill": {
          "duration": 0.0194,
          "end_time": "2022-06-28T21:23:57.896518",
          "exception": false,
          "start_time": "2022-06-28T21:23:57.877118",
          "status": "completed"
        },
        "tags": [],
        "id": "9c58a498",
        "outputId": "d995710e-6dcf-4459-b930-c24cecd5e5fd"
      },
      "outputs": [
        {
          "name": "stdout",
          "output_type": "stream",
          "text": [
            "[[ 1  2  3 40  5  6  7]\n",
            " [ 8  9 10 21 12 20 14]]\n"
          ]
        }
      ],
      "source": [
        "#Changing a specific column\n",
        "a[:,3]= [40,21]\n",
        "print(a)"
      ]
    },
    {
      "cell_type": "code",
      "execution_count": null,
      "id": "4c1194f5",
      "metadata": {
        "execution": {
          "iopub.execute_input": "2022-06-28T21:23:57.917954Z",
          "iopub.status.busy": "2022-06-28T21:23:57.917564Z",
          "iopub.status.idle": "2022-06-28T21:23:57.922873Z",
          "shell.execute_reply": "2022-06-28T21:23:57.921939Z"
        },
        "papermill": {
          "duration": 0.020088,
          "end_time": "2022-06-28T21:23:57.926432",
          "exception": false,
          "start_time": "2022-06-28T21:23:57.906344",
          "status": "completed"
        },
        "tags": [],
        "id": "4c1194f5",
        "outputId": "056caeff-ad63-425d-bc17-6d177c47e911"
      },
      "outputs": [
        {
          "name": "stdout",
          "output_type": "stream",
          "text": [
            "[[[1 2]\n",
            "  [3 4]]\n",
            "\n",
            " [[5 6]\n",
            "  [7 8]]]\n"
          ]
        }
      ],
      "source": [
        "#3d-example\n",
        "b= np.array([[[1,2], [3,4]], [[5,6], [7,8]]])\n",
        "print(b)"
      ]
    },
    {
      "cell_type": "code",
      "execution_count": null,
      "id": "544d9436",
      "metadata": {
        "execution": {
          "iopub.execute_input": "2022-06-28T21:23:57.949460Z",
          "iopub.status.busy": "2022-06-28T21:23:57.948869Z",
          "iopub.status.idle": "2022-06-28T21:23:57.953762Z",
          "shell.execute_reply": "2022-06-28T21:23:57.952622Z"
        },
        "papermill": {
          "duration": 0.018986,
          "end_time": "2022-06-28T21:23:57.956465",
          "exception": false,
          "start_time": "2022-06-28T21:23:57.937479",
          "status": "completed"
        },
        "tags": [],
        "id": "544d9436",
        "outputId": "ab0cce0b-c93e-46f8-ab95-4523a31e1f41"
      },
      "outputs": [
        {
          "name": "stdout",
          "output_type": "stream",
          "text": [
            "4\n"
          ]
        }
      ],
      "source": [
        "#Get specific element (works outside in)\n",
        "print(b[0, 1, 1])"
      ]
    },
    {
      "cell_type": "code",
      "execution_count": null,
      "id": "f10cf0fb",
      "metadata": {
        "execution": {
          "iopub.execute_input": "2022-06-28T21:23:57.979218Z",
          "iopub.status.busy": "2022-06-28T21:23:57.978655Z",
          "iopub.status.idle": "2022-06-28T21:23:57.983961Z",
          "shell.execute_reply": "2022-06-28T21:23:57.982625Z"
        },
        "papermill": {
          "duration": 0.018899,
          "end_time": "2022-06-28T21:23:57.986011",
          "exception": false,
          "start_time": "2022-06-28T21:23:57.967112",
          "status": "completed"
        },
        "tags": [],
        "id": "f10cf0fb",
        "outputId": "6f437e75-0fbc-4452-842b-187b8d67133c"
      },
      "outputs": [
        {
          "name": "stdout",
          "output_type": "stream",
          "text": [
            "[[[ 1  2]\n",
            "  [ 3 10]]\n",
            "\n",
            " [[ 5  6]\n",
            "  [ 7  8]]]\n"
          ]
        }
      ],
      "source": [
        "#Replace\n",
        "b[0,1,1] = 10\n",
        "print(b)"
      ]
    },
    {
      "cell_type": "code",
      "execution_count": null,
      "id": "7f1d4c1c",
      "metadata": {
        "execution": {
          "iopub.execute_input": "2022-06-28T21:23:58.008439Z",
          "iopub.status.busy": "2022-06-28T21:23:58.007868Z",
          "iopub.status.idle": "2022-06-28T21:23:58.014275Z",
          "shell.execute_reply": "2022-06-28T21:23:58.012588Z"
        },
        "papermill": {
          "duration": 0.020578,
          "end_time": "2022-06-28T21:23:58.016631",
          "exception": false,
          "start_time": "2022-06-28T21:23:57.996053",
          "status": "completed"
        },
        "tags": [],
        "id": "7f1d4c1c",
        "outputId": "f15f1576-75c0-4bd4-f7a5-63e26663127f"
      },
      "outputs": [
        {
          "name": "stdout",
          "output_type": "stream",
          "text": [
            "[[5 6]\n",
            " [7 8]]\n",
            "[[[ 1  2]\n",
            "  [ 3 10]]\n",
            "\n",
            " [[11 12]\n",
            "  [13 14]]]\n"
          ]
        }
      ],
      "source": [
        "#Replace\n",
        "print(b[1, :,:])\n",
        "b[1, :,:] = [[11,12], [13,14]]\n",
        "print(b)"
      ]
    },
    {
      "cell_type": "code",
      "execution_count": 3,
      "id": "c65335f9",
      "metadata": {
        "execution": {
          "iopub.execute_input": "2022-06-28T21:23:58.039420Z",
          "iopub.status.busy": "2022-06-28T21:23:58.039046Z",
          "iopub.status.idle": "2022-06-28T21:23:58.044093Z",
          "shell.execute_reply": "2022-06-28T21:23:58.043230Z"
        },
        "papermill": {
          "duration": 0.020292,
          "end_time": "2022-06-28T21:23:58.047295",
          "exception": false,
          "start_time": "2022-06-28T21:23:58.027003",
          "status": "completed"
        },
        "tags": [],
        "id": "c65335f9",
        "outputId": "bf1e4b30-c456-4cb3-c319-28275d70a979",
        "colab": {
          "base_uri": "https://localhost:8080/"
        }
      },
      "outputs": [
        {
          "output_type": "stream",
          "name": "stdout",
          "text": [
            "[[0. 0. 0.]\n",
            " [0. 0. 0.]]\n"
          ]
        }
      ],
      "source": [
        "#Initializing different types of arrays\n",
        "#All 0s matrix\n",
        "print(np.zeros((2,3)))"
      ]
    },
    {
      "cell_type": "code",
      "execution_count": 4,
      "id": "52ad04d9",
      "metadata": {
        "execution": {
          "iopub.execute_input": "2022-06-28T21:23:58.070514Z",
          "iopub.status.busy": "2022-06-28T21:23:58.069903Z",
          "iopub.status.idle": "2022-06-28T21:23:58.077360Z",
          "shell.execute_reply": "2022-06-28T21:23:58.075952Z"
        },
        "papermill": {
          "duration": 0.021008,
          "end_time": "2022-06-28T21:23:58.079379",
          "exception": false,
          "start_time": "2022-06-28T21:23:58.058371",
          "status": "completed"
        },
        "tags": [],
        "id": "52ad04d9",
        "outputId": "2ec75a65-071a-43ce-98a8-83f721bd337c",
        "colab": {
          "base_uri": "https://localhost:8080/"
        }
      },
      "outputs": [
        {
          "output_type": "stream",
          "name": "stdout",
          "text": [
            "[[1 1 1 1 1]\n",
            " [1 1 1 1 1]\n",
            " [1 1 1 1 1]\n",
            " [1 1 1 1 1]]\n"
          ]
        }
      ],
      "source": [
        "#All 1s matrix\n",
        "print(np.ones((4,5), dtype='int32'))"
      ]
    },
    {
      "cell_type": "code",
      "execution_count": null,
      "id": "db3d058f",
      "metadata": {
        "execution": {
          "iopub.execute_input": "2022-06-28T21:23:58.101719Z",
          "iopub.status.busy": "2022-06-28T21:23:58.101297Z",
          "iopub.status.idle": "2022-06-28T21:23:58.106542Z",
          "shell.execute_reply": "2022-06-28T21:23:58.105675Z"
        },
        "papermill": {
          "duration": 0.019357,
          "end_time": "2022-06-28T21:23:58.108978",
          "exception": false,
          "start_time": "2022-06-28T21:23:58.089621",
          "status": "completed"
        },
        "tags": [],
        "id": "db3d058f",
        "outputId": "71ba14fd-faed-40c3-8e7d-bd80d1910f56"
      },
      "outputs": [
        {
          "name": "stdout",
          "output_type": "stream",
          "text": [
            "[[99 99 99 99 99 99 99]\n",
            " [99 99 99 99 99 99 99]\n",
            " [99 99 99 99 99 99 99]\n",
            " [99 99 99 99 99 99 99]\n",
            " [99 99 99 99 99 99 99]]\n"
          ]
        }
      ],
      "source": [
        "#Any other number\n",
        "print(np.full((5,7), 99))"
      ]
    },
    {
      "cell_type": "code",
      "execution_count": null,
      "id": "b93c0d0f",
      "metadata": {
        "execution": {
          "iopub.execute_input": "2022-06-28T21:23:58.132132Z",
          "iopub.status.busy": "2022-06-28T21:23:58.131540Z",
          "iopub.status.idle": "2022-06-28T21:23:58.137195Z",
          "shell.execute_reply": "2022-06-28T21:23:58.135678Z"
        },
        "papermill": {
          "duration": 0.020764,
          "end_time": "2022-06-28T21:23:58.140179",
          "exception": false,
          "start_time": "2022-06-28T21:23:58.119415",
          "status": "completed"
        },
        "tags": [],
        "id": "b93c0d0f",
        "outputId": "7ae5ec81-dc1d-4773-fd59-be61e1560277"
      },
      "outputs": [
        {
          "name": "stdout",
          "output_type": "stream",
          "text": [
            "[[9 9 9 9 9 9 9]\n",
            " [9 9 9 9 9 9 9]]\n"
          ]
        }
      ],
      "source": [
        "#Any other number \n",
        "c = np.full_like(a, 9)\n",
        "#other way c = np.full(a.shape, 4)\n",
        "print(c)"
      ]
    },
    {
      "cell_type": "code",
      "execution_count": null,
      "id": "5494b23e",
      "metadata": {
        "execution": {
          "iopub.execute_input": "2022-06-28T21:23:58.163399Z",
          "iopub.status.busy": "2022-06-28T21:23:58.162655Z",
          "iopub.status.idle": "2022-06-28T21:23:58.169610Z",
          "shell.execute_reply": "2022-06-28T21:23:58.168001Z"
        },
        "papermill": {
          "duration": 0.021702,
          "end_time": "2022-06-28T21:23:58.172606",
          "exception": false,
          "start_time": "2022-06-28T21:23:58.150904",
          "status": "completed"
        },
        "tags": [],
        "id": "5494b23e",
        "outputId": "858a3513-edb7-4b8f-da4f-e87d03abe6bf"
      },
      "outputs": [
        {
          "name": "stdout",
          "output_type": "stream",
          "text": [
            "[[0.3448694  0.93032507]\n",
            " [0.6735952  0.4870481 ]\n",
            " [0.69909413 0.97668705]\n",
            " [0.64381789 0.37121635]]\n"
          ]
        }
      ],
      "source": [
        "#Random decimal numbers - numbers between 0 and 1\n",
        "print(np.random.rand(4,2))"
      ]
    },
    {
      "cell_type": "code",
      "execution_count": null,
      "id": "d15dd749",
      "metadata": {
        "execution": {
          "iopub.execute_input": "2022-06-28T21:23:58.196209Z",
          "iopub.status.busy": "2022-06-28T21:23:58.195230Z",
          "iopub.status.idle": "2022-06-28T21:23:58.202082Z",
          "shell.execute_reply": "2022-06-28T21:23:58.200784Z"
        },
        "papermill": {
          "duration": 0.020882,
          "end_time": "2022-06-28T21:23:58.204181",
          "exception": false,
          "start_time": "2022-06-28T21:23:58.183299",
          "status": "completed"
        },
        "tags": [],
        "id": "d15dd749",
        "outputId": "54018b2b-8c8e-4a38-f4bc-a9c89c7e82e8"
      },
      "outputs": [
        {
          "name": "stdout",
          "output_type": "stream",
          "text": [
            "[[0.88945338 0.17761792 0.25970359 0.14272964 0.72009523 0.78628497\n",
            "  0.84570762]\n",
            " [0.78991285 0.27395468 0.89360111 0.39828567 0.35285224 0.80993392\n",
            "  0.85387784]]\n"
          ]
        }
      ],
      "source": [
        "#Random decimal numbers - passing shape\n",
        "print(np.random.random_sample(a.shape))"
      ]
    },
    {
      "cell_type": "code",
      "execution_count": null,
      "id": "925cee5c",
      "metadata": {
        "execution": {
          "iopub.execute_input": "2022-06-28T21:23:58.227306Z",
          "iopub.status.busy": "2022-06-28T21:23:58.226546Z",
          "iopub.status.idle": "2022-06-28T21:23:58.233486Z",
          "shell.execute_reply": "2022-06-28T21:23:58.232258Z"
        },
        "papermill": {
          "duration": 0.021153,
          "end_time": "2022-06-28T21:23:58.235929",
          "exception": false,
          "start_time": "2022-06-28T21:23:58.214776",
          "status": "completed"
        },
        "tags": [],
        "id": "925cee5c",
        "outputId": "34403c12-d9b6-4462-a468-1163b6503b1e"
      },
      "outputs": [
        {
          "name": "stdout",
          "output_type": "stream",
          "text": [
            "[[ 9  5 -2]\n",
            " [ 6  9 14]\n",
            " [ 7  6  4]]\n"
          ]
        }
      ],
      "source": [
        "#Random integer values\n",
        "print(np.random.randint(-4,21, size=(3,3)))"
      ]
    },
    {
      "cell_type": "code",
      "execution_count": null,
      "id": "4d833a48",
      "metadata": {
        "execution": {
          "iopub.execute_input": "2022-06-28T21:23:58.259420Z",
          "iopub.status.busy": "2022-06-28T21:23:58.258728Z",
          "iopub.status.idle": "2022-06-28T21:23:58.266618Z",
          "shell.execute_reply": "2022-06-28T21:23:58.264470Z"
        },
        "papermill": {
          "duration": 0.022933,
          "end_time": "2022-06-28T21:23:58.269736",
          "exception": false,
          "start_time": "2022-06-28T21:23:58.246803",
          "status": "completed"
        },
        "tags": [],
        "id": "4d833a48",
        "outputId": "56293278-fe9d-4ab9-a44e-a95be1704aaf"
      },
      "outputs": [
        {
          "name": "stdout",
          "output_type": "stream",
          "text": [
            "[[1. 0. 0. 0. 0. 0. 0. 0. 0. 0. 0. 0.]\n",
            " [0. 1. 0. 0. 0. 0. 0. 0. 0. 0. 0. 0.]\n",
            " [0. 0. 1. 0. 0. 0. 0. 0. 0. 0. 0. 0.]\n",
            " [0. 0. 0. 1. 0. 0. 0. 0. 0. 0. 0. 0.]\n",
            " [0. 0. 0. 0. 1. 0. 0. 0. 0. 0. 0. 0.]\n",
            " [0. 0. 0. 0. 0. 1. 0. 0. 0. 0. 0. 0.]\n",
            " [0. 0. 0. 0. 0. 0. 1. 0. 0. 0. 0. 0.]\n",
            " [0. 0. 0. 0. 0. 0. 0. 1. 0. 0. 0. 0.]\n",
            " [0. 0. 0. 0. 0. 0. 0. 0. 1. 0. 0. 0.]\n",
            " [0. 0. 0. 0. 0. 0. 0. 0. 0. 1. 0. 0.]\n",
            " [0. 0. 0. 0. 0. 0. 0. 0. 0. 0. 1. 0.]\n",
            " [0. 0. 0. 0. 0. 0. 0. 0. 0. 0. 0. 1.]]\n"
          ]
        }
      ],
      "source": [
        "#Identity matrix\n",
        "print(np.identity(12))"
      ]
    },
    {
      "cell_type": "code",
      "execution_count": null,
      "id": "69ed38c6",
      "metadata": {
        "execution": {
          "iopub.execute_input": "2022-06-28T21:23:58.293739Z",
          "iopub.status.busy": "2022-06-28T21:23:58.293325Z",
          "iopub.status.idle": "2022-06-28T21:23:58.299377Z",
          "shell.execute_reply": "2022-06-28T21:23:58.298650Z"
        },
        "papermill": {
          "duration": 0.021068,
          "end_time": "2022-06-28T21:23:58.302048",
          "exception": false,
          "start_time": "2022-06-28T21:23:58.280980",
          "status": "completed"
        },
        "tags": [],
        "id": "69ed38c6",
        "outputId": "5cfd53bd-6d4e-4764-a898-250b57dbd87f"
      },
      "outputs": [
        {
          "name": "stdout",
          "output_type": "stream",
          "text": [
            "[[1. 1. 1. 1. 1.]\n",
            " [1. 0. 0. 0. 1.]\n",
            " [1. 0. 9. 0. 1.]\n",
            " [1. 0. 0. 0. 1.]\n",
            " [1. 1. 1. 1. 1.]]\n"
          ]
        }
      ],
      "source": [
        "matrix = np.ones((5,5))\n",
        "x=np.zeros((3,3))\n",
        "x[1,1]=9\n",
        "matrix[1:4, 1:4]=x\n",
        "print(matrix)"
      ]
    },
    {
      "cell_type": "code",
      "execution_count": null,
      "id": "d4f0adfd",
      "metadata": {
        "execution": {
          "iopub.execute_input": "2022-06-28T21:23:58.325756Z",
          "iopub.status.busy": "2022-06-28T21:23:58.325328Z",
          "iopub.status.idle": "2022-06-28T21:23:58.331153Z",
          "shell.execute_reply": "2022-06-28T21:23:58.330325Z"
        },
        "papermill": {
          "duration": 0.020776,
          "end_time": "2022-06-28T21:23:58.333541",
          "exception": false,
          "start_time": "2022-06-28T21:23:58.312765",
          "status": "completed"
        },
        "tags": [],
        "id": "d4f0adfd",
        "outputId": "694e3be7-29dc-4c3b-82f8-35af2eb8be96"
      },
      "outputs": [
        {
          "name": "stdout",
          "output_type": "stream",
          "text": [
            "[1 2 3]\n",
            "[100   2   3]\n"
          ]
        }
      ],
      "source": [
        "#Be careful when copying arrays\n",
        "a= np.array([1,2,3])\n",
        "b=a.copy()\n",
        "b[0] = 100\n",
        "\n",
        "print(a)\n",
        "print(b)"
      ]
    },
    {
      "cell_type": "code",
      "execution_count": null,
      "id": "0226ffad",
      "metadata": {
        "execution": {
          "iopub.execute_input": "2022-06-28T21:23:58.357744Z",
          "iopub.status.busy": "2022-06-28T21:23:58.357310Z",
          "iopub.status.idle": "2022-06-28T21:23:58.363312Z",
          "shell.execute_reply": "2022-06-28T21:23:58.362537Z"
        },
        "papermill": {
          "duration": 0.020982,
          "end_time": "2022-06-28T21:23:58.365672",
          "exception": false,
          "start_time": "2022-06-28T21:23:58.344690",
          "status": "completed"
        },
        "tags": [],
        "id": "0226ffad",
        "outputId": "cd921a92-7d39-4f93-aa3a-b4c38f2ab71d"
      },
      "outputs": [
        {
          "name": "stdout",
          "output_type": "stream",
          "text": [
            "[[1. 0. 0.]\n",
            " [0. 1. 0.]\n",
            " [0. 0. 1.]]\n",
            "1.0\n"
          ]
        }
      ],
      "source": [
        "#Find the determinant\n",
        "d = np.identity(3)\n",
        "print(d)\n",
        "det = np.linalg.det(d)\n",
        "print(det)"
      ]
    },
    {
      "cell_type": "code",
      "execution_count": null,
      "id": "6421764b",
      "metadata": {
        "execution": {
          "iopub.execute_input": "2022-06-28T21:23:58.389463Z",
          "iopub.status.busy": "2022-06-28T21:23:58.388821Z",
          "iopub.status.idle": "2022-06-28T21:23:58.400459Z",
          "shell.execute_reply": "2022-06-28T21:23:58.399215Z"
        },
        "papermill": {
          "duration": 0.026446,
          "end_time": "2022-06-28T21:23:58.402908",
          "exception": false,
          "start_time": "2022-06-28T21:23:58.376462",
          "status": "completed"
        },
        "tags": [],
        "id": "6421764b",
        "outputId": "15c350dc-9a69-4125-ad4a-3c7279848288"
      },
      "outputs": [
        {
          "name": "stdout",
          "output_type": "stream",
          "text": [
            "[[1. 1. 1.]\n",
            " [1. 1. 1.]]\n",
            "[[2 2]\n",
            " [2 2]\n",
            " [2 2]]\n",
            "[[6. 6.]\n",
            " [6. 6.]]\n",
            "[[6. 6.]\n",
            " [6. 6.]]\n"
          ]
        }
      ],
      "source": [
        "#Linear Algebra\n",
        "a=np.ones((2,3))\n",
        "print(a)\n",
        "\n",
        "b=np.full((3,2),2)\n",
        "print(b)\n",
        "\n",
        "c=np.matmul(a,b)\n",
        "print(c)\n",
        "print(a @ b)"
      ]
    },
    {
      "cell_type": "code",
      "execution_count": null,
      "id": "623b98bd",
      "metadata": {
        "execution": {
          "iopub.execute_input": "2022-06-28T21:23:58.427342Z",
          "iopub.status.busy": "2022-06-28T21:23:58.426559Z",
          "iopub.status.idle": "2022-06-28T21:23:58.433693Z",
          "shell.execute_reply": "2022-06-28T21:23:58.432413Z"
        },
        "papermill": {
          "duration": 0.022345,
          "end_time": "2022-06-28T21:23:58.436160",
          "exception": false,
          "start_time": "2022-06-28T21:23:58.413815",
          "status": "completed"
        },
        "tags": [],
        "id": "623b98bd",
        "outputId": "0a7d237c-4afa-496b-b4e4-d82906d83c95"
      },
      "outputs": [
        {
          "name": "stdout",
          "output_type": "stream",
          "text": [
            "[1 2 3 4]\n",
            "[-1  0  1  2]\n"
          ]
        }
      ],
      "source": [
        "#Basic Mathematics\n",
        "\n",
        "a=np.array([1,2,3,4])\n",
        "print(a)\n",
        "print(a-2)"
      ]
    },
    {
      "cell_type": "markdown",
      "source": [
        "# **APLICAÇÃO DA BIBLIOTECA Python NUMPY**\n",
        "\n",
        "Matrizes de Transformação\n",
        "\n",
        "Rotação\n",
        "| cos(teta)    -sin(teta)  |\n",
        "|                          |\n",
        "| sin(teta)     cos(teta)  |\n",
        "\n",
        "Escala\n",
        "|   sx         0  |\n",
        "|                 |\n",
        "|    0         sy |\n",
        "\n",
        "1. Colete os dados do seu carro, adapte a função ler dados e a utilize.\n",
        "a - Escolha o angulo de rotação e aplique uma rotação, utilizando a matriz de rotação.\n",
        "b - Escolha a escala que você deseja apresentar o carro. Multiplica o array de dados pelas matriz de escala.\n",
        "\n",
        "2. Proponha uma solução para transladar o carro de uma posição para outra.\n",
        "\n",
        "\n",
        "\n",
        "\n",
        "\n"
      ],
      "metadata": {
        "id": "rPXVB_DeWpbo"
      },
      "id": "rPXVB_DeWpbo"
    },
    {
      "cell_type": "code",
      "source": [
        "# Aplicação\n",
        "\n",
        "import turtle\n",
        "import math\n",
        "import time\n",
        "import random\n",
        "\n",
        "    \n",
        "# Função lerDados\n",
        "def lerDados(file):\n",
        "  linha = tuple()\n",
        "  linhas = []\n",
        "  myfile = open (file)\n",
        "  myline = myfile.readline ()\n",
        "  while myline:\n",
        "      mylist = myline.split(\",\")\n",
        "      for i in range(len(mylist)):\n",
        "          mylist[i] = float(mylist[i].strip())\n",
        "          linha = tuple(mylist)\n",
        "      linhas.append(linha)\n",
        "      myline = myfile.readline ()\n",
        "  myfile.close ()\n",
        "  return linhas\n",
        "\n",
        "\n",
        "\n",
        "#========== Veja o Exemplo abaixo ==========================================\n",
        "# --------------  rotação 90 graus  ----------------\n",
        "\n",
        "print(30 * \"==\")\n",
        "x = [[2,3],[4,5]]\n",
        "mr = [[0,-1],[1,0]]\n",
        "\n",
        "a = np.array(x)\n",
        "b = np.array(mr)\n",
        "print(a)\n",
        "print(b)\n",
        "\n",
        "print(a @ b)\n",
        "\n",
        "print(30 * \"==\")\n",
        "# ----------  Escala  2 vezes em x e 3 vezes em y ============\n",
        "\n",
        "z = [[2,3],[4,5]]\n",
        "ms = [[2,0],[0,3]]\n",
        "\n",
        "a = np.array(z)\n",
        "b = np.array(ms)\n",
        "print(a @ b)\n",
        "\n",
        "\n",
        "# Nos tres exemplos voce deve apresentar o carro em cada estágio da solução\n",
        "\n"
      ],
      "metadata": {
        "id": "Rebdl2hLWeyI",
        "outputId": "9b3eedfb-3f91-48b1-daa1-2f71e6a07fdb",
        "colab": {
          "base_uri": "https://localhost:8080/"
        }
      },
      "id": "Rebdl2hLWeyI",
      "execution_count": 15,
      "outputs": [
        {
          "output_type": "stream",
          "name": "stdout",
          "text": [
            "============================================================\n",
            "[[2 3]\n",
            " [4 5]]\n",
            "[[ 0 -1]\n",
            " [ 1  0]]\n",
            "[[ 3 -2]\n",
            " [ 5 -4]]\n",
            "============================================================\n",
            "[[ 4  9]\n",
            " [ 8 15]]\n"
          ]
        }
      ]
    }
  ],
  "metadata": {
    "kernelspec": {
      "display_name": "Python 3",
      "language": "python",
      "name": "python3"
    },
    "language_info": {
      "codemirror_mode": {
        "name": "ipython",
        "version": 3
      },
      "file_extension": ".py",
      "mimetype": "text/x-python",
      "name": "python",
      "nbconvert_exporter": "python",
      "pygments_lexer": "ipython3",
      "version": "3.7.12"
    },
    "papermill": {
      "default_parameters": {},
      "duration": 11.84148,
      "end_time": "2022-06-28T21:23:59.068313",
      "environment_variables": {},
      "exception": null,
      "input_path": "__notebook__.ipynb",
      "output_path": "__notebook__.ipynb",
      "parameters": {},
      "start_time": "2022-06-28T21:23:47.226833",
      "version": "2.3.4"
    },
    "colab": {
      "name": "numpy.ipynb",
      "provenance": [],
      "collapsed_sections": []
    }
  },
  "nbformat": 4,
  "nbformat_minor": 5
}
