{
  "nbformat": 4,
  "nbformat_minor": 0,
  "metadata": {
    "colab": {
      "name": "PythonList00.ipynb",
      "provenance": []
    },
    "kernelspec": {
      "name": "python3",
      "display_name": "Python 3"
    },
    "language_info": {
      "name": "python"
    }
  },
  "cells": [
    {
      "cell_type": "markdown",
      "metadata": {
        "id": "schpZkvm45c6"
      },
      "source": [
        "**UNIVERSIDADE FEDERAL DO RIO GRANDE DO NORTE**\n",
        "\n",
        "**DEPARTAMENTO DE ENGENHARIA MECÂNICA**\n",
        "\n",
        "*ALGORITMOS E LINGUAGEM DE PROGRAMAÇÃO ORIENTADA A OBJETOS*\n",
        "\n",
        "*PROF. CARLOS MAGNO*"
      ]
    },
    {
      "cell_type": "markdown",
      "metadata": {
        "id": "hdBVFgBt5WGZ"
      },
      "source": [
        "**PRIMEIRA LISTA DE EXERCÍCIOS**\n",
        "\n",
        "1. Construa um algoritmo que, tendo como dados de entrada dois pontos quaisquer no plano, P(x1,y1) e P(x2,y2), escreva a distância entre eles. \n",
        "A fórmula que efetua tal cálculo é:\n",
        "$\n",
        "\\sqrt{(x2 - X1)^2 + (Y2 - Y1)^2}\n",
        "$"
      ]
    },
    {
      "cell_type": "code",
      "metadata": {
        "id": "EbsnjVzY3BQN",
        "outputId": "d062749d-37ce-4657-cac0-9e34b9ebb931",
        "colab": {
          "base_uri": "https://localhost:8080/"
        }
      },
      "source": [
        "#IMPORTAR A BIBILIOTECA MATEMÁTICA\n",
        "import math\n",
        "#DECLARAÇÃO DAS VARIÁVEIS DE ENTRADA \n",
        "x1 = float(input(\"Entre com a coordenada x1 do primeiro ponto: \"))\n",
        "y1 = float(input(\"Entre com a coordenada y1 do primeiro ponto: \"))\n",
        "x2 = float(input(\"Entre com a coordenada x2 do primeiro ponto: \"))\n",
        "y2 = float(input(\"Entre com a coordenada y2 do primeiro ponto: \"))\n",
        "\n",
        "#FÓRMULA DO CÁLCULO DA DISTÂNCIA DE DOIS PONTOS \n",
        "d = math.sqrt((x2 - x1)**2 + (y2 - y1)**2)\n",
        "#SAÍDA DOS DADOS\n",
        "print(\"A DISTÂNICA ENTRE OS DOIS PONTOS É: \",d)\n"
      ],
      "execution_count": null,
      "outputs": [
        {
          "output_type": "stream",
          "name": "stdout",
          "text": [
            "Entre com a coordenada x1 do primeiro ponto: 2\n",
            "Entre com a coordenada y1 do primeiro ponto: 3\n",
            "Entre com a coordenada x2 do primeiro ponto: 5\n",
            "Entre com a coordenada y2 do primeiro ponto: 7\n",
            "A DISTÂNICA ENTRE OS DOIS PONTOS É:  5.0\n"
          ]
        }
      ]
    },
    {
      "cell_type": "markdown",
      "metadata": {
        "id": "228bEMvO_Yl1"
      },
      "source": [
        "2. Faça um algoritmo que leia as 3 notas de um aluno e calcule a média final deste aluno. Considerar que a média é ponderada e que o peso das notas é: 2,3 e 5, respectivamente."
      ]
    },
    {
      "cell_type": "code",
      "metadata": {
        "id": "ZN0IsTHh_kGo",
        "outputId": "d01ef6f7-b332-4173-a6cb-267c5cf4b47e",
        "colab": {
          "base_uri": "https://localhost:8080/"
        }
      },
      "source": [
        "#DECLARAÇÃO DAS VARIÁVEIS DE ENTRADA \n",
        "nota1 = float(input(\"Insira o valor da primeira nota \"))\n",
        "nota2 = float(input(\"Insira o valor da segunda nota \"))\n",
        "nota3 = float(input(\"Insira o valor da terceira nota \"))\n",
        "\n",
        "#Fórmula da média ponderada.\n",
        "media = ((nota1*2)+(nota2*3)+(nota3*5))/10\n",
        "\n",
        "#SAÍDA DOS DADOS\n",
        "print(\"A MÉDIA PONDERADA DO ALUNO É: \",media)"
      ],
      "execution_count": null,
      "outputs": [
        {
          "output_type": "stream",
          "name": "stdout",
          "text": [
            "Insira o valor da primeira nota 5\n",
            "Insira o valor da segunda nota 3\n",
            "Insira o valor da terceira nota 5\n",
            "A MÉDIA PONDERADA DO ALUNO É:  4.4\n"
          ]
        }
      ]
    },
    {
      "cell_type": "markdown",
      "metadata": {
        "id": "5OTNr7Jh_k52"
      },
      "source": [
        "\n",
        "3. O custo ao consumidor de um carro novo é a soma do custo de fábrica com a percentagem do distribuidor e dos impostos (aplicados ao custo de fábrica). Supondo que a percentagem do distribuidor seja de 28% e os impostos de 45%, escrever um algoritmo que leia o custo de fábrica de um carro e escreva o custo ao consumidor."
      ]
    },
    {
      "cell_type": "code",
      "metadata": {
        "id": "MZqpLOjo_uCn",
        "outputId": "8b4a30d8-0c6e-452f-ffe6-9b17e94498a2",
        "colab": {
          "base_uri": "https://localhost:8080/"
        }
      },
      "source": [
        "#ENTRADA DO VALOR DO VEÍCULO PARA A FÁBRICA\n",
        "valordefabrica = float(input(\"INSIRA O VALOR DE CUSTO DA FÁBRICA R$ \"))\n",
        "#DECLARAÇÃO DAS VARIÁVEIS\n",
        "perdistribuidor = 0.28\n",
        "impostos = 0.45\n",
        "\n",
        "#CÁLCULO DO VALOR AO CONSUMIDOR\n",
        "custoaoconsumidor = valordefabrica*(1 + perdistribuidor + impostos)\n",
        "\n",
        "#SAÍDAS DOS DADOS\n",
        "print(\"VALOR DO VEÍCULO AO CONSUMIDOR É R$\",custoaoconsumidor)"
      ],
      "execution_count": null,
      "outputs": [
        {
          "output_type": "stream",
          "name": "stdout",
          "text": [
            "INSIRA O VALOR DE CUSTO DA FÁBRICA R$ 50000\n",
            "VALOR DO VEÍCULO AO CONSUMIDOR É R$ 86500.0\n"
          ]
        }
      ]
    },
    {
      "cell_type": "markdown",
      "metadata": {
        "id": "yfJJ6VRs_uwT"
      },
      "source": [
        "4. Um sistema de equações lineares do tipo:\n",
        "\n",
        "$ax + by = c$\n",
        "\n",
        "$dx + ey = f$\n",
        "\n",
        " Escreva um algoritmo que lê os coeficientes a,b,c,d,e e f e calcula e mostra os valores de x e y. Solução do sistema:\n",
        "\n",
        " $x = \\frac{ce-bf}{ae - bd}$\n",
        "\n",
        "  $y = \\frac{af-cd}{ae - bd}$"
      ]
    },
    {
      "cell_type": "code",
      "metadata": {
        "id": "bOrA7G1zEDNs",
        "outputId": "06230663-15b1-4726-9b2a-fc5c8fe441a8",
        "colab": {
          "base_uri": "https://localhost:8080/"
        }
      },
      "source": [
        "#ENTRADA DOS VALORES DAS VARIÁVEIS\n",
        "a = float(input(\"INSIRA O VALOR DE a NA EQUAÇÃO ax+by=c \"))\n",
        "b = float(input(\"INSIRA O VALOR DE b NA EQUAÇÃO ax+by=c \"))\n",
        "c = float(input(\"INSIRA O VALOR DE c NA EQUAÇÃO ax+by=c \"))\n",
        "d = float(input(\"INSIRA O VALOR DE d NA EQUAÇÃO dx+ey=f \"))\n",
        "e = float(input(\"INSIRA O VALOR DE e NA EQUAÇÃO dx+ey=f \"))\n",
        "f = float(input(\"INSIRA O VALOR DE f NA EQUAÇÃO dx+ey=f \"))\n",
        "#CÁLCULO DO SISTEMA LINEAR\n",
        "x = ((c*e)-(b*f))/((a*e)-(b*d))\n",
        "y = ((a*f)-(c*d))/((a*e)-(b*d))\n",
        "#SAÍDA DOS DADOS\n",
        "print(\"O VALOR DE X É: \",x,\" E O VALOR DE Y É: \",y)\n"
      ],
      "execution_count": null,
      "outputs": [
        {
          "output_type": "stream",
          "name": "stdout",
          "text": [
            "INSIRA O VALOR DE a NA EQUAÇÃO ax+by=c 1\n",
            "INSIRA O VALOR DE b NA EQUAÇÃO ax+by=c 1\n",
            "INSIRA O VALOR DE c NA EQUAÇÃO ax+by=c 19\n",
            "INSIRA O VALOR DE d NA EQUAÇÃO dx+ey=f 2\n",
            "INSIRA O VALOR DE e NA EQUAÇÃO dx+ey=f 1\n",
            "INSIRA O VALOR DE f NA EQUAÇÃO dx+ey=f 31\n",
            "O VALOR DE X É:  12.0  E O VALOR DE Y É:  7.0\n"
          ]
        }
      ]
    },
    {
      "cell_type": "markdown",
      "metadata": {
        "id": "7ASew0UjEDsc"
      },
      "source": [
        "5. 7. Escrever um algoritmo que lê:\n",
        "\n",
        "- a percentagem do IPI a ser acrescido no valor das peças\n",
        "- o código da peça 1, valor unitário da peça 1, quantidade de peças 1\n",
        "- o código da peça 2, valor unitário da peça 2, quantidade de peças 2\n",
        "\n",
        "O algoritmo deve calcular o valor total a ser pago e apresentar o resultado.\n",
        "\n",
        "Fórmula : $(valor1*quant1 + valor2*quant2)*(IPI/100 + 1)$"
      ]
    },
    {
      "cell_type": "code",
      "metadata": {
        "id": "JOBiMabUEV9E",
        "colab": {
          "base_uri": "https://localhost:8080/"
        },
        "outputId": "2d5abef4-e903-49f8-9946-df3abc8aebe5"
      },
      "source": [
        "#ENTRADA DAS VARIÁVEIS\n",
        "IPI = float(input(\"INSIRA O VALOR DA PERCENTAGEM DO IPI \"))\n",
        "COD1 = int(input(\"INSIRA O CÓD DA PEÇA 1 \"))\n",
        "VALOR1 = float(input(\"INSIRA O VALOR UNITÁRIO DA PEÇA 1 \"))\n",
        "QUANT1 = float(input(\"INSIRA A QUANTIDADE DA PEÇA 1 \"))\n",
        "COD2 = int(input(\"INSIRA O CÓD DA PEÇA 2 \"))\n",
        "VALOR2 = float(input(\"INSIRA O VALOR UNITÁRIO DA PEÇA 2 \"))\n",
        "QUANT2 = float(input(\"INSIRA A QUANTIDADE DA PEÇA 2 \"))\n",
        "\n",
        "#ARRAY COM OS DADOS DAS PEÇAS\n",
        "PECA1 = [COD1,VALOR1,QUANT1]\n",
        "PECA2 = [COD2,VALOR2,QUANT2]\n",
        "#FÓRMULA PARA CÁLCULO DA NOTA\n",
        "VALORPAGO = (VALOR1*QUANT1+VALOR2+QUANT2)*((IPI/100)+1)\n",
        "\n",
        "print(\"O VALOR TOTAL A SER PAGO É R$\",VALORPAGO)\n",
        "print(\"INFORMAÇÕES PEÇA COD: \",PECA1[0], \"VALOR: R$\",PECA1[1], \"QUANTIDADE: \",PECA1[2])\n",
        "print(\"INFORMAÇÕES PEÇA COD: \",PECA2[0], \"VALOR: R$\",PECA2[1], \"QUANTIDADE: \",PECA2[2])"
      ],
      "execution_count": 9,
      "outputs": [
        {
          "output_type": "stream",
          "name": "stdout",
          "text": [
            "INSIRA O VALOR DA PERCENTAGEM DO IPI 15\n",
            "INSIRA O CÓD DA PEÇA 1 001\n",
            "INSIRA O VALOR UNITÁRIO DA PEÇA 1 150\n",
            "INSIRA A QUANTIDADE DA PEÇA 1 15\n",
            "INSIRA O CÓD DA PEÇA 2 300\n",
            "INSIRA O VALOR UNITÁRIO DA PEÇA 2 30\n",
            "INSIRA A QUANTIDADE DA PEÇA 2 10\n",
            "O VALOR TOTAL A SER PAGO É R$ 2633.5\n",
            "INFORMAÇÕES PEÇA COD:  1 VALOR: R$ 150.0 QUANTIDADE:  15.0\n",
            "INFORMAÇÕES PEÇA COD:  300 VALOR: R$ 30.0 QUANTIDADE:  10.0\n"
          ]
        }
      ]
    },
    {
      "cell_type": "markdown",
      "metadata": {
        "id": "EYP96mo_EWvJ"
      },
      "source": [
        "6. Construa um algoritmo que calcule seu peso ideal, utilizando as seguintes fórmulas:\n",
        "\n",
        "- para homens: (72.7*h)-58\n",
        "\n",
        "- para mulheres: (62.1*h)-44.7"
      ]
    },
    {
      "cell_type": "code",
      "metadata": {
        "id": "dDjnOtvyEkzN",
        "colab": {
          "base_uri": "https://localhost:8080/"
        },
        "outputId": "b7103c5e-8e6f-43c0-85ce-119767c4fd9c"
      },
      "source": [
        "#ENTRADA DAS VARIÁVEIS\n",
        "ALTURA = float(input(\"DIGITE A SUA ALTURA E METROS  \"))\n",
        "SEXO = input(\"DIGITE M PARA SEXO MASCULINO E F PARA SEXO FEMININO \")\n",
        "#CONDIÇÃO PARA ENTRADA DE DADOS\n",
        "if SEXO == \"M\" or SEXO == \"m\" :\n",
        "  PESO = (72.7*ALTURA)-58 #FÓRMULA DO PESO IDEAL\n",
        "  print(f'SEU PESO IDEAL DEVE SER KG {PESO:.2f}')\n",
        "elif SEXO == \"F\" or SEXO == \"f\":\n",
        "  PESO = (62.1*ALTURA)-44.7 #FÓRMULA DO PESO IDEAL\n",
        "  print(f'SEU PESO IDEAL DEVE SER KG {PESO:.2f}') #IMPRESSÃO DOS DADOS COM 2 CASAS DECIMAIS\n",
        "else: print(\"INFORMAÇÃO ERRADA INSERIDA\")\n"
      ],
      "execution_count": 49,
      "outputs": [
        {
          "output_type": "stream",
          "name": "stdout",
          "text": [
            "DIGITE A SUA ALTURA E METROS  1.60\n",
            "DIGITE M PARA SEXO MASCULINO E F PARA SEXO FEMININO F\n",
            "SEU PESO IDEAL DEVE SER KG 54.66\n"
          ]
        }
      ]
    },
    {
      "cell_type": "markdown",
      "metadata": {
        "id": "pSHUsX9wEmC7"
      },
      "source": [
        "7. Construa um algoritmo que calcule o fatoria de um número fornecido."
      ]
    },
    {
      "cell_type": "code",
      "metadata": {
        "id": "zI_SMK8DEtIv",
        "colab": {
          "base_uri": "https://localhost:8080/"
        },
        "outputId": "c9ceac8c-5341-4a8e-be52-a7c935c52e8e"
      },
      "source": [
        "#IMPORTAÇÃO DA BIBLIOTECA\n",
        "import math\n",
        "#ENTRADA DO NÚMERO\n",
        "NUMERO =  int(input(\"INSIRA O NUMERO PARA CALCULAR O FATORIAL \"))\n",
        " #SAÍDA DO FATORIAL ATRAVÉS DA FUNÇÃO A BIBLIOTECA\n",
        "print(\"O VALOR DO FATORIAL É \",math.factorial(NUMERO))"
      ],
      "execution_count": 47,
      "outputs": [
        {
          "output_type": "stream",
          "name": "stdout",
          "text": [
            "INSIRA O NUMERO PARA CALCULAR O FATORIAL 5\n",
            "O VALOR DO FATORIAL É  120\n"
          ]
        }
      ]
    },
    {
      "cell_type": "markdown",
      "metadata": {
        "id": "_wvIhB4sEt1D"
      },
      "source": [
        ""
      ]
    }
  ]
}
