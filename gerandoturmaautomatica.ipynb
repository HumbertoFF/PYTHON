{
  "nbformat": 4,
  "nbformat_minor": 0,
  "metadata": {
    "colab": {
      "name": "Untitled3.ipynb",
      "provenance": [],
      "authorship_tag": "ABX9TyNqCVwC9hi1NTvh5i+0gJbc",
      "include_colab_link": true
    },
    "kernelspec": {
      "name": "python3",
      "display_name": "Python 3"
    },
    "language_info": {
      "name": "python"
    }
  },
  "cells": [
    {
      "cell_type": "markdown",
      "metadata": {
        "id": "view-in-github",
        "colab_type": "text"
      },
      "source": [
        "<a href=\"https://colab.research.google.com/github/HumbertoFF/PYTHON/blob/main/gerandoturmaautomatica.ipynb\" target=\"_parent\"><img src=\"https://colab.research.google.com/assets/colab-badge.svg\" alt=\"Open In Colab\"/></a>"
      ]
    },
    {
      "cell_type": "code",
      "execution_count": null,
      "metadata": {
        "id": "0Kx_s-mqpZUp"
      },
      "outputs": [],
      "source": [
        "#GERA AUTOMATICAMENTE UMA LISTA DE ALUNOS, ATRIBUI NOTAS, MATRICULAS E NOME DO ALUNO\n",
        "#INFORMA SE O ALUNO FOI APROVADO OU REPROVADO E QUAL O ALUNO LAUREADO.\n",
        "#importando as bibliotecas\n",
        "import random as rd\n",
        "#declarando as variáveis\n",
        "tam = rd.randrange(1,30)\n",
        "i=0\n",
        "x=0\n",
        "ndeaprovados=0\n",
        "ndereprovados=0\n",
        "nomes=list()\n",
        "situacao =str\n",
        "laureado = [nomes==0 for i in range(tam)]\n",
        "nome=[0,0]\n",
        "nota1=float\n",
        "nota2=float\n",
        "nota3=float\n",
        "set=0\n",
        "cont=0\n",
        "novolaureado=[nomes==0 for i in range(1)]\n",
        "nomedolaureado=[nomes for i in range(1)]\n",
        "criacaodenomes = [\"da Silva\",\"de Freitas\",\"das Graças\",\"de Alencar\",\"de Abreu\",\"de Anchieta\"]\n",
        "primeironome = [\"Maria \",\"José \",\"João \",\"Vicente \",\"Arthur \",\"Joana \"]\n",
        "alunos =[nomes for i in range(tam)]\n",
        "for i in range(tam):\n",
        "    matricula = rd.randrange(20220000,20229999)\n",
        "    nome = (str(rd.choice(primeironome))+str(rd.choice(criacaodenomes)))\n",
        "    nota1 = rd.randrange(0,10)\n",
        "    nota2 = rd.randrange(0,10)\n",
        "    nota3 = rd.randrange(0,10)\n",
        "    maiornota=max([nota1,nota2,nota3])\n",
        "    menornota=min([nota1,nota2,nota3])\n",
        "    mediaaritmetrica = (nota1+nota2+nota3)/3 \n",
        "    if mediaaritmetrica >= 7:\n",
        "        ndeaprovados+=1\n",
        "        set+=1\n",
        "        situacao='APROVADO' \n",
        "             \n",
        "    else: \n",
        "        ndereprovados+=1\n",
        "        situacao='REPROVADO'\n",
        "  \n",
        "    alunos[i]= [matricula,nome,nota1,nota2,nota3,mediaaritmetrica,maiornota,menornota,situacao]\n",
        "\n",
        "print(94*'_')\n",
        "print (\"{:<8} {:<16}{:<6}{:<6}{:<6}{:<6}{:<10}{:<10}{:<10} \".format('MATRICULA |','NOME  ','|NOTA1','|NOTA2','|NOTA3','|MÉDIA','|MAIOR NOTA ','|MENOR NOTA','|SITUAÇÃO DO ALUNO '))\n",
        "print(94*'_')\n",
        "for v in alunos:\n",
        "    matricula,nome,nota1,nota2,nota3,mediaaritmetrica,maiornota,menornota,situacao = v\n",
        "    print (\"{:<9}{:<20}{:<6.2f}{:<6.2f}{:<6.2f}{:<9.2f}{:<12.2f}{:<12.2f}{:<10}\".format( matricula,nome,nota1,nota2,nota3,mediaaritmetrica,maiornota,menornota,situacao))\n",
        "print(94*'_')\n",
        "print(\"QUANTIDADE DE APROVADOS: \",ndeaprovados,\" QUANTIDADE DE REPROVADOS: \",ndereprovados)\n",
        "print(94*'_')\n",
        "aprovados =(ndeaprovados/tam)*100\n",
        "reprovados =(ndereprovados/tam)*100\n",
        "\n",
        "print(\"PERCENTUAL DE APROVADOS\",\"{:.1f}\".format(aprovados),'%')\n",
        "print(\"PERCENTUAL DE REPROVADOS\",\"{:.1f}\".format(reprovados),'%')\n",
        "print(94*'_')\n",
        "test=[nome for i in range(tam)]\n",
        "if ndeaprovados!=0:\n",
        "  for i in range(tam):\n",
        "    laureado[i] = alunos[i][5]\n",
        "    novolaureado = max(laureado)\n",
        "    if alunos[i][5] == novolaureado:\n",
        "      nomedolaureado = alunos[i][1]\n",
        "  \n",
        "  print(\"O(a) aluno(a) laureado é \"+str(nomedolaureado)+\" e teve a média \"+str(\"{:<6.2f}\".format(novolaureado)))\n",
        "elif ndeaprovados==0:\n",
        "     print(\"Não há aluno laureado, pois não há alunos aprovados\")"
      ]
    }
  ]
}