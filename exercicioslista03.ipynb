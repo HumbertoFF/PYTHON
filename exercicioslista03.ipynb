{
  "nbformat": 4,
  "nbformat_minor": 0,
  "metadata": {
    "colab": {
      "name": "PythonList00.ipynb",
      "provenance": [],
      "include_colab_link": true
    },
    "kernelspec": {
      "name": "python3",
      "display_name": "Python 3"
    },
    "language_info": {
      "name": "python"
    }
  },
  "cells": [
    {
      "cell_type": "markdown",
      "metadata": {
        "id": "view-in-github",
        "colab_type": "text"
      },
      "source": [
        "<a href=\"https://colab.research.google.com/github/equipealpha3d/py22_1list01-M20170184552/blob/feedback/PythonList03.ipynb\" target=\"_parent\"><img src=\"https://colab.research.google.com/assets/colab-badge.svg\" alt=\"Open In Colab\"/></a>"
      ]
    },
    {
      "cell_type": "markdown",
      "metadata": {
        "id": "schpZkvm45c6"
      },
      "source": [
        "*ALGORITMOS E LINGUAGEM DE PROGRAMAÇÃO ORIENTADA A OBJETOS*"
      ]
    },
    {
      "cell_type": "markdown",
      "metadata": {
        "id": "hdBVFgBt5WGZ"
      },
      "source": [
        "**TERCEIRA LISTA DE EXERCÍCIOS**\n",
        "\n",
        "ESTRUTURAS DE REPETIÇÃO\n",
        "\n",
        "1 - Construa um programa que receba um números inteiro e apresente a tabuada deste valor. Os valores só podem ser de 1 a 10 \n"
      ]
    },
    {
      "cell_type": "code",
      "metadata": {
        "id": "EbsnjVzY3BQN",
        "colab": {
          "base_uri": "https://localhost:8080/"
        },
        "outputId": "ded68757-4853-465d-d0f7-9c401f117784"
      },
      "source": [
        "valor = int(input(\"Digite o um valor de 1 a 10 para obter a tabuada \"))\n",
        "tab = 1\n",
        "\n",
        "array=[1,2]\n",
        "if valor <= 10: \n",
        "  print(\"*\"*20)\n",
        "  print('Tabuada de {0}'.format(valor))\n",
        "  print(\"*\"*20)\n",
        "  while(tab <= 10):\n",
        "    print('| {0} X {1} = {2} '.format(valor,tab,(valor*tab)))\n",
        "    tab = tab+1\n",
        "  print(\"*\"*20)\n",
        "else: \n",
        "  print(\"digite um valor de 1 a 10 \")\n",
        "\n"
      ],
      "execution_count": null,
      "outputs": [
        {
          "output_type": "stream",
          "name": "stdout",
          "text": [
            "Digite o um valor de 1 a 10 para obter a tabuada 30\n",
            "digite um valor de 1 a 10 \n"
          ]
        }
      ]
    },
    {
      "cell_type": "markdown",
      "metadata": {
        "id": "228bEMvO_Yl1"
      },
      "source": [
        "2 - Construa um programa que apresenta a toda a tabuada ( 1.. a 10 ). A cada apresentação separe com uma barra. (============)"
      ]
    },
    {
      "cell_type": "code",
      "metadata": {
        "id": "ZN0IsTHh_kGo",
        "colab": {
          "base_uri": "https://localhost:8080/"
        },
        "outputId": "47676a52-e5cc-4250-d0b5-5a779bff86e9"
      },
      "source": [
        "tab = 1\n",
        "valor = 1\n",
        "while(valor <= 10):\n",
        "  print(\"=\"*20)\n",
        "  print('    Tabuada de {0}'.format(valor))\n",
        "  if tab <=10:\n",
        "    while tab <= 10:\n",
        "      print('     {0} X {1} = {2} '.format(valor,tab,(valor*tab)))\n",
        "      tab = tab+1\n",
        "  valor = valor + 1 \n",
        "  tab=1\n",
        "\n",
        "  \n",
        "   "
      ],
      "execution_count": null,
      "outputs": [
        {
          "output_type": "stream",
          "name": "stdout",
          "text": [
            "====================\n",
            "    Tabuada de 1\n",
            "     1 X 1 = 1 \n",
            "     1 X 2 = 2 \n",
            "     1 X 3 = 3 \n",
            "     1 X 4 = 4 \n",
            "     1 X 5 = 5 \n",
            "     1 X 6 = 6 \n",
            "     1 X 7 = 7 \n",
            "     1 X 8 = 8 \n",
            "     1 X 9 = 9 \n",
            "     1 X 10 = 10 \n",
            "====================\n",
            "    Tabuada de 2\n",
            "     2 X 1 = 2 \n",
            "     2 X 2 = 4 \n",
            "     2 X 3 = 6 \n",
            "     2 X 4 = 8 \n",
            "     2 X 5 = 10 \n",
            "     2 X 6 = 12 \n",
            "     2 X 7 = 14 \n",
            "     2 X 8 = 16 \n",
            "     2 X 9 = 18 \n",
            "     2 X 10 = 20 \n",
            "====================\n",
            "    Tabuada de 3\n",
            "     3 X 1 = 3 \n",
            "     3 X 2 = 6 \n",
            "     3 X 3 = 9 \n",
            "     3 X 4 = 12 \n",
            "     3 X 5 = 15 \n",
            "     3 X 6 = 18 \n",
            "     3 X 7 = 21 \n",
            "     3 X 8 = 24 \n",
            "     3 X 9 = 27 \n",
            "     3 X 10 = 30 \n",
            "====================\n",
            "    Tabuada de 4\n",
            "     4 X 1 = 4 \n",
            "     4 X 2 = 8 \n",
            "     4 X 3 = 12 \n",
            "     4 X 4 = 16 \n",
            "     4 X 5 = 20 \n",
            "     4 X 6 = 24 \n",
            "     4 X 7 = 28 \n",
            "     4 X 8 = 32 \n",
            "     4 X 9 = 36 \n",
            "     4 X 10 = 40 \n",
            "====================\n",
            "    Tabuada de 5\n",
            "     5 X 1 = 5 \n",
            "     5 X 2 = 10 \n",
            "     5 X 3 = 15 \n",
            "     5 X 4 = 20 \n",
            "     5 X 5 = 25 \n",
            "     5 X 6 = 30 \n",
            "     5 X 7 = 35 \n",
            "     5 X 8 = 40 \n",
            "     5 X 9 = 45 \n",
            "     5 X 10 = 50 \n",
            "====================\n",
            "    Tabuada de 6\n",
            "     6 X 1 = 6 \n",
            "     6 X 2 = 12 \n",
            "     6 X 3 = 18 \n",
            "     6 X 4 = 24 \n",
            "     6 X 5 = 30 \n",
            "     6 X 6 = 36 \n",
            "     6 X 7 = 42 \n",
            "     6 X 8 = 48 \n",
            "     6 X 9 = 54 \n",
            "     6 X 10 = 60 \n",
            "====================\n",
            "    Tabuada de 7\n",
            "     7 X 1 = 7 \n",
            "     7 X 2 = 14 \n",
            "     7 X 3 = 21 \n",
            "     7 X 4 = 28 \n",
            "     7 X 5 = 35 \n",
            "     7 X 6 = 42 \n",
            "     7 X 7 = 49 \n",
            "     7 X 8 = 56 \n",
            "     7 X 9 = 63 \n",
            "     7 X 10 = 70 \n",
            "====================\n",
            "    Tabuada de 8\n",
            "     8 X 1 = 8 \n",
            "     8 X 2 = 16 \n",
            "     8 X 3 = 24 \n",
            "     8 X 4 = 32 \n",
            "     8 X 5 = 40 \n",
            "     8 X 6 = 48 \n",
            "     8 X 7 = 56 \n",
            "     8 X 8 = 64 \n",
            "     8 X 9 = 72 \n",
            "     8 X 10 = 80 \n",
            "====================\n",
            "    Tabuada de 9\n",
            "     9 X 1 = 9 \n",
            "     9 X 2 = 18 \n",
            "     9 X 3 = 27 \n",
            "     9 X 4 = 36 \n",
            "     9 X 5 = 45 \n",
            "     9 X 6 = 54 \n",
            "     9 X 7 = 63 \n",
            "     9 X 8 = 72 \n",
            "     9 X 9 = 81 \n",
            "     9 X 10 = 90 \n",
            "====================\n",
            "    Tabuada de 10\n",
            "     10 X 1 = 10 \n",
            "     10 X 2 = 20 \n",
            "     10 X 3 = 30 \n",
            "     10 X 4 = 40 \n",
            "     10 X 5 = 50 \n",
            "     10 X 6 = 60 \n",
            "     10 X 7 = 70 \n",
            "     10 X 8 = 80 \n",
            "     10 X 9 = 90 \n",
            "     10 X 10 = 100 \n"
          ]
        }
      ]
    },
    {
      "cell_type": "markdown",
      "metadata": {
        "id": "5OTNr7Jh_k52"
      },
      "source": [
        "3 - Construa um programa que apresenta como resultado o fatoria dos valores impares situados na faixa numerica de 50 a 60."
      ]
    },
    {
      "cell_type": "code",
      "metadata": {
        "id": "MZqpLOjo_uCn",
        "colab": {
          "base_uri": "https://localhost:8080/"
        },
        "outputId": "c26e28ae-aec6-48f6-f485-18d62e117775"
      },
      "source": [
        "import math\n",
        "num = 50\n",
        "while num <= 60:\n",
        "  if num % 2 != 0:\n",
        "      print(\"O VALOR FATORIAL DE \",num,\"É \",math.factorial(num))\n",
        "  num = num + 1\n"
      ],
      "execution_count": null,
      "outputs": [
        {
          "output_type": "stream",
          "name": "stdout",
          "text": [
            "O VALOR FATORIAL DE  51 É  1551118753287382280224243016469303211063259720016986112000000000000\n",
            "O VALOR FATORIAL DE  53 É  4274883284060025564298013753389399649690343788366813724672000000000000\n",
            "O VALOR FATORIAL DE  55 É  12696403353658275925965100847566516959580321051449436762275840000000000000\n",
            "O VALOR FATORIAL DE  57 É  40526919504877216755680601905432322134980384796226602145184481280000000000000\n",
            "O VALOR FATORIAL DE  59 É  138683118545689835737939019720389406345902876772687432540821294940160000000000000\n"
          ]
        }
      ]
    },
    {
      "cell_type": "markdown",
      "metadata": {
        "id": "yfJJ6VRs_uwT"
      },
      "source": [
        "4 - Elaborar um programa que apresente o somatório de todos os numeros pares entre 1 e 500"
      ]
    },
    {
      "cell_type": "code",
      "metadata": {
        "id": "bOrA7G1zEDNs",
        "colab": {
          "base_uri": "https://localhost:8080/"
        },
        "outputId": "314b8418-0cdc-4697-ab1e-3f8c9a3ec531"
      },
      "source": [
        "num = 1 \n",
        "soma = 0\n",
        "while num <= 500:\n",
        "  if num %2 == 0:\n",
        "   soma = soma + num\n",
        "  num = num +1  \n",
        "print(\" O somatório de todos o números pares entre 1 e 500 é \",soma)"
      ],
      "execution_count": null,
      "outputs": [
        {
          "output_type": "stream",
          "name": "stdout",
          "text": [
            " O somatório de todos o números pares entre 1 e 500 é  62750\n"
          ]
        }
      ]
    },
    {
      "cell_type": "markdown",
      "metadata": {
        "id": "7ASew0UjEDsc"
      },
      "source": [
        "5 -  Elaborar um programa que que gere randomicamente 50 valores. Apresente no final a soma de destes valores e a média dos valores pares e impares."
      ]
    },
    {
      "cell_type": "code",
      "metadata": {
        "id": "JOBiMabUEV9E",
        "colab": {
          "base_uri": "https://localhost:8080/"
        },
        "outputId": "ac6eeabe-3b1e-4228-9b7f-53d342189c6c"
      },
      "source": [
        "import random \n",
        "soma = 0\n",
        "tam = 1\n",
        "mediapar = 0\n",
        "somapar = 0\n",
        "mediaimpar = 0\n",
        "somaimpar = 0\n",
        "contadorpar = 0\n",
        "contadorimpar = 0\n",
        "while  tam <= 50:\n",
        "  x = random.randrange(50)\n",
        "  if x %2 == 0:\n",
        "    somapar = somapar + x\n",
        "    contadorpar = contadorpar +1\n",
        "  elif x %2 != 0:\n",
        "    somaimpar = somaimpar + x\n",
        "    contadorimpar = contadorimpar +1\n",
        "  if contadorpar != 0:  \n",
        "    mediapar = somapar/contadorpar\n",
        "  if contadorimpar != 0:\n",
        "    mediaimpar = somaimpar/contadorimpar\n",
        "   \n",
        "  soma = soma + x  \n",
        "  tam = tam +1\n",
        "print(\"A soma dos valores totais gerados é \",soma, \"media dos valores pares é \",mediapar,\" e a média dos valores ímpares é \",mediaimpar)\n",
        "print(\"A quantidade de números pares foram \",contadorpar,\", a quantidade dos valores ímpares foi \",contadorimpar)"
      ],
      "execution_count": null,
      "outputs": [
        {
          "output_type": "stream",
          "name": "stdout",
          "text": [
            "A soma dos valores totais gerados é  1424 media dos valores pares é  26.4  e a média dos valores ímpares é  29.866666666666667\n",
            "A quantidade de números pares foram  20 , a quantidade dos valores ímpares foi  30\n"
          ]
        }
      ]
    },
    {
      "cell_type": "markdown",
      "metadata": {
        "id": "EYP96mo_EWvJ"
      },
      "source": [
        "6 - Elaborar um programa que efetue a leitura de valores positivos inteiros até que um valor negativo seja informado."
      ]
    },
    {
      "cell_type": "code",
      "metadata": {
        "id": "dDjnOtvyEkzN",
        "outputId": "e859c55d-347a-4069-8e07-264e44be9857",
        "colab": {
          "base_uri": "https://localhost:8080/"
        }
      },
      "source": [
        "num = 0\n",
        "while num >= 0:\n",
        "  num = int(input(\"digite um número positivo \"))\n",
        "\n",
        "print(\"você digitou um número negativo: \",num)"
      ],
      "execution_count": 8,
      "outputs": [
        {
          "output_type": "stream",
          "name": "stdout",
          "text": [
            "digite um número positivo 1\n",
            "digite um número positivo 2\n",
            "digite um número positivo 5\n",
            "digite um número positivo -2\n",
            "você digitou um número negativo:  -2\n"
          ]
        }
      ]
    },
    {
      "cell_type": "markdown",
      "metadata": {
        "id": "pSHUsX9wEmC7"
      },
      "source": [
        "7 - Construa um programa que gere em duas colunas ( usar \\t ). A primeira coluna mostra o valor a segunda coluna deve corresponder a potencia de base 2 deste valor. Os valores devem ser gerados randomicamente ( 10 valores )"
      ]
    },
    {
      "cell_type": "code",
      "metadata": {
        "id": "zI_SMK8DEtIv",
        "outputId": "34db17b0-9a70-4dde-fe84-e7498f776e25",
        "colab": {
          "base_uri": "https://localhost:8080/"
        }
      },
      "source": [
        "import random as rd\n",
        "colunaa = int\n",
        "colunab = int\n",
        "tam=0\n",
        "print(\"1ªcoluna|\",\"2ªcoluna\")\n",
        "while tam<10:\n",
        "  colunaa = rd.randrange(0,100) \n",
        "  colunab = 2**(colunaa)#potência de base 2\n",
        "  print(colunaa,\"\\t\",colunab)\n",
        "  tam+=1"
      ],
      "execution_count": 16,
      "outputs": [
        {
          "output_type": "stream",
          "name": "stdout",
          "text": [
            "1ªcoluna| 2ªcoluna\n",
            "12 \t 4096\n",
            "31 \t 2147483648\n",
            "37 \t 137438953472\n",
            "49 \t 562949953421312\n",
            "69 \t 590295810358705651712\n",
            "49 \t 562949953421312\n",
            "70 \t 1180591620717411303424\n",
            "40 \t 1099511627776\n",
            "58 \t 288230376151711744\n",
            "44 \t 17592186044416\n"
          ]
        }
      ]
    },
    {
      "cell_type": "markdown",
      "metadata": {
        "id": "_wvIhB4sEt1D"
      },
      "source": [
        "8 - Faça um programa que gere randomicamente os votos e os atribua a um dos times do campeonato. Considere que 5 times participam do campeonato. Forneça ao programa o numero de votações. Ao final o programa deve apresentar o time preferido"
      ]
    },
    {
      "cell_type": "code",
      "metadata": {
        "id": "UzdGCeUDhX8w",
        "colab": {
          "base_uri": "https://localhost:8080/"
        },
        "outputId": "2816e7fa-07b9-498a-f84f-5f83aac6ce04"
      },
      "source": [
        "import random\n",
        "print(\" 1. América\")\n",
        "print(\" 2. ABC\")\n",
        "print(\" 3. Alecrim\")\n",
        "print(\" 4. Potiguar\")\n",
        "print(\" 5. Globo\")\n",
        "timepreferido = 0\n",
        "time = random.randrange(5)\n",
        "if time == 1: \n",
        " timepreferido = \"América\"\n",
        "elif time == 2: \n",
        " timepreferido = \"ABC\"\n",
        "elif time == 3:\n",
        " timepreferido = \"Alecrim\"\n",
        "elif time == 4: \n",
        " timepreferido = \"Potiguar\"\n",
        "elif time == 5: \n",
        " timepreferido = \"Globo\"\n",
        "\n",
        "print(\"o time preferido é \",timepreferido)\n"
      ],
      "execution_count": null,
      "outputs": [
        {
          "output_type": "stream",
          "name": "stdout",
          "text": [
            " 1. América\n",
            " 2. ABC\n",
            " 3. Alecrim\n",
            " 4. Potiguar\n",
            " 5. Globo\n",
            "o time preferido é  América\n"
          ]
        }
      ]
    }
  ]
}
