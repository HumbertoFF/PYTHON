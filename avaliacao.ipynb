{
  "nbformat": 4,
  "nbformat_minor": 0,
  "metadata": {
    "colab": {
      "name": "PythonList00.ipynb",
      "provenance": [],
      "include_colab_link": true
    },
    "kernelspec": {
      "name": "python3",
      "display_name": "Python 3"
    },
    "language_info": {
      "name": "python"
    }
  },
  "cells": [
    {
      "cell_type": "markdown",
      "metadata": {
        "id": "view-in-github",
        "colab_type": "text"
      },
      "source": [
        "<a href=\"https://colab.research.google.com/github/equipealpha3d/proj22_1python02-M20170184552/blob/feedback/projetoPython02.ipynb\" target=\"_parent\"><img src=\"https://colab.research.google.com/assets/colab-badge.svg\" alt=\"Open In Colab\"/></a>"
      ]
    },
    {
      "cell_type": "markdown",
      "metadata": {
        "id": "schpZkvm45c6"
      },
      "source": [
        "*ALGORITMOS E LINGUAGEM DE PROGRAMAÇÃO ORIENTADA A OBJETOS*"
      ]
    },
    {
      "cell_type": "markdown",
      "metadata": {
        "id": "nSHAjkeFHWgL"
      },
      "source": [
        "**3a. Avaliação**\n",
        "\n",
        "1 - Com base nas classes Point e Circle implmentadas abaixo. Implemente as classes Quadrado, Retangulo e Triangulo. \n",
        "\n",
        "2 - Execute o programa abaixo utilizando como base o módulo ( biblioteca de classes implementada )\n",
        "\n",
        "Calcule a área e a quantidade de sementes em kgs necessário para o plantio de arroz nos terrenos em amarelo abaixo, levando em conta as áreas de preservação ambiental( áreeas em escuro ). Sendo o rendimento do plantio de 200 sementes por metros quadrado. Cada Saco de 1 kg tem 1000 sementes\n",
        "\n",
        "![plantioSoja.png](data:image/png;base64,iVBORw0KGgoAAAANSUhEUgAAAckAAAEMCAIAAAAgeNohAAAAAXNSR0IArs4c6QAAAARnQU1BAACxjwv8YQUAAAAJcEhZcwAADsMAAA7DAcdvqGQAAEcmSURBVHhe7Z0HWBTX2scvKBcQUJq9R1GxK6KIXfzsYo9dY4ti7L0bjcSaKF4rGjWxfYotWFARSyyAiIUqRUG6CEoJBAS8319nnG8dYFm2MbP7/p732efs7JndnbNzfvOe2Sn/+i8hbPLz8+/evZubm8s+JwhCDJBbhQ65lSDECLlV6JBbCUKMkFuFDrmVIMQIuVXokFsJQoyQW4UOuZUgxAi5VeiQWwlCjJBbhQ65lSDECLlV6JBbCUKMlNqtBQUFERERR48ejYmJQbdnpxIqg9xKEGKk1G5FJ58/f/4333xz8uTJjIwMdiqhMsitBCFGSu3Wf/75p3///vr6+gcOHHj//j07lVAZ5FaCECPyuPV//ud//v3vf5Nb1QO5lSDECLlV6DBuzcjI+PjxIzuJUCUFBQX0XwKhOORWQQOf/v3333v27Nm/f39UVNSHDx/YFwgVgNbGKn369OkZM2bcuHEDLc++QBClh9wqXNDV09LSTpw40apVq1q1as2bN+/FixekVxWBRDUhIQFrdf369XV0dDp27Oju7p6amoo0lq1BEKWB3CpQ8vLy0NWPHDkCq6Kr/+tf/zIwMJg5c6a/vz/lU0oHW6xXr145OztXr14dTc3Qtm3bgwcP4lcgvRJyoFq3IvNiYJ8TspGbm4uu/uOPPxoaGrId/Qv9+/e/detWZmYmW5VQGKzSISEhCxcuxNaLbeUvVKtWbceOHXFxcTRcIEqLat2KNTIrK4v+FigVEGtgYOCsWbMKi5WhU6dObm5uyF5po6U4WJ/v378/YsSIwmJlMDU1nT9/fnh4OOmVKBWqdSs0kZaWhuEt+5woCbSVt7f30KFD2Z5dDE2aNNm9ezfan/SqCGjtS5cude3alW3WYtDX1x85cqSfnx9lCYTs0P5WYXHhwoV27drp6uqy3boYdHR0KleuvGjRIgwL2DmJ0vP77783a9asxNYGqNOjR48HDx6wcxJESZBbhUJ2draLi4u1tbWenh7boaWC3m5ubj5hwoSoqCj2LQiZwTZp5cqVtWvXLl++PNugJYF1vnnz5gcPHmTfgiCkQm4VBKmpqc7Ozt98842MYmWAXitVqtS3b9+goCD2jQgZiI6OXrJkSa1atcqVK8c2pWzg17Gysvrll1/oUA2iRMitZU9cXNzUqVNr1Kghew7FoaOjU6FCBTs7u1u3btGfLSXy8ePHmJiY4cOHV65cubRiZYBe69Sps2DBAmS+tLObkAK5tSwpKCjw8fGZNGmShYUFcxCrfEDKNjY2hw4dSk9PZ9+aKERubu7du3f79etnbGysSGtjuGBpaTlu3Ljw8HD6n5YoDnJrmYGufufOnd69e5uYmCjS1TmaNGmya9eu+Ph4+ju7MBkZGRcuXOjatat86Wph0AVGjRrl7e1NfycSRUJuLRvQ1U+dOtWjRw9ldXWGhg0bLlmyBPkU6ZUDTZGYmIikvl27dmwzKQn0AvSFS5cuUUcgCkNuVTcFBQUJCQl79+5t0aIF20eVirm5+Q8//PDo0aPs7Gz2I7UYiDUyMnLDhg1I6tkGUjZ2dnaHDx+GvtmPJIjPkFvVSm5uLrr61q1bq1SpwnZNFYBfZ/jw4cyVCdkP1kpycnKCg4OXL19uaWnJNo1qaNSo0c6dO1+/fk3DBYKD3Ko+INagoCAklSoVKwN+oO7du7u7u2vtv1tI2x8/fjx+/HgTExO2UVRJ9erVly1bhg0nHa1BMJBb1QS6ekBAwOTJk/X19dnuqHpsbGzc3NxSU1PZL6E1ZGVl/fXXX46OjlhR2bZQPebm5tOmTQsJCSG9EoDcqg4wOL158yYSSbYXqpGaNWuuXbs2MzNTew7GxGbs8uXLtra2bBOoET09vT59+gQGBmKMwn4bQlsht6qcgoKCkydPtm7dmu1/agf51KxZs7Tkx0Jr79ixo169euzCqx3otW3btu7u7nRmgZZDblU5Li4uDRo0UO6xVqVCR0fHxMRk8ODB6enpmt3hMzIy1q9fj1RdlsuvqA781pD78ePH2a9FaCXkVhWCkbiTk5N8J7MqF+jV0NAQufPTp081cm8gthnYcowePdrS0rIMN2Mc+A61atVavXo17RzQWsitKiE/P//ly5fff/89unrZ5lCSQPEYrl69elXDblsAfwUEBAwYMKBixYpKOcNNKTCnxmIdiI2NpbvCaCHkVuWTk5Pz5MmTPn36mJqaCkesDNBr06ZNDx06lJyczH5dkZORkeHp6dm9e3cDAwPhiJUD68DYsWP9/PzoVA5tg9yqZNDVL1++3K1bt1JdLVDNNGrUaNWqVcis2S8tWt69e3f69GkbGxshtzay6V69et25c4euPKBVkFuVSVJS0sGDBzt06MD2KgFTs2bNefPmPX36VLxXcoqOjt6yZUubNm3YRRIwUD8y6xMnTmjMcIEoEXKrcsjPz0dX37Fjh+rOW1c6zG0LHjx4gN+UXQyRgO1BWFjYmjVr6tSpwy6MGGjVqtWePXtiY2PZxSA0GnKrEoBYg4ODV6xY0aBBA7YbiQQMVwcOHOjh4SGiC+lDrE+ePJk5c2b16tXZxRAPjRo1Wr9+/atXr9iFITQXcquioEGeP3+Orm5mZsZ2IFFRvnx5Ozu7y5cvv337ll0kAZOdne3r6zt69OhKlSqxCyA2atasuWDBgtDQULqwi2ZDblUIdHVvb29HR0cjIyO264gQ6LVJkyb79u1LSUlhF0yQZGRk3Llzx97evsyPF1YQY2NjrDNBQUGi2xtDyA65VX4gVk9Pzy5dugj5T2rZqVq16pYtW1JTU4V57lZmZubp06dbtGghdrEyYGPs4OBw9+7dnJwcdgkJzYLcKidoBzc3N9HtYJVOhQoVvvvuO/ysgjrWHa5Ha7u4uKjh2ozqpFy5ct98842Hhwf0Shcf0DzIrXKyaNEic3NzAR6sriDo8K1bt46MjBTO3kCMD6ZPnw7va15rY4mwXIcOHaIzCzQPcmvpQEL35s0bdHVTU1PN6+oMGHR37Njx+vXrZX7wAPwOyzs6OhoaGmpqa2O5KlasuHDhQqxX7GITGgG5tRSgq7969Upo562rAn19/UaNGl24cKEMrzyAkbKPj4+DgwPEyn4tzQWbamywQ0JC6KbcGgO5VVaysrLu3btnb2+PQRzbITSacuXKNWjQYOvWrWVyrDucfunSpbZt22qDWBnMzMx69er14MEDum2BZkBulYnU1NTz589rwNE/paVOnTorV6588eIF2xBqIS4ubt++fTY2NkK4WqA6wWa7Z8+eFy9e1Nq7nGkS5NaSSUpKwsK2atVK28TKUKNGje+///7Jkydsc6iYqKgoZ2fnRo0aaWdr6+vrt2/f/vDhw6I4lYOQArm1BJCybdiwoVmzZuy6r5VYWlqOHDnS09NT1cPVgICAxYsX169fn/1grQQblRYtWmzbti0mJoZtF0KEkFuLJS8vLygoaN68eUjc2LVei8FwtVu3bh4eHmlpaWwDKRVY28fH57vvvqtcuTL7kdoNNjBr164NCQlhG4gQG+TWosFioquPHTuWujqHoaFh27Ztjxw5ovSbcmdkZNy+fbtPnz4mJibshxGfhwvY2Dx79oz+3RIj5NYiyMrKunXrVs+ePUV9lQBVoKurW7NmzV27diUlJSnr3K2///7bzc3N1tZWew4JkB1jY2N0t4cPH9KxWaKD3MoHY95r165ZW1tr25/UsgMJYrgaHR2tYIeHnZECnzt3rlatWkK7+Y1w0NPTa9Wqla+vLzZCdGqsiCC3/j9YcTE43b17d5nfhFkUjB49OiIiAsNV+Tp8fn7+mzdvNm/erBlXulEpOp/vgn727Fn0OLqtoVggt7JAEMhYf/75Zywau0YTJdGvXz/kU3LcJhqtHR8fP2fOHPaNCBmAXnfs2PH27VvKXkUBuZUlLi5u3Lhx+vr6mn0yq3IpX75848aNPTw8SqvXFy9eDB06lDLWUoE1E+vn6tWrsa6y7UgIGHLrp2Ot/Pz8+vbtqyUnsyoX6NXKymr//v0yHjzw4cOHa9eu2djY0D9X8lGxYsUhQ4ZgjWUblBAq2u7WrKys69evd+rUicQqN9Br3bp1nZ2dMcxnm7UY3r17d+rUKVtbW9rxogjGxsb9+vW7efOmHHtjCLWh1W7F9z969Gjr1q0ph1IQ5tisH374QcqVBxISErZt22ZtbW1gYMDORsgL9Gpvb3/ixImMjAy2fQmBob1ujYqK2rhxIx1rpUSqVKkyevRoLy8vtoklCA8PZ05mpdZWFthEMafG0pUHhImWujUoKGjJkiXiuru9KDAxMXFwcGDuU8K29X//6+PjI9JbXgscDBcaNGiwYcOGsLAwtq0JwaCNbn38+PHkyZOrVavGrqGEUqlQoUKHDh2OHTsGvYL79+8PGTLE1NSUfZlQKtArNlpOTk7BwcHs+k0IA4XcGh0dnZqaKpmhCJ+4uLgpU6ZYWlqy6yahAvT09Bo2bHjw4MGbN2+OGzeufv36lb+mymfYJ58pPAUwE4uErfEFduqX6VyZm8KDq8ArF4Z5VRL2ha/hpnN1JB8l+fz6/1fmPUryqd4XJKcwZQ5MQWvPnz//2rVrN27cwCO4/gVMAUyBmQKYiUw1psBMAdyrPGSZzn0u94bMU8CUJSfeu3evxD8/RY1Cbn348OHhw4f//PPPK1euXP0CyhgSSpZ5r7Klr1/lZpGsL1lZEtTh6jMwbyU5kTcvXmKm7Ny5c/z48X2/0O9reFP69+/PTflcvS8zBY/MRFC4zE0psibziJc+T+N/Ig9udjs7OzQ7UwaYzs0o+baA+1BuCoPkdMlPZ6YzU5gCU2Ze5WbhpjCPktO5R246QNnBwcHFxeXHH39c/TVr1qxhS4Uo/BIzRXK65JTCj5JIny5Z4JA+i+T04qYUprjpRSL9bQu/unLlygULFsyaNWvq1KmdOnVq0qRJo880btyYVygS5lU8ctUkC0yZmwK4KdxEyQJT5qYAyTIDNwWrx+XLl1mtaCLyu3XTpk0nTpzA7yquS/AZGhouXrw4ISHhvxn/ElH89ddfn+4MWGi6MCM3NzcsLGz37t0vXrz4dA2nQhUolBJ5eXkYOx4/fnzXrl2bN2+2t7cX0V+F33zzDQTCakUTkd+tvXr1srCwsLGxEd3lTQcPHhwcHPzpvOxCK6tgQyxu/fjxI9aQ58+fYyXR1dVdtWrV69evP13SpVBNCgUDG7CIiAgkCgYGBuiPTEoooutgkFv5cG7FRrJSpUpsO4mKOnXqHDp0KDU1VUR6FYtbs7Ozvby87Ozs2Lb+17+mTJkSGRmZn5/Pq0mhSKA9fX19hwwZwrayCCG38tEAtwIjI6ONGzd+OjCw0ForzBCFW5FJubu7169fX/KaDCj36dMnICCAV5lCkfDz8xs4cKCor31BbuWjGW7FSmlmZrZu3bo3b97w1lphhvDdmpOT4+bmhpFp4V1+WFv69ev36RT4QnNRyBGPHj1Ce6JV2fYVJ+RWPprhVgC9Vq1adeXKlaLQq8DdCrGePHmyefPmxV3aqkKFCsizHj58yJuRorTh6+uLcYAGXP6C3MpHY9wKdHV1a9SosXDhwtevX/PWYKGFkN2anJzs6uraqlUr6ZmUiYlJ3759b9y48emA6EJvQiFLHDt2zM7OztjYmG1TMUNu5aNJbgXQK7LX8ePHP3v2jLceCyoE61aIde3atVZWVvr6+mybFg+k0LFjR2S4pFc54o8//mjZsqUs7SwKyK18NMytDKampqNGjXr+/DlvbRZOCNOtEOu6devq1asn+6E/UIOtrS3ptVSRm5t7/PjxFi1aSB8ZiAtyKx+NdCuoWLHimDFjAgMDhXlglgDd+vbt2w0bNtSuXbu0x1RCr23btj116tSny48WelsKXuB3R1s1a9ZMwy4hRm7lo6luBYaGhuPHj3/y5IkATyUSlFux+Xn9+rWzs3P16tXlO1gdem3VqtWZM2fevXv36e5PhT6CAoF2TkpK2rdvX8uWLdmG0yDIrXw02K0AqcHw4cNv3boltCRROG7FhicsLGzu3LlmZmaKHF+pp6fXuHHjnTt3iuskDrUF2iQuLm779u1Vq1Zlm0yzILfy0Wy3MnTo0MHLy0tQehWIWxmxzpgxQylHreNNsArt3r377du3pFfJ0HixAnIrH21wK2D0mpWVxVvpyyqE4FZOrGwbKYkKFSrs2bPnzZs3pFcm0A6JiYlbtmzRYLECcisfsbsVo34gS9oFvV6/fh3LK4QdgmXuVog1JCTk+++/Z1unGHR1dTHYx+ohSfny5aU3uJGREbLXpKQkuuwAWgCbmY0bN1apUoVtHQnQjGheQ0NDY2Nj9D5zc3OLL6Bc3IkbwoTcykfsbq1Ro4a1tTW+ub6+PpYCqyN6Pmxb5H8ytra2bm5uQhiMl61b0eEfPXo0bNgwtl2+gK6OpkMDohnRngYGBjBC586de39N69ateQ2O1ubZFtnrypUro6OjtTl7xVY8KipqwoQJaCu2Xb40MtPCcCiad/r06evWrTt48OCNGzewYjBcuXKlVatWqMnOJnjIrXzE7tY2bdo8f/4cg30Mb2/evPnHH3+gS48dO9bGxqbw6S5YU2vXru3i4oKl5nUDNQc6Txm6Ffl7p06dCvfbhg0bjhkzZtWqVcePH/f3909NTUXDZmdno7kkwRRMj4uLw1K4urrOmTMHwq1cuTL7Ll/ASuXk5BQeHs77dO2JmJiYUaNGSZ7PijZp3LjxpEmToCFoNyMjA42Zk5ODYUReXh62eRxv377t0qULuVU4aJ1b27Zt++k+z59zsdzcXKyp6enp7969w4AUSdOlS5dgCuRZXOKAlbVevXrbt29HTcluoOYoQ7devXoVnRa/ONMgGJD26dNn06ZNt27dio2NhU+ZDo+uLn3nCRJSGAFLkZaWBhGgtT09PZcsWdK0aVNkssybGxkZISkLDQ3lzasNgQYZPny4iYkJElW0A8ZMS5cuvXv3bmJiItZPtLD0jB51unbtSm4VDtrr1sIBNWANRrePiIi4ffs2hl1Yv5FEoOc3aNCgbPVaVm6FWNFj4VP0eaSuaAQfHx9YAD0Z2ZMie6IxL9al5ORkJKoY286dOxeSNTAwMDU1nTp1akhICK++ZgeadNiwYehQderUQZZ6/vz5yMhINI7sZ6+RW4UGubXoQEqLTPbZs2cnT57EMK127doY/27evBlrMK+mekL9bsUPffbsWfzK9evXR7fHqD8gICAlJQX5Pq+m4gGDxMXF+fv7//rrrx06dIBfRo8e7e3tzaumkYH2RHLq4ODQokWLWbNmeXh4vHr1So4DVMitQoPcWkLAaMihsBIgm+jYsePs2bMTEhIUydfkCzW7Fb/yf/7zn549e44fP/73338PCgrKzMzk1VFFYNCAvPiXX37p37//4MGDr1+/zqugYYGNyp07dwYMGIBU/eLFi1FRUbInqrwgtwoNcqtMgTwChv3tt9+QTy1cuBB6VfPf2ep0K37iY8eOTZkyxcXF5fnz5+rfF5Gamnrr1q21a9fOmTMH6uG9qjEBjWKjtX37dmzGsE4qeHUFBd2KHm1mZoZH9rnqIbfyUa5b9fX18Sbq3NjK51YmYFhfX9+ffvrJ3d0delXnLfbU41Zmj/O9e/cOHTqEgWp6ejqvgtoCI+X4+Pg///wT3e/Zs2fqHyioOtCPwsPDPT09/fz80OaKL6DibjU1NSW3KpGyd6uFhQX3N7EaUMStCPQBOA7jVuRTSUlJH9R1VRc1uBWbipSUFDQORuJpaWlCOM4UXykxMRGGjY6OxoqnMYbFTxkWFvbkyRMlXpSd9gkIDdonIGdERkY+fvw4OTlZPXpVtVuRJ8KnyMrROIJSGL5MZmbmw4cPNUavWIqXL18iaUWB95IiQW4VGuRW+SM1NRVv9fbtWzXsHFCpW/H9IdbQ0FDkrbyXhBNRUVExMTFZWVniPXEL3xzbiYiIiLi4ON5Lige5VWiQWxWK7OxsJLDoKsrNQQqH6tyKvBvjboxPhSxWJqDXZ8+evX//XhXHgak6IFbmPzoVHbpLbhUa5FZFA3r19PR88OCBSrNXFbkVkkIa5eHhERsby3tJmPH48WMvL6/k5GRxZa8fP37EyODPP/8MCAjgvaSsILcKDXKrEgJtgg4PeNOVGCpya2ho6LVr11QxRFVd+Pv737x5E3rlTRdy4Lf73//9X5WebEZuFRrkViUEshJ0nvv376PP815SVqjCrcHBwfjC8fHx4soBMT5A9octWVJSEu8lYUZmZibEGhkZqdJdGeRWoUFuVU5ArxkZGT4+PirKXpXu1qCgIE9PTzUfpausyMnJefbs2fXr19+/f897SWjBiDU6OlrVx5Oo1K3Vq1c3NzdnnygJcisftblVX1+/QYMG7BPloSK3IqBXrN/IBG/dusV7SfFQrlsfP3589uzZiIgItR2fq/TIysrCluzMmTOJiYm8lwQSWB/S09MXLFiAbZgc1wcobajUrejvSr/wNrmVj9rcirWk8AVVFUd1bkVg0BcTE7Nt27YjR46gO6F38SrIHUp0K7r67Nmz7927V4aX9VJKpKSkoHMuX75cgNckxEYrODh4xIgRP/30k3puV0P7BIQG7RNQckBYyKeGDRu2du1ajFiVpVeluBU9/PTp0w4ODnv27BHXf0FFBhYHVp0zZ86oUaOePn3Ke7UMg9llMXz48Pbt24eHh6tnrwu5VWiQW5UfGAnu37+/Zs2aSsxZFHcrfrizZ8+2adPG0dExLCxMXP9fFRfYkt24cQMLhQzx+fPnQjjuFe3s5+c3cuRIrACHDx9W214XcqvQILcqP5CrIivs3bt3jRo1Nm/erJQ/4hV0K+Y9f/5869at0eEvXbqkrN0LQghsvdavX29sbPztt98ie1XwalIKBnoHRi0Qq5mZGfLWtLQ0Je4Xkh7kVqFBblVJIFu5fv165cqVq1WrtnXr1ujoaAUHhnK7FVpPSUk5d+4cFlxXV3f69Ompqam8OqIOLCDScGw2dHR0xowZ4+3trYY/joqM9+/fe3p6IoPW19evW7fulStXeBVUGuRWoUFuVVUgYRk2bJihoWHVqlVXrFgRGhqqSEoln1vhncTExAMHDlhbW0OsFhYWyKrKNrNTRSA93LFjB3M1NQwXvLy8MjIyeHVUHenp6RgZdOzYEd/ByMho6NChav6rkNwqNMitKgxkMbVr10Y+hURm2rRpISEhcu99k8OtEGtSUpKLiwtyZyy4gYHBhAkT8PPxqmlAYEljY2MbNmzI3Ai9Xbt2V69eVed+j8zMzIsXL3bo0AGfjp+7UaNGeMqro+ogtwoNcqtqw9HRkbklMvQ6ZcqU8PBw+f5vKa1bkTWnpKT8+uuvjFjR4atXr+7r6yuEf3tUEUgSt2/fjoTx84/8Sa+XLl1Sz4YEn+Lu7o5PZD4a2zAkrerfL0FuFRrkVtUGEijuDAjoFZnjq1evkGfxqpUYpXIrxIoh6ubNm6tWrcp8NKQzevRoXjVNCiwy5ILuyqSuAD80kkdVH/+EgciVK1datGjBfCjAz/3HH3/wqqkhyK1Cg9yq2kCe2LNnT+7GCkhqhgwZEhQUxKtWYpTKrRggL1u2DBkr0lXmc5G0njlzhldNwwJbrFmzZnHnm0CyzZo1O3TokEr3e/74449oW07oAD83Np+8amoIcqvQILeqPDZs2MAMzAFkB73a2dndvn2bV016yO5WiBXZsZmZGdfh0d9at2795s0bXk0NC6Sunp6eXFMDbNLq1au3adMmFekVYsXHSYrV1NR04cKFZXKJBnKr0CC3qjyePn3avn179uM/o6+v365du1LpVUa3xsTEjBkzBmLlMlZgbm4+f/58OXZEiC6ysrLQsJJnvjN6/fnnn5WrV7wbI1aey7ANu3z5Mq+yeoLcKjTIrSoP9MORI0ciXWW/wWegVwj37t27Mv65JItbkbFCrDCppFhBw4YN3d3deZU1NZYuXcq7YhP0Wr9+fWdnZ2XpFRZjxiKSGSsDc84br756gtwqNMit6oiNGzfWqFGD/QZfQBva2dldvXoVTcqrXzikuxWD0OfPn48bNw5jUp5YgY2NDfJZ3iyaGufOnatbty675F9gslf8CvHx8R8VOFEKG8KIiIgZM2bUqlWLfWsJ8CmzZs0qqzMXyK1Cg9yqjsA4sVWrVuw3kACJD7LX/fv3l3iulBS34he5d+9enz59jIyMCouVOSRIbWe1l3lERkY2b96cXXgJIB1s3qZPn47NjHwHomGu4ODgqVOnFrfaV61a9ddff+XNpbYgtwoNcqs6Ap/Yt29f9hsUolGjRtDr27dveXNJRnFuRZZ09+7d3r17s+9VCAxd169fz5tLgyM3NxetgfWTXX4JsOGpUKECUsuXL1+W9u8miDUgIAAZK0YG7NsVAqtWWe1sRZBbhQa5VR0BLSLfkXJ14caNG7u6ukr5K79It2IKxCrF2qBZs2bas7OViWXLlllaWrLLXwh9ff25c+eGh4fLnsszYnVycpIiVjBkyJDnz5/z5lVbkFuFBrlVTbFx40bpd8Vo0qQJ9JqYmFjkiLWwW9PS0q5fv96nTx92/mLo1KnTkydPJGfU+Dh69Gj9+vXZ5S8KAwMD6BW6lOXfLdR59OgRNo3SxQqmTZtWhnd1JLcKDXKrmmLPnj316tVjv0QxIHvdunVrVFRU4eOleG5FRzpz5gxzZRDpODg4REdHczNqQyBPx4aKXf5igF6//fZbb29v6XrF2v7gwQOs8LLc0WTFihWZmZm8d1BbkFuFBrlVTXH58uXWrVuzX6J4LCwsFi1aFBsby9OrpFvT09OPHDnStGlTdh6pjBw5knsTLYnAwEA7Ozt2+aUycODA+/fvY5XmvQMTubm5vr6+3bt3l0WsOjo6zs7OvHdQZ5BbhQa5VU3h5eXFXCepRMzMzDBiTU5OljxaiHMr2v/QoUPW1tZsbamgw48aNYp7Ey2JkJAQWTJ6hgEDBiAzLbzvNT8/39/fH44u/+V8ZelUqFBhx44dvDdRZ5BbhQa5VU3x+PHjEveNcpiams6YMUNygMm4FbY9cOCAlZUVW68kzM3NMVDl3kRLAg0le1MDrM/e3t6SWzKUg4KCMM6QXVX169c/efIk9w7qD3Kr0CC3qikiIyORQrJfoiSQb0KLU6ZM4W4QDbcik928eTP6sOz9p2rVqhs3buS+g5YEzIhslG0CGUBmivz0/PnzzOzIYU+fPl2zZs1SeYrcWlrIrXzIrfLFy5cvR48ezX4JGdDV1a1YsWLPnj0hZcjCw8Nj6tSpNWrUkHGIylCtWrWy3QlYVjFw4EC2CWQD63Pz5s0PHTqUlZV16tQp3qWtZIHcWlrIrf99+/ZtoAQY23bs2FFPT69Nmzbc9dxEhLW19aVLl5hlCQgIYAochacAGavx4NW5du2a9ANRC8Mc696tW7f79+8PHjwYmWxpe46FhcXcuXPZb6DU5VXiFBmrsaUvSJ8Cy7BNIDPQK9YNbIrQ4Gh5dqrMIM/dunUr+/FfkOVrg9IuXZE8ePDAxsZGRG6tVasW12IlLh2Qu5VKOyMrPoUp2a3Z2dnQa8oX4uPju3fvjhURvb1KlSpsO4mHli1bent7swvzNdxi8gp4LG4KV2BgngL2uUQFbJOGDh3KfgmZQZaKDh8cHLxkyRI5kin8QKtWreK+D1PgPZWlgEduCoPkdMCbIllgypJTmEcGbiIDU+YmSi9wTwE3hUHKiWrFYWho2KVLF2zGvLy8mDWcfUE26tSp4+rqynw69324wufJRUxhkJxeXIGBm8g8BZ9f//QU4xskPSJya7169Q4cOMB8eW4puAID8xSwz4uqWbjAUXg6bwrzyCuw4lMY+fcJTJ8+HesT207iQSz7BAAGB02bNj179mxOTg5y7Z07d2LcWqo+T/sEZMTExKRXr143b9788OFDfn7+w4cPJ06cWKpdXlWrVj18+DDva6gzaJ+A0JDfrbNmzSp8wSHhU1ZuffbsWan+YEFvRztfuHCBuS3rX3/9FRcXd+bMmc6dOzM34JIFIyOjH374QfJraEMkJib26NGDbQIZqFy58rhx49DCkkdiBQUFOTk5STl3loeBgcG2bdu42dUf5FahQW5VU9y5c8fe3p79EiVRsWLF/v37o7dzszPHYMGzSGAhDtn1SucOSAdinTx58tOnT3lvgggLC5s5c6bsO77Wr19fJnccYILcKjTIrWqKK1eutGnThv0SUoFYMaSFiyVnZ9yKAvR6+fLl7t27GxoasjNIZfDgwWV4ImaZhLe3N35ldvmlgrS0OLEygVVlxowZMup1/vz5EBzvHdQW5FahQW5VUxw8eLBhw4bslygeExOTAQMG3L17lzc751YE9Hr16lV0JO6W0VJAkvvy5UvufbQhLly40LhxY3b5i4cRa0BAAG92XmBtmTNnTs2aNUv8I3HcuHHh4eG82dUW5FahQW5VU2zdurXE9MfCwmLIkCGSuwK4kHQr4sOHD7du3erXrx9czM5cDPb29v7+/tyM2hBHjhwp8bI41apVmzt3roz3X4mPj9+0aVOdOnWk69XBwcHHx4c3r9qC3Co0yK3qiLy8PCcnJzQa+yWKApZcuHBhcTkmz61MhIaGfvvtt9J3DlhZWZXtMe3qj5kzZ0r/i9/U1PSXX35JTk7mzSglUlNTXVxcYGQph74iWT527BhvRrUFuVVokFvVEdHR0Y6Ojuw3KAq05+LFi6VcDLBItyJevXo1cuRIKSdrmZubQ9m8uTQ48vPz27Vrxy58Uejr6+/YsUOOHaPv37/fu3cv7x66kmDruHbtWsnrEqgzyK1Cg9yqjvDy8rK1tWW/QVEsWbIkNjZWSrcszq2YBSPW4cOHs29UFOhyvLk0OPz9/aVcvFVPT2/Xrl0ZGRm8uWQJNDX06urqKmU396RJk0q89ZmKgtwqNMit6ggMJ6W01fLly0u8QV5xbkVgxoSEhO+++w4ZGfuOX9OqVaugoCDeXJoahw8fLvImrLq6ujVq1GDEKndqWVBQkJaWduHCheL+lnRwcHj8+DFvLvUEuVVokFvVEVOmTCl8RCqGlqampkePHi3uPi6SIcWtCPR5vMmWLVssLCzYd5egdu3av/32G28WTY3x48cX/n8PxmncuPHVq1dhRgXH7Jg9MzPzzp07DRo0KCwyOPfQoUO8WdQT5FahQW5VeYSGhnbu3Jm3kw5pVLVq1SBW9PbCd3ApHNLdykRycjL0Wr16dfYzvmBsbAzj8CprZKSkpDRp0oTnFzxt2bLl5cuXs7KyePXlC+gVvQB6tba25t2SwMDAYOzYsfhNebOoIcitQoPcqvLYv38/75AgiBVN5+rqmp6eLmMaJYtbEQkJCZs3b+Zd5wEfB+OUeCCn2AMteeTIEd5ZquXLl7exscEoXuknUHz48MHDw6N169a8XTHt27f39fXlVVZDkFuFBrlVtZGTkzN48GDJHQJY+zFy3Lt37/v373mVpYSMbkXExcVt3LjRyspK8uABGOc///kPr6aGBdw6dOhQZI7sMn/OIjt16nT69Gn5/rwqMXJzcy9evDhgwADJW8BiOFIm1yMntwoNcqtq4+HDh5LnCBkaGnbo0OHgwYPoCbya0kN2tyJiYmIOHDhga2vL6RWW6dmzp+xpsugiLy/v2bNnkmdPGRsbDxo06OrVq1hqXmUlBvTq7e09fPhwMzMz5nP19PS6dOkSGRnJq6nqILcKDXKrCgPDxtmzZ3O9DmLF2n/+/Hl0SF7NEqNUbkWkpaX98ccfGA5zekVudfbs2TK8mIhKA0N+JycnbngOsWK4gEaTvLSV6gJ6HTFiBPdDV69effv27bw6qg5yq9Agt6owgoKCMPxnMilkjp07d8YQUg6xIkrrVgTytZMnT3I31MNPhtQ1JSVF81JXbDBCQkLMzc2ZPwyNjIyKu3ur6oLRK7NzAKkrtmpxcXG8OioNcqvQILeqKtDhN2zYwHQ25FMdOnRwd3eXT6wIOdyKgF7d3Ny4K2ojh8V3wC/Iqyb2gFbWr1//+ef9lLH27t3bz89P/Rm6r6/vqFGjKleujK+Bx507d6rzO5BbhQa5VSWRn58fFhZmZWWFdR1pFMTq4eEht1gR8rkVgcHy1atX27VrB78jrevbt290dLQsR32JJZCcPnnyhDkSo2LFikgeMVwoq10fERERS5YsQQaNzVizZs1evnyptqYmtwoNcqvyA4PutLS0qVOnopVgtGHDhmHEyqtT2pDbrQiIHrrp2LEjs+917969ZXIApioCTf3q1atx48Zhs2FoaDhjxoyUlBReHTVHXFzcunXrsEEFy5Yty8rKUs9OGHKr0CC3Kj/QRJ6envgsdPghQ4ag8/MqyBGKuBUBvSKHYva9IpsODg7WjL2uMNeZM2eMjY0hVmzMFGkiJUZSUtKGDRt0dXX19PTu3r2ryHhF9iC3Cg1yq/Lj9evXNjY2+CyIFWWljAoVdCsCeo2Ojra1tTUwMICGoqKieBXEGD4+Pm3atKlYsSIy1uzsbIFsMPCLv3nzBnrFxhUNHhYWVuI5zYoHuVVokFuVHLGxsWgZjAcHDx4MsSqrUynuVgS+DPp5nz59qlat6uLiUubDZwUjJCRkwoQJNWvWXLx4cVldfaq4gF7fvn175MiR6tWrT5s2TQ3HDJBbhQa5VZmBHu7q6opB98aNG5EkKjFbUYpbEfhKr169mj59OvKpc+fOqfMoJeUGEsOffvoJS4EGT0xM5L0qhIBe09PTz5w506JFi/3793+68X2hOkoMcqvQILcqLTIzMy9evOjg4IA+r/Teriy3MgG9zp49e/jw4devXxejXuGRPXv2DBo06MCBAwLPvrFWwCDoMviqSUlJvFeVGORWoUFuVU5kZ2e7u7uPGDHi559/VsUAULluRYSFhS1dunTcuHE3btzgvSTwyM3NPXjw4LfffouMtVT3ZSmrQPb6+++/Dx48GDms0i8ZwwW5VWiQW5UQeXl5cN/MmTORscbExPBeVUoo3a2I0NDQNWvWLFiwQMpNpIUWECtybTS1qtNA5QZzCjI2ZleuXIEEea8qJcitQoPcqmhkZGTcu3cPVkVvf/36Ne9VZYUq3IoIDw/fv38/vjwWQfg7B96/f3/x4sW1a9eeP39eRGJlAj8fhgirV68+duyYKnYQk1uFBrlVocAQ79KlS4sXLz579myprhlY2lCRWxHo5xix4tf08vISsl6ZkbWTk9OtW7dU1BSqDjSvh4fH7NmzXV1d4+Pjea8qGORWoUFulT9SU1MxxJsyZcrJkydVfaaT6tyKePPmzdGjR8eOHQttqW6HoNxRUFCQkJBw/PjxUaNG3b17V1m3DyiTgF6RvU6ePHnbtm0YNCjx3Fxyq9Agt8oT+fn5yDt+++03R0dHZKxIqXgVlB4qdSsiJSXl8OHDPXr0OH36dGxsrBKPHlMkPn6+ewp+rw0bNmCte/DgQXZ2Nq+O6AJ6vX379qBBgyZNmuTr64uNmVJOeSC3Cg1ya+kC3QB5U2ho6Ny5c21sbM6fP6+ia9rzQtVuRSD1xtaiadOmM2fOjIiIgMWUckaZ3AG/wxdIVHv16tWpU6dHjx7l5OTw6og0oNdnz55NnDjR2tr61KlTiYmJubm5ChqW3Co0yK2lCKa3nzlzpnXr1nZ2doGBgWrL79TgVgT6PBRWr1699u3bnzx5Mjk5uUwSWFgGrnn16hXS1fr16/fp0yc1NVUpyZ2gIiYmZsyYMQYGBr1798bvi420Iq1NbhUa5FZZIy8vLyAgYMSIEXp6ei1btkRmp84L2anHrQh076dPnzZs2BCLOXTo0Pv376vnUiOSAcscO3asefPmRkZG/fr1gzV4FTQjsLXA1mv06NEQYqVKlWbPno2tNTZvvGoyBrlVaJBbSw7I5fHjx3Pnzq1Zs6aJiUm7du3ULFaE2tyKwKI9ePAAaqtQoUK1atUmTZp0+/Zt/O68aqqI9+/fI1/u2bNnxYoVoZshQ4bExsZqXsbKBXPZAWSvaGpDQ0OsYE5OTj4+PnLs/SC3Cg1yq7RIS0u7desWltTKygpdHWu/vb19UFCQ+kfK6nQrAn377t27Xbp0QZ83NjbGwHzUqFFnz55V3SVRwsLCXF1de/ToAZtjmGxubj5x4sTIyMiy3eerhsCWIzEx8ccff7S0tNTV1cVGpXbt2o6OjocPHw4ODuZVlhLkVqFBbi0isrOz/fz8du/ePWjQoEaNGpmZmWGlt7CwQAYXEhJSJrsg1exWBBrh2bNnI0aMQG/H4sOw6AydO3eeP3/+jRs3MJhV3HpIkF++fHn06FE0LH6XWrVqwar4jSCXlStXKvdiNwKPpKSkHTt2YMGZtRSbNJTbtGmDTdqBAwfu37+PX196/k5uFRrkVjYw8I+Kirp586aLi8uwYcM6dOhQp04dJKrMXJUrV54+fXp4eDhvLrWF+t2KgNqePHkyduxY6JVpB3RdZJQtWrTAOjBt2rTffvvN29sbfpT9qFgoIDAwEO3866+/TpkypVu3buhjEDdzx0aAlQpJnIpOHRZyQK/bt2/HEIFpB6CjowPJokFsbGwGDhy4cOHCLVu2nDt3Dm2ObTzqS+6cJbcKDa1za8OGDTdu3Ii09OnTpxj2XrhwAfnpmjVrYIrBgwe3a9cOSuXuO81QtWrVmTNnKn5fFkWiTNyKQGr5+PHjCRMmVKpUiW2OL6DbN2jQoEuXLuj233333ZIlS6CGgwcPenh4eHl5wZ7MI0Aj79u3b9OmTXPnzh03blzv3r0hC7Qz3oF9ry9gjVq/fj0yVt7X0JKIj4/funUrVlG2Ob7G1NS0Zs2aTZs2xeihX79+I0eOxEo74zNYP/ETVK9eHTpmawsecisfsbvVyMgIvXrAZzp16tSqVSsMvgqLgwNidXJyCgoK4nUDNUdZuRUBvT569Ahd18LCgm2UooAo0VawLUYGdl+DPLdevXqYHasNW7somM2e1oqVibi4OIyc2rRpw9vAax7kVj5id2upsLKyWrp0aZmLFVGGbkVArwEBAfPnz0fexDaNsoFN4BQ139NfmJGamnr8+PEOHTpotl7JrXy0x6347Xfs2JGQkMBb9cskytatTMTExCxfvhwDT7aBlEfz5s1Pnz6t0ovdiCvS09Pd3NxsbGxEtP+0tJBb+WiJW+vUqbN7927hXMhOCG5FJCYmLlu2rHLlymwzKYyOjk7Dhg3Pnj2rnlOHRRRoEHd395YtW2qqXsmtfLTBrVWrVt27d6+qb3BUqhCIWxEYsS5dutTCwoL7Z19u9PT06tWrd+HCBaxUvE+hQOAX9/DwaNasmb6+PttkGgS5lY9mu5U5jvXAgQNCG58Kx60IrAMbNmzAFkgRvRoYGLRp0wZi1Z6DWOWI3Nxcf3//zp07YzvENpymQG7lo8FuxeCrRo0aPj4+cp/TrboQlFuZwEC+Vq1a8h30A1N06NBBvgs7aFsUFBTExMTY2tpqmF7JrXw01a1IwfBjC1OsCAG6NS8vz83NTfJYdxmBI7p27RocHKzx57MqK5DaJyQkdOrUSZN2DpBb+WikW5GxNmvW7M6dO8IUK0KAbkVkZ2efPn26adOmbDvKAMTap0+fp0+fCraphRnYDkVGRvbs2ZM7V1DskFv5aJ5by5cv37ZtWy8vLywab4UWTgjTrYj09PRTp07JOGI1MjIaNmzYo0eP1H/dQg0IZK+BgYHff/99lSpV2AYVM+RWPhrmVhMTk8GDB3t7ewv8LkyCdSvi3bt32DL1799ful7Nzc3nzJkDOwh5GybwgF6joqLmzZtXrVo1tllFC7mVjya5tWLFiqNGjfLz88tT78VY5QghuxWRnZ19+/btgQMHFqdXiHXBggWhoaF0VIDiERkZuXDhwho1arCNK07IrXw0xq0Q65gxY3x8fIQvVoTA3YpA4l+cXiHW+fPnk1iVGGFhYYsWLVLdKchqgNzKRzPcamJiMnr0aLGIFSF8tyKQvd69exd6NTIyYhv6X/+qUqXK3Llz4QISq3IDTbpmzZrGjRujkXV0dPT19bFW03WwhIM2urVy5coTJ058/PixWMSKEIVbEdDro0ePxo4di3UDhq1Xr97q1atfv35NYlVFJCQk7N69u2nTphYWFiNHjmzRooXiJ8upDXIrH86tCxYsQOuw7SQq7O3t79+//+4zqampzCODZJmBm/KpdqH6HIUnfq5eRE0G7iXp1TiuXLkSFxeHguSMTEGSz2/21XTuqeR0yYlMufAUpswUOCRf5eCmMIWkpKSHDx86OzvDsFu2bImJiSGxqi7evn178uTJOXPmhISEYChmZWXV4DPom7xCkTCv4pGrJllgytwUwE3hJkoWmDI3BUiWGbgp3bp1c3d3Z7WiifDdirwjoyiQNH06IFHCrZs2bXJwcKhdu3b9+vUxMCmRJk2asCWpKF5N8qXC1fBt8aOuW7du586du3btcvmawlMkq6HMFApXK4wsb44p3HtyFFlt3rx527ZtY55K+eaS78arU9yC8L5AcdWYAofkFKYar86+ffswaA0KCrp48SK2ZH5lClJptvR1GRT3Eq+aJFJekgO53403o4+Pz+nTp099DbTLliQoPFGdUwAz8fLlyy9fvmS0o5F85daPHz9GREQ8efIE42UegYGBKSkpqMO59cCBA7dv30YXQudhK4kBDw+PoUOHcjcpIVQBRqbY6Hp7e//444/IU2Q59JVQBPRHa2trpIFMAkQIAfn3CcCtkZGRoaGhGAayr4kEbBLs7Oyow6sIiLVatWqrVq1iWhsbM3R7jb+Kflmho6PD3H4YowSmwQmBoJBbP10sSpxgrIrsFUvBrqGE8qhXr97x48c/3ZT0C/fu3evSpQttzFQBcyjhp7tkEgJDS92an5+P1XHGjBm0c0CJwJ4dOnS4ePFiTk4O29CfwUA1JCTE0dGRNmbKxdTUFOvwmzdvPv1bSAgMLXUryMvLi4uL++mnnzTj7OwyB6vEwIED/fz8Ph0rVgjoNSoqatGiRdJvaEjITsOGDX/55Zfk5ORPlxMjhIf2uhVgpcQ2/9ixYy1atGBXWEIumGsFIDnlZaySoLWjo6O3bt3apEkTdjZCXuzs7E6ePPnp1hiEUNFqtzK8e/fuwoULXbp0YVdbopTUrVt31apV7JlXUoFek5KSjhw50qpVK3ZmopTo6+v37Nnzzz//1Izep8GQWz+RkZFx8+ZNR0dHdv0lZMbKymrnzp3smVeykZKScvbs2V69erFvQcgMxDphwoQ7d+6kp6ezrUkIFXIrC5bL19d32rRpRkZGIjopu2zp2rWrq6vrp7vhlpLMzMzbt2+PGDFCI++ypyIsLS1nzJgRGBgoZccLIRzIrf8PMq/Y2FisvjVq1KDjMaWDFaB79+7Xrl2DJdnmKyUQREBAwPjx4ytVqkQbM+kwhwyvWLEiKirq00UwCDFAbv2Kjx8/xsfHb9y4sX79+qTXIoEHK1SoMGTIEB8fH6wMbMPJBTZmkMWcOXMgDk29C7/iYD20srJydnZ+9+4dHRIgIsitRZCdnb1t27ZmzZppzL2JlAUMiJHp8OHDo6OjlXVMZVZW1vLly6EP2j9QGOZO466urpLnYhCigNxaLG5ubvb29pKXItVy9PT06tSpM2/evCKPYFUE6PXw4cOtW7eGStgP03owPsC6hzXw2rVrbDMRooLcKo0HDx44Ojoie6UdghBrkyZN9u7dq3Sxcri7u3fu3JmyV4D1rVKlSsOGDfP392dbhxAb5NYSePbs2cSJE42Njdm1XivR1dVt2bLlsWPH2EZRGb6+vv369dPyfa9Mxjpp0qTY2Fi2XQgRQm4tgYKCgvj4+LVr12rzvlf84vfu3VPDP9Ro7ZiYmDlz5mjzzoEqVaps2rQpPT2d9rGKGnJryTBnE2E4XLt2bXb11xowQp88efLTp09zc3PZ5lAxzMEDq1evrl69OvsltAlra2v0rJSUFBKr2CG3ygT0itXdzc2t8edbv2kJpqam8+bNCw0NVZtYGZAgJyYm7t+/X9v02qZNmwsXLqSlpdGxVhoAuVVWkEdgmHbr1q1OnTppw19b1apV+/XXX6Ojo8vkUvbMxuzixYu2trbsF9J0RowYcfv2bTqZVWMgt5YOLP69e/dGjx6t2TsEkUDt2bMnISGhbBOozMzM69evY33T7I0Z1qXx48c/fvw4OzubXXJC/JBbS01+fn5gYOCUKVMsLS1FdMtiGSlXrlyHDh0wMhXIWUBY3x48eDBq1CiNPDYL2wxjY+PFixeHhISoeccLoWrIrXKCzrB27dratWtrkl4NDQ0dHR2vXLmCX5ldTgGAjVlAQMDs2bMrV66sSa1dvnz5unXrrlu3DuMDZZ3kRggHcqv8JCcnb9q0qXnz5hqQUiGBsrCwmDBhgr+/vzD/SElKSlq+fHmDBg2w7rFfWsxUqFChXbt2O3fuFNRmjFAi5FaFyMnJ+f333zGIFvWpsXp6ekjAnZyckECxCyZIsL7t3r27RYsWYt+YGRsbd+3a9eLFiyRWDYbcqijQ69WrV3v16iXSc7cgVisrqy1btghcrAxY/ZiNGfI+dgHEhqmpaf/+/T09PdlFIjQUcqtyuHfv3sCBAytVqsR2IJGABLBx48YuLi7iSqA8PDwcHBxEtzHT0dGBWMePHx8QEMAuCaG5kFuVxqtXrxYtWoR8SiwHDCFjtbe3v3TpErsAouLp06cTJkwwMDAQS2vr6uqamZmtWLHi9evX7DIQGg25VZkkJib+/PPPYsmnBg0a9PDhQ/ari5Dw8PA5c+aIZeeAhYXFtm3b6M6s2gO5VZkUFBSkpqb+/vvvwtfr5MmTAwMDRX2DkPz8/KSkJBcXF+H/kVi3bt1z585lZGQI8xgMQhWQW5UMOg+60F9//WVlZSXMa+Uh0du8eXNZncyqXNDaKSkpJ06cqF+/Prt4wqNHjx7Xrl3DWkGXX9EqyK3KB10IrXT//n1HR0dBjVh1dHTq1Klz8ODBxMREjTlYHXpNS0u7fv26ra2t0G5xpqurO2LEiKdPn2ZlZZFYtQ1yq6rAcDs4OHjs2LGmpqZsVytT4J0mTZpgZKp5t7RjNmZ+fn69e/cWzmV2jYyM5syZg3VAA8YHhByQW1VLYGDgihUratasyXa4MgLGwcgUyV12dramJlBYLl9f37lz51paWrKLXUYgXcUvvmnTppcvX9IOVq2F3KpyoqOjnZ2dra2ty2r3q5mZ2ZgxY+7cucN+IY0mMjJy6dKldevWLavW1tfXb968+datW1NTU9nvRGgl5FZ1kJycvG/fPhsbGzWfrIkEqkaNGtOmTXv+/Dn7VbSA169fQ21NmjRRv14NDAzat29/4sSJlJQU9tsQ2gq5VU2grU6fPt21a1e1/bsFsTZo0GDVqlWhoaHsl9AakDPu3r0bGzN1XmbX1NS0V69ebm5uOTk57PcgtBhyq/r48OGDp6cnuh8G6Wx3VBlIkJG4IX3T2oPVc3NzL1682LlzZxMTE7ZRVImFhcWIESMePHjAfjyh9ZBb1Qr0+vTp04kTJ6r04AEka23btj116lRGRgb7wVoJ9Hr37t1BgwapWq+WlpazZs0KDAxkP5ggyK1lwuvXr2fPnq0ivUKsSNauXr1K17FneP78+fDhwytWrMg2kFLR0dHBKGT16tXR0dHs5xHEZ8itZUNaWtquXbuUfqkR/C79+/fXqn+uZCEpKcnZ2VlfX1+5ra2rq4uM9eTJk1o+PiCKhNxaNjCHu2PEWrVqVXRRtrMqzJo1a+Lj4+mYSh5obWzMTpw4gexViXpt0qSJl5cXnXNFFAm5tcxAh8zJybl165a9vb2Cf2fDFyYmJtu3b3/z5g2JtUjQ2sguL1269M033yh+bFb58uVtbW2fPHmC7kBiJYqE3FrGoD2DgoIcHBzkPjYLaS+SXzc3t5SUFBKrFCBB5Jj+/v7t27dX5EBjIyOjkSNHRkVF0cmshBTIrWVPfn5+aGiok5MTFMl2X5mBI9q2bXvz5s3MzExKoGQhLy/Px8dn7Nix5ubmbCOWBvxGy5Yti4iIYN+OIIqB3CoUIiMjV65cWapr5VWqVKlPnz5eXl6UQJUK6BUbs5kzZ5ZqY1auXLmGDRs6OzvHxMSwb0QQxaMtbkVOh28u8MwuOjp6x44dzZo1Y3uzVCwsLMaNG+fn50dilY8XL15s2LABumQbVCrly5fH+ODw4cNxcXHs/AQhFW1xKzPuFv5FSxMTE48ePdq5c2c9PT22WxcF0ttFixY9efKEnY2QC4jSxcWlTZs20i/8amxs3L179xMnTqSlpbFzEkRJaItbkdzdvn1bFLcw+fvvvz08PPr27Vvk2UQYmSKx3bx5M93STimkpqYeP368U6dOxd2Gx9zcfMiQITdu3MjKymLnIQgZILcKkZycHAz2R4wYwTt3S19fH0nWkSNH6JZ2SiQjI8PT03PAgAGF77tlaWk5efJkf39/2vFClBZyq0DJz8+PiIiYOnUqd6VnAwMDOzs7d3f39PR0thKhJLBiQKD9+/eXPHigdu3aM2fODA8PZysRRGkgtwoatPDSpUurVatmYmLStWtXJLOiWwQRER8fP2vWLOi1XLlyaPN9+/bRZVgJuSnCrdnZ2ciM0tLS0LHxyCskJSX16NEDbt25c+fr16+56UyBgXla5Oy8AgNvuozVJAsMvKccmI5B9OXLl9FVmKfc9CILxT3lwatWuMCbscRqRRbwzXfs2DFkyBAfHx/u+zMVmEeuwHtaZKFIeNWkzM4VAMqSTwH3tMTpvAoMJVYrrgIeuQL3KKVQeDoHVully5ZhrODq6hobG8tMlPF9uKdAcgqvWuGClAoMJVYrsr5kgaHEatLrc8j+PkyhuKc8eNUKF3gzllhNegXJiZJTWA8qTBFuRU/G4AhZEkO3bt3Y0mc6d+5samqqo6NjZWVlb2/PTOTVYZ7yJspIiXPJ97ZdunRp1aoVHtnnX1DRxzFz8eaV5a2Kq4Mv36lTJ/ZJMe8sx8cBWaoVWUfG9+dR4lxKfFtZ3qpwnSJXFV415mmRE0tElmqyfJyMlDiXfG9bHCr6OGYu3ryyvJWMHydZjfWgwvDdioy1YcOG5aXCXO1CV1eXfS4SMNBjSyJE1F9edFBrazOsChWG79aCggJPT8/jx4///pk/PiNZPnToUPPmzfENJk+evH//fu4lpgCYMjfl0zxfpjAF3kRuClfglQHzFHBl3kQG7ilTAFz5yJEjK1aswGPhaijwykDyKa/MPTIFyTJXYMrcI4PkS7zp3FNemSmAVatWHTx4sPBLn2pLVJN8yiszBQbeS0xZsvD5la8KXBlIPi2yLKUgpQyKnM4UuClcoXCZe2QKkmXJwudXvirwygxFviRZBpJPJQtcmaHIlyTLQPIpbzr3yBS4KUyBN5GbwhV4ZcA8BVyZN5GBe8oUgOREDm4KV+CVgeRTXpl7ZAqSZa7AlLlHBsmXeNO5p7wyU2Ao8iUUWBUqTBH7BP7555/MzMyMYkhOTu7Zs+e///1vFxeXuLg4dqrgSU1NvXLlyrt379jnYuPatWtJSUnsE4IgVAbrQYUpwq3SoeMEyoS//vrr77//Zp8QBCF4yK3i4NGjR9nZ2ewTgiAED7lVHLx9+5aObCUIEUFuFQe5ubl0eVaCEBGa79a8D7lvEmJve9385Zedb1LTCgpEaahXr17RfVsJQkRovlv/zkjzOH9ywby5Qwb0P3L+ZmbWP+wLIqEg70No4HN3d3cl/oNJEISq0Xy3Zv2dGRn+IvV9xu3Te0bOXJH09h37ghiAWBOjQiYM7//jurV0bjtBiAgt2d/68Z+/My4c3LJ8i2tqmniyv48f09+93eO8bPbsGcuWLU1OTmanEwQheLTCrXm5OZHBj4c4Do2IfZsnnv2tH3KyQvxvOy1ef+XYjrVrVpFbCUJEaMF/Wbn/hPjfHztugv+LmLx8Md1iOi4matWCWaExKddO7iK3EoS40Hy3vo58MXXk/7Rs237wkKHDp8xLShbLXsuCqMiAEb279+s/wK5t88aNG53z8vv7HzrElSDEgea7NTfnn4TY6IjIl1HR0VEx8R/Ec4grvnlsdNTLyMhj/1k/d/YP0TFxIj2AjCC0EC35L0vEfPz48V1y/E1PT7qeAEGICHKrOEhPTxf+DcAJguAgtxIEQSgfcitBEITyIbcSBEEoH3KrOEhJSaFrDBKEiCC3igO67wBBiAtyqzggtxKEuCC3igNyK0GIC3KrOCC3EoS4ILeKA3IrQYiLUruVIAiCKBFyK0EQhPIhtxIEQSgfcitBEITyIbcSBEEoH3IrQRCE8iG3EgRBKB9yK0EQhLL573//D+dTRwIXSzYwAAAAAElFTkSuQmCC)\n"
      ]
    },
    {
      "cell_type": "markdown",
      "metadata": {
        "id": "hdBVFgBt5WGZ"
      },
      "source": [
        "\n",
        "\n",
        "**Projeto Python 02**\n",
        "\n"
      ]
    },
    {
      "cell_type": "code",
      "metadata": {
        "id": "BrUwYEB0YyEp"
      },
      "source": [
        "import math\n",
        "class Point:\n",
        " \n",
        "  def __init__(self,x,y):\n",
        "    # instance atribute\n",
        "    self.__x = x\n",
        "    self.__y = y\n",
        "  \n",
        "  # method getter\n",
        "  def get_x(self):\n",
        "    return self.__x\n",
        "    \n",
        "  # method setter\n",
        "  def set_x(self,x):\n",
        "    self.__x = x\n",
        "  \n",
        "  # method getter\n",
        "  def get_y(self):\n",
        "    return self.__y\n",
        "    \n",
        "  # method setter\n",
        "  def set_y(self,y):\n",
        "    self.__y = y  \n",
        "  \n",
        "  # instance methods  \n",
        "  def imprimir(self):\n",
        "    pass\n",
        "   # print(f\"Valor das coordenadas : ({self.__x},{self.__y})\")\n",
        "  \n",
        "  def distancia(self, p):\n",
        "    return ((self.__x - p.get_x())**2 + (self.__y - p.get_y())**2)** 0.5\n",
        "    \n",
        "  def area(self):\n",
        "    return 0\n",
        "    \n",
        "  def perimetro(self):\n",
        "    return 0\n",
        "\n",
        "    \n",
        "\n",
        "# Herança  \n",
        "class Circle(Point):\n",
        "  def __init__(self,x,y,p):\n",
        "    # instance atribute\n",
        "    super().__init__(x,y)\n",
        "    self.__r = 0\n",
        "    self.__p = p\n",
        "    \n",
        "  def set_raio(self):\n",
        "    self.__r = self.__p[0].distancia(self.__p[1])\n",
        "    \n",
        "  def get_raio(self):\n",
        "    return self.__r \n",
        "    \n",
        "  def area(self):\n",
        "    return math.pi * self.__r ** 2\n",
        "  \n",
        "  def perimetro(self):\n",
        "    return 2 * math.pi * self.__r"
      ],
      "execution_count": 191,
      "outputs": []
    },
    {
      "cell_type": "code",
      "metadata": {
        "id": "QsDmTfsndEhX",
        "outputId": "22e6a08c-6459-4330-a902-adfe2c166707",
        "colab": {
          "base_uri": "https://localhost:8080/"
        }
      },
      "source": [
        "# QUADRADO\n",
        "\n",
        "class Quadrado(Point):\n",
        "  def __init__(self,p):\n",
        "    self.__p = p\n",
        "    \n",
        "  def set_diagonal(self):\n",
        "    self.__d = self.__p[0].distancia(self.__p[1])\n",
        "    \n",
        "  def get_diagonal(self):\n",
        "    return self.__d \n",
        "    \n",
        "  def area(self):\n",
        "    return (d/(2**0.5))**2\n",
        "  \n",
        "  def perimetro(self):\n",
        "    return 4*(d/(2**0.5))\n",
        "\n",
        "\n",
        "#teste do quadrado*********************************************\n",
        "p = [0,0]\n",
        "p[0] = Point(0,0)\n",
        "p[1] = Point(5,5)\n",
        "\n",
        "#Q = Quadrado(p)\n",
        "\n",
        "d = p[0].distancia(p[1])\n",
        "print(\"A diagonal do quadrado é \",d)\n",
        "\n",
        "a = Quadrado.area(d)\n",
        "pe = Quadrado.perimetro(d)\n",
        "print(\"A área do quadrado é\",a)\n",
        "print(\"o perimetro do quadrado é \",pe)\n",
        "\n",
        "\n",
        "\n"
      ],
      "execution_count": 194,
      "outputs": [
        {
          "output_type": "stream",
          "name": "stdout",
          "text": [
            "A diagonal do quadrado é  7.0710678118654755\n",
            "A área do quadrado é 25.0\n",
            "o perimetro do quadrado é  20.0\n"
          ]
        }
      ]
    },
    {
      "cell_type": "code",
      "source": [
        "#RETANGULO***************************************************\n",
        "\n",
        "class Retangulo(Point):\n",
        "  def __init__(self,x,y,p):\n",
        "    super().__init__(x,y)\n",
        "    self.__p = p\n",
        "\n",
        "  def base(self):\n",
        "    return Point.get_x(p[1])- Point.get_x(p[0])\n",
        "\n",
        "  def altura(self):\n",
        "    return Point.get_y(p[1])- Point.get_y(p[0])\n",
        "\n",
        "  def area(self):\n",
        "    return Retangulo.base(self)*Retangulo.altura(self)\n",
        "\n",
        "  def perimetro(self):\n",
        "    return 2*Retangulo.base(self)+2*Retangulo.altura(self)\n",
        "\n",
        "#teste\n",
        "p[0] = Point(1,1)\n",
        "p[1] = Point(6,5)\n",
        "\n",
        "base_retangulo = Retangulo.base(p)\n",
        "altura_retangulo = Retangulo.altura(p)\n",
        "area_do_retangulo = Retangulo.area(p)\n",
        "perimetro = Retangulo.perimetro(p)\n",
        "\n",
        "\n",
        "print(\"base do meu retangulo\",base_retangulo)\n",
        "print(\"altura do meu retangulo\",altura_retangulo)\n",
        "print(\"area do retangulo \",area_do_retangulo)\n",
        "print(\"o perímetro do quadrado é\",perimetro)\n",
        "\n",
        "\n"
      ],
      "metadata": {
        "id": "tmR6vXXThkKP",
        "outputId": "163ba285-ea8d-44bd-c8b3-6761a4c71436",
        "colab": {
          "base_uri": "https://localhost:8080/"
        }
      },
      "execution_count": 195,
      "outputs": [
        {
          "output_type": "stream",
          "name": "stdout",
          "text": [
            "base do meu retangulo 5\n",
            "altura do meu retangulo 4\n",
            "area do retangulo  20\n",
            "o perímetro do quadrado é 18\n"
          ]
        }
      ]
    },
    {
      "cell_type": "code",
      "source": [
        "class Triangulo(Point):\n",
        "  def __init__(self,x,y,b):\n",
        "    super().__init__(x,y)\n",
        "    self.__p = b\n",
        "    self.__aa = 0\n",
        "    self.__bb = 0\n",
        "    self.__cc = 0\n",
        "\n",
        "  def perimetrotriangulo(self):\n",
        "   return aa+bb+cc\n",
        "  \n",
        "  def areatriangulo(self):\n",
        "   perimetro = (Triangulo.perimetrotriangulo(b)/2)\n",
        "   return (perimetro*(perimetro-aa)*(perimetro-bb)*(perimetro-cc))**0.5\n",
        "\n",
        "b = [0,0,0]\n",
        "b[0] = Point(1,1)\n",
        "b[1] = Point(3,1)\n",
        "b[2] = Point(2,3)\n",
        "  \n",
        "#calculando as laterais do triangulo\n",
        "aa = b[0].distancia(b[1])\n",
        "bb = b[1].distancia(b[2])\n",
        "cc = b[2].distancia(b[1])\n",
        " \n",
        "\n",
        "print(\"Perimetro do triangulo \",Triangulo.perimetrotriangulo(b),\"m\",\" e a area do triangulo\",Triangulo.areatriangulo(b),\"m²\")\n"
      ],
      "metadata": {
        "id": "OjshoafViaCi",
        "outputId": "3a325f99-5d12-4cff-b387-c6966f3dcb91",
        "colab": {
          "base_uri": "https://localhost:8080/"
        }
      },
      "execution_count": 202,
      "outputs": [
        {
          "output_type": "stream",
          "name": "stdout",
          "text": [
            "Perimetro do triangulo  6.47213595499958 m  e a area do triangulo 2.0 m²\n"
          ]
        }
      ]
    },
    {
      "cell_type": "code",
      "source": [
        "#questão 2\n",
        "#1 triangulo amarelo em pontos a(2,2),b(4,4),c(4,2)\n",
        "b = [0,0,0]\n",
        "b[0] = Point(2,2)\n",
        "b[1] = Point(4,4)\n",
        "b[2] = Point(4,2)\n",
        "\n",
        "aa = b[0].distancia(b[1])\n",
        "bb = b[1].distancia(b[2])\n",
        "cc = b[2].distancia(b[1])\n",
        "\n",
        "#calculando a area dos triangulos\n",
        "Triangulo.areatriangulo(b)\n",
        "\n",
        "#calculando a area de todos o circulos, nota-se que a soma das figuras amarelas em circulos formam 2 circulos completos\n",
        "#pegando como referencia o centro do circulo de pontos(2,4) e raio como metado da base do triangulo ao lado\n",
        "#usando a formula A = b*h/2 para triangulos retangulo\n",
        "circulo = [0,0]\n",
        "altura= float\n",
        "raiodocirculo = float\n",
        "circulo[0] = Point(2,2)\n",
        "circulo[1] = Point(4,4)\n",
        "basetriangulo =  circulo[0].distancia(circulo[1])\n",
        "altura = (2*(Triangulo.areatriangulo(b)))/basetriangulo\n",
        "\n",
        "raiodocirculo = basetriangulo/2\n",
        "cir = [0,0]\n",
        "cir[0] = Point(2,4)\n",
        "cir[1] = Point(2+raiodocirculo,2+raiodocirculo)\n",
        "\n",
        "#calculando a area dos circulos\n",
        "g = Circle(2,4,cir)\n",
        "Circle.set_raio(g)\n",
        "Circle.area(g)\n",
        "#somando todas as areas \n",
        "areatotalamarela = float\n",
        "areatotalamarela = 2*Circle.area(g) + 8*Triangulo.areatriangulo(b)\n",
        "print(\"A área amarela total é \",areatotalamarela,\"em m²\")\n",
        "#levando em consideração o rendimento do plantio de 200 sementes por metros quadrado. Cada Saco de 1 kg tem 1000 sementes\n",
        "quantidadesdesementes = 200*areatotalamarela\n",
        "quantidadedekilos = quantidadesdesementes/1000\n",
        "print(\"A quantidade de sementes \",quantidadesdesementes)\n",
        "print(\"A quantidade em Kg necessário para o plantio é \",quantidadedekilos, \" Kg\")"
      ],
      "metadata": {
        "id": "qjQcu_t_LdDP",
        "outputId": "aa40e8f8-e5c7-4475-9756-5188f29710ae",
        "colab": {
          "base_uri": "https://localhost:8080/"
        }
      },
      "execution_count": 205,
      "outputs": [
        {
          "output_type": "stream",
          "name": "stdout",
          "text": [
            "A área amarela total é  30.722418952169754 em m²\n",
            "A quantidade de sementes  6144.483790433951\n",
            "A quantidade em Kg necessário para o plantio é  6.144483790433951  Kg\n"
          ]
        }
      ]
    },
    {
      "cell_type": "code",
      "source": [
        ""
      ],
      "metadata": {
        "id": "ub9JACL5aHki"
      },
      "execution_count": null,
      "outputs": []
    }
  ]
}
