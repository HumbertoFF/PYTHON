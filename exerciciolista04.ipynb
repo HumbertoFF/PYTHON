{
  "nbformat": 4,
  "nbformat_minor": 0,
  "metadata": {
    "colab": {
      "name": "PythonList04ipynb",
      "provenance": [],
      "include_colab_link": true
    },
    "kernelspec": {
      "name": "python3",
      "display_name": "Python 3"
    },
    "language_info": {
      "name": "python"
    }
  },
  "cells": [
    {
      "cell_type": "markdown",
      "metadata": {
        "id": "view-in-github",
        "colab_type": "text"
      },
      "source": [
        "<a href=\"https://colab.research.google.com/github/equipealpha3d/py22_1list02-M20170184552/blob/feedback/PythonList04.ipynb\" target=\"_parent\"><img src=\"https://colab.research.google.com/assets/colab-badge.svg\" alt=\"Open In Colab\"/></a>"
      ]
    },
    {
      "cell_type": "markdown",
      "metadata": {
        "id": "riAXE24fUVEj"
      },
      "source": [
        "**UNIVERSIDADE FEDERAL DO RIO GRANDE DO NORTE**\n",
        "\n",
        "**DEPARTAMENTO DE ENGENHARIA MECÂNICA**\n",
        "\n",
        "*ALGORITMOS E LINGUAGEM DE PROGRAMAÇÃO ORIENTADA A OBJETOS*\n",
        "\n",
        "*PROF. CARLOS MAGNO*\n",
        "\n",
        "Quarta Lista de Exercícios\n",
        "\n",
        "Aluno:"
      ]
    },
    {
      "cell_type": "markdown",
      "metadata": {
        "id": "G05By8WHUzxJ"
      },
      "source": [
        "1 - Construa um programa que permita o registro de notas dos alunos de uma turma com o número de alunos fornecido pelo usuário, a matricula, nome e o registro de 3 notas de cada aluno. O programa deverá ser capaz de entregrar a caderneta com as seguintes informações: matricula, nome e as tres notas obtidas por cada aluno. Este registro tambem deve conter a media aritimetica das tres notas, a informação de status ( aprovado ou reprovado ), sua maior nota e menor nota. Considere média maior ou igual a 7.0 como aprovado, para o contrário reprovado. Como informação adcional o Registro deve informar qual o aluno laureado da turma, o número de alunos aprovados e reprovados, com o respectivo percentual da turma. "
      ]
    },
    {
      "cell_type": "code",
      "source": [
        "#importando as bibliotecas\n",
        "import random as rd\n",
        "#declarando as variáveis\n",
        "tam = rd.randrange(1,30)\n",
        "i=0\n",
        "x=0\n",
        "ndeaprovados=0\n",
        "ndereprovados=0\n",
        "nomes=list()\n",
        "situacao =str\n",
        "laureado = [nomes==0 for i in range(tam)]\n",
        "nome=[0,0]\n",
        "nota1=float\n",
        "nota2=float\n",
        "nota3=float\n",
        "set=0\n",
        "cont=0\n",
        "novolaureado=[nomes==0 for i in range(1)]\n",
        "nomedolaureado=[nomes for i in range(1)]\n",
        "criacaodenomes = [\"da Silva\",\"de Freitas\",\"das Graças\",\"de Alencar\",\"de Abreu\",\"de Anchieta\"]\n",
        "primeironome = [\"Maria \",\"José \",\"João \",\"Vicente \",\"Arthur \",\"Joana \"]\n",
        "alunos =[nomes for i in range(tam)]\n",
        "for i in range(tam):\n",
        "    matricula = rd.randrange(20220000,20229999)\n",
        "    nome = (str(rd.choice(primeironome))+str(rd.choice(criacaodenomes)))\n",
        "    nota1 = rd.randrange(0,10)\n",
        "    nota2 = rd.randrange(0,10)\n",
        "    nota3 = rd.randrange(0,10)\n",
        "    maiornota=max([nota1,nota2,nota3])\n",
        "    menornota=min([nota1,nota2,nota3])\n",
        "    mediaaritmetrica = (nota1+nota2+nota3)/3 \n",
        "    if mediaaritmetrica >= 7:\n",
        "        ndeaprovados+=1\n",
        "        set+=1\n",
        "        situacao='APROVADO' \n",
        "             \n",
        "    else: \n",
        "        ndereprovados+=1\n",
        "        situacao='REPROVADO'\n",
        "  \n",
        "    alunos[i]= [matricula,nome,nota1,nota2,nota3,mediaaritmetrica,maiornota,menornota,situacao]\n",
        "\n",
        "print(94*'_')\n",
        "print (\"{:<8} {:<16}{:<6}{:<6}{:<6}{:<6}{:<10}{:<10}{:<10} \".format('MATRICULA |','NOME  ','|NOTA1','|NOTA2','|NOTA3','|MÉDIA','|MAIOR NOTA ','|MENOR NOTA','|SITUAÇÃO DO ALUNO '))\n",
        "print(94*'_')\n",
        "for v in alunos:\n",
        "    matricula,nome,nota1,nota2,nota3,mediaaritmetrica,maiornota,menornota,situacao = v\n",
        "    print (\"{:<9}{:<20}{:<6.2f}{:<6.2f}{:<6.2f}{:<9.2f}{:<12.2f}{:<12.2f}{:<10}\".format( matricula,nome,nota1,nota2,nota3,mediaaritmetrica,maiornota,menornota,situacao))\n",
        "print(94*'_')\n",
        "print(\"QUANTIDADE DE APROVADOS: \",ndeaprovados,\" QUANTIDADE DE REPROVADOS: \",ndereprovados)\n",
        "print(94*'_')\n",
        "aprovados =(ndeaprovados/tam)*100\n",
        "reprovados =(ndereprovados/tam)*100\n",
        "\n",
        "print(\"PERCENTUAL DE APROVADOS\",\"{:.1f}\".format(aprovados),'%')\n",
        "print(\"PERCENTUAL DE REPROVADOS\",\"{:.1f}\".format(reprovados),'%')\n",
        "print(94*'_')\n",
        "test=[nome for i in range(tam)]\n",
        "if ndeaprovados!=0:\n",
        "  for i in range(tam):\n",
        "    laureado[i] = alunos[i][5]\n",
        "    novolaureado = max(laureado)\n",
        "    if alunos[i][5] == novolaureado:\n",
        "      nomedolaureado = alunos[i][1]\n",
        "  \n",
        "  print(\"O(a) aluno(a) laureado é \"+str(nomedolaureado)+\" e teve a média \"+str(\"{:<6.2f}\".format(novolaureado)))\n",
        "elif ndeaprovados==0:\n",
        "     print(\"Não há aluno laureado, pois não há alunos aprovados\")"
      ],
      "metadata": {
        "colab": {
          "base_uri": "https://localhost:8080/"
        },
        "id": "wj2d61uf02QE",
        "outputId": "6e48d525-2c51-4426-91e6-543ee5814e4a"
      },
      "execution_count": 19,
      "outputs": [
        {
          "output_type": "stream",
          "name": "stdout",
          "text": [
            "______________________________________________________________________________________________\n",
            "MATRICULA | NOME            |NOTA1|NOTA2|NOTA3|MÉDIA|MAIOR NOTA |MENOR NOTA|SITUAÇÃO DO ALUNO  \n",
            "______________________________________________________________________________________________\n",
            "20229142 Maria de Alencar    3.00  8.00  9.00  6.67     9.00        3.00        REPROVADO \n",
            "20220934 Maria de Abreu      3.00  9.00  6.00  6.00     9.00        3.00        REPROVADO \n",
            "20229730 Maria de Abreu      9.00  6.00  2.00  5.67     9.00        2.00        REPROVADO \n",
            "20224157 João de Alencar     9.00  7.00  7.00  7.67     9.00        7.00        APROVADO  \n",
            "20225146 Maria de Freitas    1.00  3.00  6.00  3.33     6.00        1.00        REPROVADO \n",
            "20229441 Arthur da Silva     4.00  8.00  4.00  5.33     8.00        4.00        REPROVADO \n",
            "20227122 Vicente de Freitas  2.00  1.00  5.00  2.67     5.00        1.00        REPROVADO \n",
            "20226235 Maria das Graças    4.00  3.00  2.00  3.00     4.00        2.00        REPROVADO \n",
            "20229050 Maria de Abreu      1.00  7.00  3.00  3.67     7.00        1.00        REPROVADO \n",
            "20227877 Arthur das Graças   1.00  8.00  1.00  3.33     8.00        1.00        REPROVADO \n",
            "20228094 José de Abreu       4.00  1.00  0.00  1.67     4.00        0.00        REPROVADO \n",
            "20222695 Vicente de Alencar  0.00  8.00  4.00  4.00     8.00        0.00        REPROVADO \n",
            "20225245 Joana de Anchieta   9.00  8.00  4.00  7.00     9.00        4.00        APROVADO  \n",
            "______________________________________________________________________________________________\n",
            "QUANTIDADE DE APROVADOS:  2  QUANTIDADE DE REPROVADOS:  11\n",
            "______________________________________________________________________________________________\n",
            "PERCENTUAL DE APROVADOS 15.4 %\n",
            "PERCENTUAL DE REPROVADOS 84.6 %\n",
            "______________________________________________________________________________________________\n",
            "O(a) aluno(a) laureado é João de Alencar e teve a média 7.67  \n"
          ]
        }
      ]
    },
    {
      "cell_type": "markdown",
      "metadata": {
        "id": "0BTfrFSBXKl2"
      },
      "source": [
        "**NOTA: Todos os dados fornecidos para execução dos seguintes exercícios devem ser gerados randomicamente**"
      ]
    },
    {
      "cell_type": "markdown",
      "metadata": {
        "id": "PtjshOSlWtjJ"
      },
      "source": [
        "2 - Gerar randomicamente uma lista( lista A ) de 20 elementos e executar as seguintes operações:\n",
        "\n",
        "a ) Atribui a uma nova lista ( lista B ) com os elemento da lista A em ordem inversa\n",
        "\n",
        "b ) Atribuir a uma nova lista ( lista C ) a soma dos elementos da lista A com a lista B\n",
        "\n",
        "c ) Atribuir a uma nova lista ( lista D ) o valor correspondente a seu fatorial"
      ]
    },
    {
      "cell_type": "code",
      "metadata": {
        "id": "rIn666mKWseZ",
        "colab": {
          "base_uri": "https://localhost:8080/"
        },
        "outputId": "2bba40a8-2040-4195-a90f-920846ef3648"
      },
      "source": [
        "\n",
        "import random as rd\n",
        "num=int\n",
        "a = [num for i in range(20)] #lista A\n",
        "for i in range(len(a)):\n",
        "  a[i] =rd.randrange(0,10)\n",
        "print(a)\n",
        "#resposta item a\n",
        "b = [num for i in range(20)] #lista B\n",
        "x=19\n",
        "\n",
        "for j in range(20):\n",
        "  b[j]=a[x]\n",
        "  x-=1\n",
        "print(b)\n",
        "#resposta item b\n",
        "c = [num for i in range(20)] #lista C\n",
        "for i in range(20):\n",
        " c[i] = a[i]+b[i]\n",
        "print(c)\n",
        "#resposta item c, fatorial em relação da lista A\n",
        "import math\n",
        "d = [num for i in range(20)] #lista D\n",
        "for i in range(20):\n",
        " d[i] = math.factorial(a[i])\n",
        "print(d)\n"
      ],
      "execution_count": 2,
      "outputs": [
        {
          "output_type": "stream",
          "name": "stdout",
          "text": [
            "[5, 1, 1, 2, 4, 3, 0, 7, 6, 2, 7, 9, 4, 2, 4, 5, 9, 9, 3, 3]\n",
            "[3, 3, 9, 9, 5, 4, 2, 4, 9, 7, 2, 6, 7, 0, 3, 4, 2, 1, 1, 5]\n",
            "[8, 4, 10, 11, 9, 7, 2, 11, 15, 9, 9, 15, 11, 2, 7, 9, 11, 10, 4, 8]\n",
            "[120, 1, 1, 2, 24, 6, 1, 5040, 720, 2, 5040, 362880, 24, 2, 24, 120, 362880, 362880, 6, 6]\n"
          ]
        }
      ]
    },
    {
      "cell_type": "markdown",
      "metadata": {
        "id": "Lmw50UHRY-S-"
      },
      "source": [
        "3 - Gerar duas listas ( lista A e Lista B ). A lista A só devera aceitar números divisíveis por 4 e a lista B só deverá aceitar números divisíveis por 5 Costruir uma nova lista ( lista C ) que agregue os elementos da lista A e lista B"
      ]
    },
    {
      "cell_type": "code",
      "metadata": {
        "id": "I-nwzlbcZsLj",
        "colab": {
          "base_uri": "https://localhost:8080/"
        },
        "outputId": "861d562f-233e-402c-da28-d38e8bd4a0d6"
      },
      "source": [
        "import random as rd\n",
        "n=int\n",
        "a = list() #lista A\n",
        "b = list() #lista B \n",
        "num = int\n",
        "c= list()\n",
        "for i in range(20):\n",
        "  num=rd.randrange(0,1000)\n",
        "  if num % 4 == 0:\n",
        "    a.append(num)\n",
        "  if num % 5 == 0:\n",
        "    b.append(num)\n",
        "c=a+b #list c\n",
        "print(\"LISTA A Nº DIVISÍVEIS POR 4: \"+str(a))\n",
        "print(\"LISTA B Nº DIVISÍVEIS POR 5: \"+str(b))\n",
        "print(\"LISTA C: \"+str(c))"
      ],
      "execution_count": 5,
      "outputs": [
        {
          "output_type": "stream",
          "name": "stdout",
          "text": [
            "LISTA A Nº DIVISÍVEIS POR 4: [508, 900, 416, 428]\n",
            "LISTA B Nº DIVISÍVEIS POR 5: [485, 625, 900, 545, 495]\n",
            "LISTA C: [508, 900, 416, 428, 485, 625, 900, 545, 495]\n"
          ]
        }
      ]
    },
    {
      "cell_type": "markdown",
      "metadata": {
        "id": "3JPkri0eZt4d"
      },
      "source": [
        "4 - Gerar uma lista ( lista A ) de tamanho 10 com valores entre 1 e 20. Construa uma nova lista ( lista B - matriz de 3 colunas ) que tenha como elementos da primeira coluna os elementos da lista A elevados ao quadrado. Os elementos da segunda coluna os elementos da lista A * 5 e finalmente os elementos da terceira coluna o fatorial dos elementos da lista A"
      ]
    },
    {
      "cell_type": "code",
      "metadata": {
        "id": "Est1ZpRxcNOX",
        "colab": {
          "base_uri": "https://localhost:8080/"
        },
        "outputId": "cb0a0ce6-e68f-4f4c-c3e2-f8ec6258eca9"
      },
      "source": [
        "import random as rd\n",
        "import math as mt\n",
        "n=int\n",
        "a = list() #lista A\n",
        "num = int\n",
        "\n",
        "\n",
        "\n",
        "for i in range(10):\n",
        "  num=rd.randrange(1,20)\n",
        "  a.append(num)\n",
        "print(a)\n",
        "b = [] #lista B \n",
        "\n",
        "for i in range(10):\n",
        "  linha=[]\n",
        "  for j in range(1):\n",
        "    elemento=((a[i]**(2)),a[i]*5,mt.factorial(a[i]))\n",
        "    linha.append(elemento)\n",
        "  b.append(linha)\n",
        "for i in range(10):\n",
        " print(b[i])"
      ],
      "execution_count": null,
      "outputs": [
        {
          "output_type": "stream",
          "name": "stdout",
          "text": [
            "[17, 14, 18, 3, 7, 11, 10, 7, 4, 9]\n",
            "[(289, 85, 355687428096000)]\n",
            "[(196, 70, 87178291200)]\n",
            "[(324, 90, 6402373705728000)]\n",
            "[(9, 15, 6)]\n",
            "[(49, 35, 5040)]\n",
            "[(121, 55, 39916800)]\n",
            "[(100, 50, 3628800)]\n",
            "[(49, 35, 5040)]\n",
            "[(16, 20, 24)]\n",
            "[(81, 45, 362880)]\n"
          ]
        }
      ]
    },
    {
      "cell_type": "markdown",
      "metadata": {
        "id": "U8icPXtucRfU"
      },
      "source": [
        "\n",
        "5 - Gerar uma lista aninhada ( matriz 4 x 4 ) com valores entre 10 e 50 e apresentar o somatório dos elementos da diagonal pricipal e da diagonal secundária da matriz"
      ]
    },
    {
      "cell_type": "code",
      "metadata": {
        "id": "-cmOg5PBcjRt",
        "colab": {
          "base_uri": "https://localhost:8080/"
        },
        "outputId": "8ff54710-f9f3-4181-8112-832f58f246c5"
      },
      "source": [
        "import random as rd\n",
        "import math as mt\n",
        "n=int\n",
        "num = int\n",
        "dprincipal=list()\n",
        "dsecundaria=list()\n",
        "b = [] \n",
        "\n",
        "for i in range(4):\n",
        "  linha=[]\n",
        "  for j in range(4):\n",
        "    elemento=rd.randrange(10,50)\n",
        "    linha.append(elemento)\n",
        "  b.append(linha)\n",
        "for i in range(4):\n",
        " dprincipal=b[0][0]+b[1][1]+b[2][2]+b[3][3]\n",
        " dsecundaria=b[0][3]+b[1][2]+b[2][1]+b[3][0]\n",
        " print(b[i])\n",
        "print(\"SOMATÓRIO DOS VALORES DA DIAGONAL PRINCIPAL: \"+str(dprincipal))\n",
        "print(\"SOMATÓRIO DOS VALORES DA DIAGONAL SECUNDÁRIA: \"+str(dsecundaria))\n"
      ],
      "execution_count": null,
      "outputs": [
        {
          "output_type": "stream",
          "name": "stdout",
          "text": [
            "[37, 37, 17, 16]\n",
            "[11, 30, 26, 14]\n",
            "[37, 41, 22, 47]\n",
            "[12, 23, 42, 17]\n",
            "SOMATÓRIO DOS VALORES DA DIAGONAL PRINCIPAL: 106\n",
            "SOMATÓRIO DOS VALORES DA DIAGONAL SECUNDÁRIA: 95\n"
          ]
        }
      ]
    },
    {
      "cell_type": "markdown",
      "metadata": {
        "id": "jNMypCB1ckAT"
      },
      "source": [
        "6 - Gerar uma lista aninhada ( matriz 10 x 7 ) com valores entre 20 e 60. Apresente o numero total de elementos pares e impáres da matriz, assim como o somatório dos mesmos."
      ]
    },
    {
      "cell_type": "code",
      "metadata": {
        "id": "GF-7HQXVdSfm",
        "colab": {
          "base_uri": "https://localhost:8080/"
        },
        "outputId": "33cac852-755a-4d0b-aacf-86191fff5b51"
      },
      "source": [
        "import random as rd\n",
        "import math as mt\n",
        "n=int\n",
        "num = int\n",
        "d=list()\n",
        "imp=list()\n",
        "b = [] \n",
        "\n",
        "for i in range(10):\n",
        "  linha=[]\n",
        "  for j in range(7):\n",
        "    elemento=rd.randrange(20,60)\n",
        "    linha.append(elemento)\n",
        "  b.append(linha)\n",
        "cont=0\n",
        "contimp=0\n",
        "for i in range(10):\n",
        " for j in range (7):\n",
        "  if b[i][j] %2==0:\n",
        "   d.append(b[i][j])\n",
        "   cont+=1\n",
        "  if b[i][j] %2!=0:\n",
        "   imp.append(b[i][j])\n",
        "   contimp+=1\n",
        " print(b[i])\n",
        "print(\"TODOS OS ELEMENTOS PARES DA MATRIZ: \")\n",
        "print(str(d))\n",
        "print(\"AO TODO SÃO \"+str(cont)+\" elementos pares\")\n",
        "print(\"A SOMA DOS ELEMENTOS PARES É: \"+str(sum(d)))\n",
        "print(\"TODOS OS ELEMENTOS IMPARES DA MATRIZ: \")\n",
        "print(str(imp))\n",
        "print(\"AO TODO SÃO \"+str(contimp)+\" elementos impares\")\n",
        "print(\"A SOMA DOS ELEMENTOS IMPARES É: \"+str(sum(imp)))"
      ],
      "execution_count": null,
      "outputs": [
        {
          "output_type": "stream",
          "name": "stdout",
          "text": [
            "[32, 28, 49, 29, 27, 57, 33]\n",
            "[46, 54, 35, 55, 43, 34, 31]\n",
            "[33, 56, 45, 51, 33, 47, 42]\n",
            "[23, 30, 25, 52, 27, 28, 45]\n",
            "[32, 59, 40, 56, 48, 31, 46]\n",
            "[56, 36, 41, 20, 21, 36, 21]\n",
            "[56, 35, 57, 21, 48, 47, 33]\n",
            "[25, 42, 35, 30, 23, 58, 34]\n",
            "[40, 29, 53, 49, 50, 37, 34]\n",
            "[27, 27, 52, 43, 51, 36, 25]\n",
            "TODOS OS ELEMENTOS PARES DA MATRIZ: \n",
            "[32, 28, 46, 54, 34, 56, 42, 30, 52, 28, 32, 40, 56, 48, 46, 56, 36, 20, 36, 56, 48, 42, 30, 58, 34, 40, 50, 34, 52, 36]\n",
            "AO TODO SÃO 30 elementos pares\n",
            "A SOMA DOS ELEMENTOS PARES É: 1252\n",
            "TODOS OS ELEMENTOS IMPARES DA MATRIZ: \n",
            "[49, 29, 27, 57, 33, 35, 55, 43, 31, 33, 45, 51, 33, 47, 23, 25, 27, 45, 59, 31, 41, 21, 21, 35, 57, 21, 47, 33, 25, 35, 23, 29, 53, 49, 37, 27, 27, 43, 51, 25]\n",
            "AO TODO SÃO 40 elementos impares\n",
            "A SOMA DOS ELEMENTOS IMPARES É: 1478\n"
          ]
        }
      ]
    }
  ]
}
