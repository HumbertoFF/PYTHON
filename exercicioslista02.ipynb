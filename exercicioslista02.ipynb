{
  "nbformat": 4,
  "nbformat_minor": 0,
  "metadata": {
    "colab": {
      "name": "PythonList00.ipynb",
      "provenance": [],
      "include_colab_link": true
    },
    "kernelspec": {
      "name": "python3",
      "display_name": "Python 3"
    },
    "language_info": {
      "name": "python"
    }
  },
  "cells": [
    {
      "cell_type": "markdown",
      "metadata": {
        "id": "view-in-github",
        "colab_type": "text"
      },
      "source": [
        "<a href=\"https://colab.research.google.com/github/equipealpha3d/py22_1list00-M20170184552/blob/feedback/PythonList01.ipynb\" target=\"_parent\"><img src=\"https://colab.research.google.com/assets/colab-badge.svg\" alt=\"Open In Colab\"/></a>"
      ]
    },
    {
      "cell_type": "markdown",
      "metadata": {
        "id": "schpZkvm45c6"
      },
      "source": [
        "*ALGORITMOS E LINGUAGEM DE PROGRAMAÇÃO ORIENTADA A OBJETOS*"
      ]
    },
    {
      "cell_type": "markdown",
      "metadata": {
        "id": "hdBVFgBt5WGZ"
      },
      "source": [
        "**SEGUNDA LISTA DE EXERCÍCIOS**\n",
        "\n",
        "ESTRUTURAS DE DECISÃO\n",
        "\n",
        "1 - Construa um algoritmo que receba dois números inteiros e informe qual é o maior entre os números digitados. \n"
      ]
    },
    {
      "cell_type": "code",
      "metadata": {
        "id": "EbsnjVzY3BQN",
        "outputId": "65abe3c7-8ef2-4ced-b618-66d6ef557932",
        "colab": {
          "base_uri": "https://localhost:8080/"
        }
      },
      "source": [
        "a = int(input(\"Digite o valor de a \"))\n",
        "\n",
        "b = int(input(\"Digite o valor de b \"))\n",
        "\n",
        "if a > b: \n",
        " print(\"a é maior que b \")\n",
        "else:\n",
        "  if b > a:\n",
        "   print(\"b é maior que a \")\n",
        "  else:\n",
        "    if a == b:\n",
        "     print(\"a é igual a b, tente novamente \")\n",
        "\n"
      ],
      "execution_count": null,
      "outputs": [
        {
          "output_type": "stream",
          "name": "stdout",
          "text": [
            "Digite o valor de a 5\n",
            "Digite o valor de b 5\n",
            "a é igual a b, tente novamente \n"
          ]
        }
      ]
    },
    {
      "cell_type": "markdown",
      "metadata": {
        "id": "228bEMvO_Yl1"
      },
      "source": [
        "2 - Ler um valor numerico inteiro e informar se o mesmo é impar ou par"
      ]
    },
    {
      "cell_type": "code",
      "metadata": {
        "id": "ZN0IsTHh_kGo",
        "outputId": "4318ced3-17fd-4631-a2fe-5ce168fb8f73",
        "colab": {
          "base_uri": "https://localhost:8080/"
        }
      },
      "source": [
        "num = int(input(\"Digite o número e veja se é par ou impar: \"))\n",
        "\n",
        "if num % 2 != 0: \n",
        "  print(\"O número é ímpar. \")\n",
        "else:\n",
        "  if num % 2 == 0:\n",
        "   print(\"O número é par. \")  "
      ],
      "execution_count": null,
      "outputs": [
        {
          "output_type": "stream",
          "name": "stdout",
          "text": [
            "Digite o número e veja se é par ou impar: 5\n",
            "O número é ímpar. \n"
          ]
        }
      ]
    },
    {
      "cell_type": "markdown",
      "metadata": {
        "id": "5OTNr7Jh_k52"
      },
      "source": [
        "3 - Ler tres valores numericos diferentes de zero e representados pelas variáveis a,b e c. Efetuar o cálculo da equação de segundo grau ( utilizando a fórmula de Baskara ). Considerar todas as possiveis condições para delta < 0, delta > 0 e delta = 0. "
      ]
    },
    {
      "cell_type": "code",
      "metadata": {
        "id": "MZqpLOjo_uCn",
        "outputId": "89fd718f-25f6-4832-cb60-9edff66efb8f",
        "colab": {
          "base_uri": "https://localhost:8080/"
        }
      },
      "source": [
        "a = float(input(\"Entre com o valor de a: \"))\n",
        "b = float(input(\"Entre com o valor de b: \"))\n",
        "c = float(input(\"Entre com o valor de c: \"))\n",
        "\n",
        "delta = (b ** 2) - 4 * a * c\n",
        "\n",
        "if a == 0 or b == 0 or c == 0:\n",
        "  print(\"Os valores devem ser diferentes de 0\")\n",
        "else:\n",
        "  print(\"O valor de delta é: \",delta)\n",
        "  if delta < 0:\n",
        "   print(\"Como delta é menor que zero, a equação não terá raízes reais, pois não existe raiz quadrada de número negativo.\")\n",
        "  else: \n",
        "   if delta == 0:\n",
        "     print(\"Como delta é igual a zero, a equação terá somente um valor real ou dois resultados iguais\")\n",
        "   elif delta > 0:\n",
        "     print(\"Como delta é maior que zero, a equação apresentará duas raízes reais e diferentes. \")\n",
        "   x1 = (-b + delta ** (1 / 2)) / (2 * a)\n",
        "   x2 = (-b - delta ** (1 / 2)) / (2 * a)\n",
        "\n",
        "   print(\"x1:\",x1, \"x2:\",x2)\n",
        "#REFERÊNCIA https://brasilescola.uol.com.br/matematica/raiz-uma-equacao-2-grau.htm"
      ],
      "execution_count": null,
      "outputs": [
        {
          "output_type": "stream",
          "name": "stdout",
          "text": [
            "Entre com o valor de a: 4\n",
            "Entre com o valor de b: -4\n",
            "Entre com o valor de c: 1\n",
            "O valor de delta é:  0.0\n",
            "Como delta é igual a zero, a equação terá somente um valor real ou dois resultados iguais\n",
            "x1: 0.5 x2: 0.5\n"
          ]
        }
      ]
    },
    {
      "cell_type": "markdown",
      "metadata": {
        "id": "yfJJ6VRs_uwT"
      },
      "source": [
        "4 - Ler um valor numerico inteiro e apresentar a mensagem se ele é divisível por 2 e por 3"
      ]
    },
    {
      "cell_type": "code",
      "metadata": {
        "id": "bOrA7G1zEDNs",
        "outputId": "356c9743-a204-46f6-de4e-75dc2dbe0396",
        "colab": {
          "base_uri": "https://localhost:8080/"
        }
      },
      "source": [
        "#Verificar se o número é divisível por 4 e por 5;\n",
        "valor = int(input(\"digite o valor inteiro que seja divisível por 2 e por 3 \"))\n",
        "if valor % 2 == 0 and valor % 3 == 0:\n",
        "  print(\"O número é divisível por 2 e 3 \")\n",
        "else:\n",
        "  print(\"Não é divisível por 2 e 3 \")"
      ],
      "execution_count": null,
      "outputs": [
        {
          "output_type": "stream",
          "name": "stdout",
          "text": [
            "digite o valor inteiro que seja divisível por 2 e por 3 5\n",
            "Não é divisível por 2 e 3 \n"
          ]
        }
      ]
    },
    {
      "cell_type": "markdown",
      "metadata": {
        "id": "7ASew0UjEDsc"
      },
      "source": [
        "5 -  Ler três valores para os lados de um triângulo, considerando lados como: A,B e C. Verificar se os lados fornecidos realmente formam um triângulo. Caso verdade voce deverá indicar se o triângulo formado é: is´sceles, escaleno ou equilátero."
      ]
    },
    {
      "cell_type": "code",
      "metadata": {
        "id": "JOBiMabUEV9E",
        "outputId": "9fdde3ff-7fd0-42d8-8de8-536d57824262",
        "colab": {
          "base_uri": "https://localhost:8080/"
        }
      },
      "source": [
        "A = float(input(\"INSIRA O VALOR DO LADO A \")) \n",
        "B = float(input(\"INSIRA O VALOR DO LADO B \"))\n",
        "C = float(input(\"INSIRA O VALOR DO LADO C \"))\n",
        "\n",
        "if (A - B) < C and C < (A + B):\n",
        "  if A != B and B != C:\n",
        "    print(\"Esse é um triângulo ESCALENO, pois todos os lados apresentarem medidas diferentes.\")\n",
        "  elif (A == B and B != C) or (B == C and C != A) :\n",
        "    print(\"Esse é um triângulo ISÓSCELES, pois dois de seus lados são congruentes, ou seja, apresentam a mesma medida, e o terceiro lado é diferente.\")\n",
        "  elif (A == B and B == C):\n",
        "    print(\"Esse é um triângulo EQUILÁTERO, pois todos os seus lados são iguais, isto é, todos os lados têm a mesma medida.\")\n",
        "else:\n",
        "  print(\"NÃO É POSSÍVEL FORMAR UM TRIÂNGULO COM ESSES VALORES\")"
      ],
      "execution_count": null,
      "outputs": [
        {
          "output_type": "stream",
          "name": "stdout",
          "text": [
            "INSIRA O VALOR DO LADO A 2\n",
            "INSIRA O VALOR DO LADO A 3\n",
            "INSIRA O VALOR DO LADO A 6\n",
            "NÃO É POSSÍVEL FORMAR UM TRIÂNGULO COM ESSES VALORES\n"
          ]
        }
      ]
    },
    {
      "cell_type": "markdown",
      "metadata": {
        "id": "EYP96mo_EWvJ"
      },
      "source": [
        " 6 - Construa um algoritmo que calcule seu peso ideal, utilizando as seguintes fórmulas, e indique se há sobrepeso, conforme a tabela abaixo\n",
        "\n",
        "- para homens: (72.7*h)-58                \n",
        "[ sobrepeso = 100 kg ]\n",
        "\n",
        "- para mulheres: (62.1*h)-44.7            \n",
        "[ sobrepeso = 80 kg ]"
      ]
    },
    {
      "cell_type": "code",
      "metadata": {
        "id": "dDjnOtvyEkzN",
        "outputId": "16a7d480-5f1e-4b97-9afd-dfe0a47cf2c9",
        "colab": {
          "base_uri": "https://localhost:8080/"
        }
      },
      "source": [
        "#ENTRADA DAS VARIÁVEIS\n",
        "ALTURA = float(input(\"DIGITE A SUA ALTURA EM METROS  \"))\n",
        "SEXO = input(\"DIGITE M PARA SEXO MASCULINO E F PARA SEXO FEMININO \")\n",
        "PESOATUAL = float(input(\"DIGITE SEU PESO ATUAL EM KG \"))\n",
        "#CONDIÇÃO PARA ENTRADA DE DADOS\n",
        "\n",
        "if SEXO == \"M\" or SEXO == \"m\" :\n",
        "  PESO = (72.7*ALTURA)-58 #FÓRMULA DO PESO IDEAL\n",
        "  if PESOATUAL >= 100:\n",
        "    print(\"VOCÊ ESTÁ COM SOBREPESO \")\n",
        "  \n",
        "  print(f'SEU PESO IDEAL DEVE SER KG {PESO:.2f}')\n",
        "elif SEXO == \"F\" or SEXO == \"f\":\n",
        "  PESO = (62.1*ALTURA)-44.7 #FÓRMULA DO PESO IDEAL\n",
        "  if PESOATUAL >= 80:\n",
        "    print(\"VOCÊ ESTÁ COM SOBREPESO \")\n",
        "  print(f'SEU PESO IDEAL DEVE SER KG {PESO:.2f}') #IMPRESSÃO DOS DADOS COM 2 CASAS DECIMAIS\n",
        "else: print(\"INFORMAÇÃO ERRADA INSERIDA\")\n",
        "\n",
        "\n"
      ],
      "execution_count": null,
      "outputs": [
        {
          "output_type": "stream",
          "name": "stdout",
          "text": [
            "DIGITE A SUA ALTURA EM METROS  1.632\n",
            "DIGITE M PARA SEXO MASCULINO E F PARA SEXO FEMININO F\n",
            "DIGITE SEU PESO ATUAL EM KG 90\n",
            "VOCÊ ESTÁ COM SOBREPESO \n",
            "SEU PESO IDEAL DEVE SER KG 56.65\n"
          ]
        }
      ]
    },
    {
      "cell_type": "markdown",
      "metadata": {
        "id": "pSHUsX9wEmC7"
      },
      "source": [
        "7 - Ler um valor númerico inteiro qualquer e apresentar o valor caso o mesmo não seja maior que 3. Utilizar o operador lógico **not**"
      ]
    },
    {
      "cell_type": "code",
      "metadata": {
        "id": "zI_SMK8DEtIv",
        "outputId": "3966e6fd-2331-40ca-8b55-0aeca4321c6d",
        "colab": {
          "base_uri": "https://localhost:8080/"
        }
      },
      "source": [
        "num = int(input(\"Digite um número inteiro maior que 3 \"))\n",
        "\n",
        "if not num > 3:\n",
        "  print(\"Número não é maior que 3 \")\n",
        "else:\n",
        "  print(\"Número =\", num)"
      ],
      "execution_count": null,
      "outputs": [
        {
          "output_type": "stream",
          "name": "stdout",
          "text": [
            "Digite um número inteiro maior que 3 3\n",
            "Número não é maior que 3 \n"
          ]
        }
      ]
    },
    {
      "cell_type": "markdown",
      "metadata": {
        "id": "_wvIhB4sEt1D"
      },
      "source": [
        "8 - Considere que 5 times participam de um campeonato. Um deles é o seu preferido, para o time que você escolher como seu preferido escreva uma mensagem que justifique a sua torcida."
      ]
    },
    {
      "cell_type": "code",
      "metadata": {
        "id": "UzdGCeUDhX8w",
        "outputId": "b1080773-d3d7-48e3-e3c5-db7800e7c8a6",
        "colab": {
          "base_uri": "https://localhost:8080/"
        }
      },
      "source": [
        "#entrada do time\n",
        "print(\" Escolha seu time: \")\n",
        "print(\" 1. América\")\n",
        "print(\" 2. ABC\")\n",
        "print(\" 3. Alecrim\")\n",
        "print(\" 4. Potiguar\")\n",
        "print(\" 5. Globo\")\n",
        "\n",
        "time = int(input(\" insira o número correspondente \"))\n",
        "if time == 1: \n",
        " print(\"Você americano\")\n",
        "elif time == 2: \n",
        " print(\"você é Abcdista\")\n",
        "elif time == 3:\n",
        " print(\"você é Alecrinense\")\n",
        "elif time == 4: \n",
        " print(\"você é potiguanhese\")\n",
        "elif time == 5: \n",
        " print(\"você é globoense\")\n",
        "else: \n",
        " print(\"número errado,escolha uma das opções\")\n"
      ],
      "execution_count": null,
      "outputs": [
        {
          "output_type": "stream",
          "name": "stdout",
          "text": [
            " Escolha seu time: \n",
            " 1. América\n",
            " 2. ABC\n",
            " 3. Alecrim\n",
            " 4. Potiguar\n",
            " 5. Globo\n",
            " insira o número correspondente 7\n",
            "número errado,escolha uma das opções\n"
          ]
        }
      ]
    },
    {
      "cell_type": "markdown",
      "source": [
        "Exercício da página 45 do livro"
      ],
      "metadata": {
        "id": "SwAqgzb7Er43"
      }
    },
    {
      "cell_type": "code",
      "source": [
        "#cálculo do reajuste de salário de um funcionário. \n",
        "salario =  float(input(\"Digite o salário \"))\n",
        "novo_salario = 0\n",
        "if salario < 500:\n",
        "  novo_salario = salario * 1.15\n",
        "  print(\"salário aumentou 15% e foi para R$\"+str(novo_salario))\n",
        "elif salario <= 1000 :\n",
        "  novo_salario = salario * 1.10\n",
        "  print(\"salário aumentou 10% e foi para R$\"+str(novo_salario))\n",
        "else:\n",
        "  novo_salario = salario * 1.05\n",
        "  print(\"salário aumentou 5% e foi para R$\"+str(novo_salario))\n",
        "\n"
      ],
      "metadata": {
        "colab": {
          "base_uri": "https://localhost:8080/"
        },
        "id": "tsN8dRsqEwDH",
        "outputId": "fb81ad07-3591-4191-f0d3-bfe0d34809fc"
      },
      "execution_count": null,
      "outputs": [
        {
          "output_type": "stream",
          "name": "stdout",
          "text": [
            "Digite o salário 1000\n",
            "salário aumentou 10% e foi para R$1100.0\n"
          ]
        }
      ]
    },
    {
      "cell_type": "markdown",
      "source": [
        "Exercício da pág. 54"
      ],
      "metadata": {
        "id": "n9huv4QZK2eO"
      }
    },
    {
      "cell_type": "code",
      "source": [
        "#Verificar se o número é divisível por 4 e por 5;\n",
        "valor = int(input(\"digite o valor inteiro que seja divisível por 4 e por 5 \"))\n",
        "if valor % 4 == 0 and valor % 5 == 0:\n",
        "  print(\"O número é divisível por 4 e 5 \")\n",
        "else:\n",
        "  print(\"Não é divisível por 4 e 5 \")"
      ],
      "metadata": {
        "colab": {
          "base_uri": "https://localhost:8080/"
        },
        "id": "a8yQ6Ii2FNRA",
        "outputId": "d7a1c3e4-3c62-4585-a21b-fa066ce84df8"
      },
      "execution_count": null,
      "outputs": [
        {
          "output_type": "stream",
          "name": "stdout",
          "text": [
            "digite o valor inteiro 100\n",
            "O número é divisível por 4 e 5 \n"
          ]
        }
      ]
    }
  ]
}
